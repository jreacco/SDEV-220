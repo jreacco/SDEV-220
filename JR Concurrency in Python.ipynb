{
 "cells": [
  {
   "cell_type": "code",
   "execution_count": null,
   "id": "cedf8eca-86e0-4d95-af21-5272afd31712",
   "metadata": {},
   "outputs": [],
   "source": [
    "#Jasmine Reacco\n",
    "#02/17/2025\n",
    "#M06 Concurrency in Python\n"
   ]
  },
  {
   "cell_type": "code",
   "execution_count": null,
   "id": "870846a9-12d4-4e6f-8211-8e15d4a0e06e",
   "metadata": {},
   "outputs": [],
   "source": [
    "#13.1\n",
    "from datetime import date\n",
    "\n",
    "\n",
    "today = date.today()\n",
    "with open(\"today.txt\", \"w\") as file:\n",
    "    file.write(today.isoformat())\n",
    "\n",
    "print(\"Date written to today.txt:\", today)\n"
   ]
  },
  {
   "cell_type": "code",
   "execution_count": null,
   "id": "1ced1e0d-54c2-4336-858d-884767878946",
   "metadata": {},
   "outputs": [],
   "source": [
    "#13.2\n",
    "with open(\"today.txt\", \"r\") as file:\n",
    "    today_string = file.read()\n",
    "\n",
    "print(\"Read date from file:\", today_string)"
   ]
  },
  {
   "cell_type": "code",
   "execution_count": null,
   "id": "524b4a04-5352-4c4c-9d59-113a701a660d",
   "metadata": {},
   "outputs": [],
   "source": [
    "#13.3\n",
    "parsed_date = date.fromisoformat(today_string)\n",
    "print(\"Parsed Date:\", parsed_date)"
   ]
  },
  {
   "cell_type": "code",
   "execution_count": null,
   "id": "abbd6621-1d0d-4248-a55d-2a7187105b79",
   "metadata": {},
   "outputs": [],
   "source": [
    "#15.1\n",
    "import multiprocessing\n",
    "import time\n",
    "import random\n",
    "\n",
    "def print_time():\n",
    "    wait_time = random.uniform(0, 1)  # Random wait time between 0 and 1 second\n",
    "    time.sleep(wait_time)\n",
    "    print(\"Current Time:\", time.strftime(\"%H:%M:%S\"))\n",
    "\n",
    "if __name__ == \"__main__\":\n",
    "    processes = [multiprocessing.Process(target=print_time) for _ in range(3)]\n",
    "\n",
    "    for process in processes:\n",
    "        process.start()\n",
    "\n",
    "    for process in processes:\n",
    "        process.join()"
   ]
  }
 ],
 "metadata": {
  "kernelspec": {
   "display_name": "anaconda-ai-2024.04-py310",
   "language": "python",
   "name": "conda-env-anaconda-ai-2024.04-py310-py"
  },
  "language_info": {
   "codemirror_mode": {
    "name": "ipython",
    "version": 3
   },
   "file_extension": ".py",
   "mimetype": "text/x-python",
   "name": "python",
   "nbconvert_exporter": "python",
   "pygments_lexer": "ipython3",
   "version": "3.10.13"
  }
 },
 "nbformat": 4,
 "nbformat_minor": 5
}
