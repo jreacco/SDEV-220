{
 "cells": [
  {
   "cell_type": "code",
   "execution_count": null,
   "id": "e56e5d63-f851-4a0d-b3cc-22531a384e00",
   "metadata": {},
   "outputs": [],
   "source": [
    "## Jasmine Reacco\n",
    "# 2/1/2025\n",
    "#M03: Functional vs OOP programming"
   ]
  },
  {
   "cell_type": "code",
   "execution_count": null,
   "id": "8a2697bd-d4ff-41c8-a335-6a8dc9fdf437",
   "metadata": {},
   "outputs": [],
   "source": [
    "#OOP Programming\n",
    "#Sort an Array of 0s, 1s, and 2s\n",
    "\n",
    "class Solution:\n",
    "    # Function to sort an array of 0s, 1s, and 2s\n",
    "    def sort012(self, arr):\n",
    "        count_0 = arr.count(0)\n",
    "        count_1 = arr.count(1)\n",
    "        count_2 = arr.count(2)\n",
    "        \n",
    "        arr[:] = [0] * count_0 + [1] * count_1 + [2] * count_2\n",
    "        return arr"
   ]
  },
  {
   "cell_type": "code",
   "execution_count": 7,
   "id": "082257a8-bf2e-4488-b9d5-48768c30b88a",
   "metadata": {},
   "outputs": [],
   "source": [
    "#Binary Search\n",
    "\n",
    "class Solution:\n",
    "\n",
    "    def binarysearch(self, arr, k):\n",
    "        left, right = 0, len(arr) - 1\n",
    "        result = -1\n",
    "\n",
    "        while left <= right:\n",
    "            mid = left + (right - left) // 2\n",
    "\n",
    "            if arr[mid] == k:\n",
    "                result = mid\n",
    "                right = mid - 1  # Search in the left half for the first occurrence\n",
    "            elif arr[mid] < k:\n",
    "                left = mid + 1\n",
    "            else:\n",
    "                right = mid - 1\n",
    "\n",
    "        return result"
   ]
  }
 ],
 "metadata": {
  "kernelspec": {
   "display_name": "anaconda-2024.02-py310",
   "language": "python",
   "name": "conda-env-anaconda-2024.02-py310-py"
  },
  "language_info": {
   "codemirror_mode": {
    "name": "ipython",
    "version": 3
   },
   "file_extension": ".py",
   "mimetype": "text/x-python",
   "name": "python",
   "nbconvert_exporter": "python",
   "pygments_lexer": "ipython3",
   "version": "3.10.14"
  }
 },
 "nbformat": 4,
 "nbformat_minor": 5
}
