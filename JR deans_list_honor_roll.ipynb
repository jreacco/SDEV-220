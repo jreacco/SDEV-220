{
 "cells": [
  {
   "cell_type": "code",
   "execution_count": 3,
   "id": "3ae18368-9aeb-4515-8bb3-38c230369c99",
   "metadata": {},
   "outputs": [
    {
     "name": "stdout",
     "output_type": "stream",
     "text": [
      "Welcome to the Dean's List and Honor Roll checker!\n"
     ]
    },
    {
     "name": "stdin",
     "output_type": "stream",
     "text": [
      "Enter the student's last name (or 'ZZZ' to quit):  Carter\n",
      "Enter the student's first name:  Emily\n",
      "Enter the student's GPA:  3.7\n"
     ]
    },
    {
     "name": "stdout",
     "output_type": "stream",
     "text": [
      "Emily Carter has made the Dean's List!\n"
     ]
    },
    {
     "name": "stdin",
     "output_type": "stream",
     "text": [
      "Enter the student's last name (or 'ZZZ' to quit):  Bennett\n",
      "Enter the student's first name:  Jacob\n",
      "Enter the student's GPA:  3.2\n"
     ]
    },
    {
     "name": "stdout",
     "output_type": "stream",
     "text": [
      "Jacob Bennett does not qualify for the Dean's List or Honor Roll.\n"
     ]
    },
    {
     "name": "stdin",
     "output_type": "stream",
     "text": [
      "Enter the student's last name (or 'ZZZ' to quit):  Mitchell\n",
      "Enter the student's first name:  Ava\n",
      "Enter the student's GPA:  3.9\n"
     ]
    },
    {
     "name": "stdout",
     "output_type": "stream",
     "text": [
      "Ava Mitchell has made the Dean's List!\n"
     ]
    },
    {
     "name": "stdin",
     "output_type": "stream",
     "text": [
      "Enter the student's last name (or 'ZZZ' to quit):  Foster\n",
      "Enter the student's first name:  Liam\n",
      "Enter the student's GPA:  2.8\n"
     ]
    },
    {
     "name": "stdout",
     "output_type": "stream",
     "text": [
      "Liam Foster does not qualify for the Dean's List or Honor Roll.\n"
     ]
    },
    {
     "name": "stdin",
     "output_type": "stream",
     "text": [
      "Enter the student's last name (or 'ZZZ' to quit):  Reed\n",
      "Enter the student's first name:  Sophia\n",
      "Enter the student's GPA:  3.5\n"
     ]
    },
    {
     "name": "stdout",
     "output_type": "stream",
     "text": [
      "Sophia Reed has made the Dean's List!\n"
     ]
    },
    {
     "name": "stdin",
     "output_type": "stream",
     "text": [
      "Enter the student's last name (or 'ZZZ' to quit):  zzz\n"
     ]
    },
    {
     "name": "stdout",
     "output_type": "stream",
     "text": [
      "Exiting the program. Goodbye!\n"
     ]
    }
   ],
   "source": [
    "# Author: Jasmine Reacco\n",
    "# File Name: deans_list_honor_roll.ipynb\n",
    "# Description: This app accepts student names and GPAs to determine if they qualify for the Dean's List or the Honor Roll.\n",
    "\n",
    "# Start the program\n",
    "def main():\n",
    "    print(\"Welcome to the Dean's List and Honor Roll checker!\")\n",
    "\n",
    "    while True:\n",
    "        # Prompt for the student's last name\n",
    "        last_name = input(\"Enter the student's last name (or 'ZZZ' to quit): \").strip()\n",
    "\n",
    "        # Check if the user wants to quit\n",
    "        if last_name.upper() == 'ZZZ':\n",
    "            print(\"Exiting the program. Goodbye!\")\n",
    "            break\n",
    "\n",
    "        # Prompt for the student's first name\n",
    "        first_name = input(\"Enter the student's first name: \").strip()\n",
    "\n",
    "        # Prompt for the student's GPA and validate the input\n",
    "        try:\n",
    "            gpa = float(input(\"Enter the student's GPA: \").strip())\n",
    "            if gpa < 0 or gpa > 4.0:\n",
    "                print(\"Invalid GPA. Please enter a GPA between 0.0 and 4.0.\")\n",
    "                continue\n",
    "        except ValueError:\n",
    "            print(\"Invalid input. Please enter a valid GPA as a number.\")\n",
    "            continue\n",
    "\n",
    "        # Determine if the student qualifies for the Dean's List or Honor Roll\n",
    "        if gpa >= 3.5:\n",
    "            print(f\"{first_name} {last_name} has made the Dean's List!\")\n",
    "        elif gpa >= 3.25:\n",
    "            print(f\"{first_name} {last_name} has made the Honor Roll!\")\n",
    "        else:\n",
    "            print(f\"{first_name} {last_name} does not qualify for the Dean's List or Honor Roll.\")\n",
    "\n",
    "# Call the main function\n",
    "if __name__ == \"__main__\":\n",
    "    main()\n"
   ]
  },
  {
   "cell_type": "code",
   "execution_count": null,
   "id": "06522980-0b0d-4da1-9c45-33ad8b70b9c5",
   "metadata": {},
   "outputs": [],
   "source": []
  }
 ],
 "metadata": {
  "kernelspec": {
   "display_name": "anaconda-2022.05-py39",
   "language": "python",
   "name": "conda-env-anaconda-2022.05-py39-py"
  },
  "language_info": {
   "codemirror_mode": {
    "name": "ipython",
    "version": 3
   },
   "file_extension": ".py",
   "mimetype": "text/x-python",
   "name": "python",
   "nbconvert_exporter": "python",
   "pygments_lexer": "ipython3",
   "version": "3.9.12"
  }
 },
 "nbformat": 4,
 "nbformat_minor": 5
}
