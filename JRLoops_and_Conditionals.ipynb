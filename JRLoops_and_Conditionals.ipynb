{
 "cells": [
  {
   "cell_type": "code",
   "execution_count": null,
   "id": "d3ff27b5-c8b6-4707-8550-908bce2a393a",
   "metadata": {},
   "outputs": [],
   "source": [
    "#Jasmine Reacco\n",
    "#Date 1/25/2025\n",
    "#M02"
   ]
  },
  {
   "cell_type": "code",
   "execution_count": null,
   "id": "a2a21a1b-d261-4ee2-90dd-f1624418f12a",
   "metadata": {},
   "outputs": [],
   "source": [
    "#Chapter 4 Things to Do"
   ]
  },
  {
   "cell_type": "code",
   "execution_count": 16,
   "id": "fe17020b-1063-4cb8-a7ac-f2ae340c3906",
   "metadata": {},
   "outputs": [
    {
     "name": "stdout",
     "output_type": "stream",
     "text": [
      "too low\n"
     ]
    }
   ],
   "source": [
    "# 4.1\n",
    "secret = 7 # Assigning a number between 1 and 10\n",
    "guess = 5 # Assigning another number between 1 and 10\n",
    "\n",
    "# Conditional tests to compare guess with secret\n",
    "if guess < secret: \n",
    "    print (\"too low\") \n",
    "elif guess > secret:\n",
    "    print (\"too high\")\n",
    "else:\n",
    "    print(\"just right\") "
   ]
  },
  {
   "cell_type": "code",
   "execution_count": 9,
   "id": "7284c277-a822-41c7-b84a-6eb0ecb5cc01",
   "metadata": {},
   "outputs": [
    {
     "name": "stdout",
     "output_type": "stream",
     "text": [
      "cherry\n"
     ]
    }
   ],
   "source": [
    "# 4.2\n",
    "# Assign True or False to small and green\n",
    "small = True # Indicates if the object is small \n",
    "green = False\n",
    "\n",
    "# Identify the object\n",
    "if small and green:\n",
    "    print('pea')\n",
    "elif small and not green:\n",
    "    print('cherry')\n",
    "elif not small and green:\n",
    "    print('watermelon')\n",
    "elif not small and not green:\n",
    "    print('pumpkin')\n"
   ]
  },
  {
   "cell_type": "code",
   "execution_count": null,
   "id": "31ffd512-05d8-42be-8a98-4483c2690e41",
   "metadata": {},
   "outputs": [],
   "source": [
    "### Chapter 6: Things to Do"
   ]
  },
  {
   "cell_type": "code",
   "execution_count": 7,
   "id": "8d5bdce9-c16f-47e5-8c41-babfb6b19d4c",
   "metadata": {},
   "outputs": [
    {
     "name": "stdout",
     "output_type": "stream",
     "text": [
      "3\n",
      "2\n",
      "1\n",
      "0\n"
     ]
    }
   ],
   "source": [
    "# 6.1\n",
    "# For loop to print values\n",
    "for value in [3, 2, 1, 0]:\n",
    "    print(value)"
   ]
  },
  {
   "cell_type": "code",
   "execution_count": 5,
   "id": "a05a74d6-7a11-4edd-a012-b22aef3ef520",
   "metadata": {},
   "outputs": [
    {
     "name": "stdout",
     "output_type": "stream",
     "text": [
      "too low\n",
      "too low\n",
      "too low\n",
      "too low\n",
      "too low\n",
      "too low\n",
      "found it!\n"
     ]
    }
   ],
   "source": [
    "# 6.2\n",
    "# While loop to compare guess_me and number\n",
    "guess_me = 7\n",
    "number = 1\n",
    "\n",
    "while True:\n",
    "    if number < guess_me:\n",
    "        print('too low')\n",
    "    elif number == guess_me:\n",
    "        print('found it!')\n",
    "        break\n",
    "    else:\n",
    "        print('oops')\n",
    "        break\n",
    "    number += 1"
   ]
  },
  {
   "cell_type": "code",
   "execution_count": 1,
   "id": "11fb06bf-aa3e-4321-b677-72a5c8b77078",
   "metadata": {},
   "outputs": [
    {
     "name": "stdout",
     "output_type": "stream",
     "text": [
      "too low\n",
      "too low\n",
      "too low\n",
      "too low\n",
      "too low\n",
      "found it!\n"
     ]
    }
   ],
   "source": [
    "# 6.3\n",
    "# For loop to iterate over range(10)\n",
    "guess_me = 5\n",
    "\n",
    "for number in range(10):\n",
    "    if number < guess_me:\n",
    "        print('too low')\n",
    "    elif number == guess_me:\n",
    "        print('found it!')\n",
    "        break\n",
    "    else:\n",
    "        print('oops')\n",
    "        break\n"
   ]
  }
 ],
 "metadata": {
  "kernelspec": {
   "display_name": "anaconda-2022.05-py39",
   "language": "python",
   "name": "conda-env-anaconda-2022.05-py39-py"
  },
  "language_info": {
   "codemirror_mode": {
    "name": "ipython",
    "version": 3
   },
   "file_extension": ".py",
   "mimetype": "text/x-python",
   "name": "python",
   "nbconvert_exporter": "python",
   "pygments_lexer": "ipython3",
   "version": "3.9.12"
  }
 },
 "nbformat": 4,
 "nbformat_minor": 5
}
