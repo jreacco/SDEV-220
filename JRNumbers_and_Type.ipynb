{
 "cells": [
  {
   "cell_type": "code",
   "execution_count": null,
   "id": "f7f06673-b894-4b3c-a185-da27c8e1147c",
   "metadata": {},
   "outputs": [],
   "source": [
    "#Jasmine Reacco\n",
    "#Date 1/18/2025\n",
    "#M01 "
   ]
  },
  {
   "cell_type": "code",
   "execution_count": null,
   "id": "6aa04ca3-def0-44b0-a039-80691c708759",
   "metadata": {},
   "outputs": [],
   "source": [
    "## chapter 3 Exercise: Things to do"
   ]
  },
  {
   "cell_type": "code",
   "execution_count": 3,
   "id": "5173c16d-b907-43d3-ad02-8c4753f25676",
   "metadata": {},
   "outputs": [
    {
     "data": {
      "text/plain": [
       "3600"
      ]
     },
     "execution_count": 3,
     "metadata": {},
     "output_type": "execute_result"
    }
   ],
   "source": [
    "### 3.1 How many seconds are in an hour?\n",
    "# Calculating seconds in an hour\n",
    "seconds_in_minute = 60\n",
    "minutes_in_hour = 60\n",
    "seconds_in_hour = seconds_in_minute * minutes_in_hour\n",
    "seconds_in_hour "
   ]
  },
  {
   "cell_type": "code",
   "execution_count": 7,
   "id": "fd0e2e9a-ab0a-4026-9092-6a6bbce608d8",
   "metadata": {},
   "outputs": [
    {
     "data": {
      "text/plain": [
       "3600"
      ]
     },
     "execution_count": 7,
     "metadata": {},
     "output_type": "execute_result"
    }
   ],
   "source": [
    "# 3.2 Assign the result to a variable\n",
    "seconds_per_hour = seconds_in_hour\n",
    "seconds_per_hour"
   ]
  },
  {
   "cell_type": "code",
   "execution_count": 9,
   "id": "47ee4845-dc74-479a-bee3-975eaa3e2d6b",
   "metadata": {},
   "outputs": [
    {
     "data": {
      "text/plain": [
       "86400"
      ]
     },
     "execution_count": 9,
     "metadata": {},
     "output_type": "execute_result"
    }
   ],
   "source": [
    "#3.3 How many seconds are in a day? \n",
    "# Calculate the number of seconds in a day using seconds_per_hour\n",
    "hours_in_day = 24\n",
    "seconds_in_day =seconds_per_hour * hours_in_day\n",
    "seconds_in_day\n"
   ]
  },
  {
   "cell_type": "code",
   "execution_count": 11,
   "id": "95dd605f-2baf-448e-aadf-33bcdc79593b",
   "metadata": {},
   "outputs": [
    {
     "data": {
      "text/plain": [
       "86400"
      ]
     },
     "execution_count": 11,
     "metadata": {},
     "output_type": "execute_result"
    }
   ],
   "source": [
    "# 3.4 Save the result in a variable called seconds_per_day\n",
    "seconds_per_day = seconds_in_day\n",
    "seconds_per_day"
   ]
  },
  {
   "cell_type": "code",
   "execution_count": 13,
   "id": "42dbb0c7-82cf-4b09-b216-b9c5a4ea00bd",
   "metadata": {},
   "outputs": [
    {
     "data": {
      "text/plain": [
       "24.0"
      ]
     },
     "execution_count": 13,
     "metadata": {},
     "output_type": "execute_result"
    }
   ],
   "source": [
    "#3.5 Use floating-point division to divide seconds_per_day by seconds_per_hour\n",
    "floating_point_division = seconds_per_day / seconds_per_hour\n",
    "floating_point_division"
   ]
  },
  {
   "cell_type": "code",
   "execution_count": 27,
   "id": "d4e6f661-4859-4db1-92c4-a42549f8b3f6",
   "metadata": {},
   "outputs": [
    {
     "data": {
      "text/plain": [
       "24"
      ]
     },
     "execution_count": 27,
     "metadata": {},
     "output_type": "execute_result"
    }
   ],
   "source": [
    "# 3.6 Use integer division to divide seconds_per_day by seconds_per_hour\n",
    "integer_division = seconds_per_day // seconds_per_hour\n",
    "integer_division\n"
   ]
  }
 ],
 "metadata": {
  "kernelspec": {
   "display_name": "anaconda-2022.05-py39",
   "language": "python",
   "name": "conda-env-anaconda-2022.05-py39-py"
  },
  "language_info": {
   "codemirror_mode": {
    "name": "ipython",
    "version": 3
   },
   "file_extension": ".py",
   "mimetype": "text/x-python",
   "name": "python",
   "nbconvert_exporter": "python",
   "pygments_lexer": "ipython3",
   "version": "3.9.12"
  }
 },
 "nbformat": 4,
 "nbformat_minor": 5
}
