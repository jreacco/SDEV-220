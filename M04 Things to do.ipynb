{
 "cells": [
  {
   "cell_type": "code",
   "execution_count": null,
   "id": "14203fb5-c4b2-4a63-b537-8798c3074c86",
   "metadata": {},
   "outputs": [],
   "source": [
    "#Jasmine Reacco\n",
    "#M04 Chapter 11 Things to do "
   ]
  },
  {
   "cell_type": "code",
   "execution_count": 35,
   "id": "4c8f67c8-1518-4730-a89b-160f9ff33f29",
   "metadata": {},
   "outputs": [],
   "source": [
    "#11.1\n",
    "\n",
    "def hours():\n",
    "    print(\"Open 9-5 Daily\")"
   ]
  },
  {
   "cell_type": "code",
   "execution_count": null,
   "id": "c50cbae6-b4ce-4b6f-bbd7-33f9887ea975",
   "metadata": {},
   "outputs": [],
   "source": [
    "# interactive interpreter to import zoo\n",
    "import zoo\n",
    "zoo.hours()"
   ]
  },
  {
   "cell_type": "code",
   "execution_count": null,
   "id": "153561b3-e56b-483b-b0a2-94bd27fe4a32",
   "metadata": {},
   "outputs": [],
   "source": [
    "#11.2\n",
    "import zoo as menagerie  \n",
    "menagerie.hours()  \n"
   ]
  }
 ],
 "metadata": {
  "kernelspec": {
   "display_name": "anaconda-2024.02-py310",
   "language": "python",
   "name": "conda-env-anaconda-2024.02-py310-py"
  },
  "language_info": {
   "codemirror_mode": {
    "name": "ipython",
    "version": 3
   },
   "file_extension": ".py",
   "mimetype": "text/x-python",
   "name": "python",
   "nbconvert_exporter": "python",
   "pygments_lexer": "ipython3",
   "version": "3.10.14"
  }
 },
 "nbformat": 4,
 "nbformat_minor": 5
}
