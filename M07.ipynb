{
 "cells": [
  {
   "cell_type": "code",
   "execution_count": null,
   "id": "9162166d-bb21-4b12-a1b1-a714f519642c",
   "metadata": {},
   "outputs": [],
   "source": [
    "import pandas as pd"
   ]
  },
  {
   "cell_type": "code",
   "execution_count": null,
   "id": "c9e55ae3-2d53-4eee-9321-2cadd4020751",
   "metadata": {},
   "outputs": [],
   "source": [
    "pd."
   ]
  },
  {
   "cell_type": "code",
   "execution_count": null,
   "id": "b4d994e0-4c36-4394-86ff-94988256f22b",
   "metadata": {},
   "outputs": [],
   "source": [
    "# 1.1 create from a csv"
   ]
  },
  {
   "cell_type": "code",
   "execution_count": null,
   "id": "50123e4c-7723-489c-a283-fd6f8ee03fc4",
   "metadata": {},
   "outputs": [],
   "source": [
    "df = pd.read_csv('telco_churn.csv')"
   ]
  },
  {
   "cell_type": "code",
   "execution_count": null,
   "id": "c8376bb6-d06d-44de-b729-943105265f55",
   "metadata": {},
   "outputs": [],
   "source": [
    "#1.2 Create from a Dictionary"
   ]
  },
  {
   "cell_type": "code",
   "execution_count": null,
   "id": "be2aa6cd-0321-4b32-973c-d0e740643a35",
   "metadata": {},
   "outputs": [],
   "source": [
    "tempdict = {'col1':[1,2,3], 'col2':[4,5,6], 'col3':[7,8,9]}"
   ]
  },
  {
   "cell_type": "code",
   "execution_count": null,
   "id": "04caabc2-d5b5-4e44-b79c-6db20b7cc7a3",
   "metadata": {},
   "outputs": [],
   "source": [
    "dictdf = pd.DataFrame.from_dict(tempdict)"
   ]
  },
  {
   "cell_type": "code",
   "execution_count": null,
   "id": "566b8319-5e9e-4407-8d9a-27847b87b466",
   "metadata": {},
   "outputs": [],
   "source": [
    "#2.1 Show Top 5 and Bottom 5 Rows"
   ]
  },
  {
   "cell_type": "code",
   "execution_count": null,
   "id": "2e9c2622-cf0b-4c06-b88a-b88b4d544ad4",
   "metadata": {},
   "outputs": [],
   "source": [
    "df.head(10)"
   ]
  },
  {
   "cell_type": "code",
   "execution_count": null,
   "id": "3bb41b25-5012-4bee-ac66-b8ce27cd4c93",
   "metadata": {},
   "outputs": [],
   "source": [
    "\tState\tAccount length\tArea code\tInternational plan\tVoice mail plan\tNumber vmail messages\tTotal day minutes\tTotal day calls\tTotal day charge\tTotal eve minutes\tTotal eve calls\tTotal eve charge\tTotal night minutes\tTotal night calls\tTotal night charge\tTotal intl minutes\tTotal intl calls\tTotal intl charge\tCustomer service calls\tChurn\n",
    "0\tKS\t128\t415\tNo\tYes\t25\t265.1\t110.0\t45.07\t197.4\t99.0\t16.78\t244.7\t91.0\t11.01\t10.0\t3\t2.70\t1.0\tFalse\n",
    "1\tOH\t107\t415\tNo\tYes\t26\t161.6\t123.0\t27.47\t195.5\t103.0\t16.62\t254.4\t103.0\t11.45\t13.7\t3\t3.70\t1.0\tFalse\n",
    "2\tNJ\t137\t415\tNo\tNo\t0\t243.4\t114.0\t41.38\t121.2\t110.0\t10.30\t162.6\t104.0\t7.32\t12.2\t5\t3.29\t0.0\tFalse\n",
    "3\tOH\t84\t408\tYes\tNo\t0\t299.4\t71.0\t50.90\t61.9\t88.0\t5.26\t196.9\t89.0\t8.86\t6.6\t7\t1.78\t2.0\tFalse\n",
    "4\tOK\t75\t415\tYes\tNo\t0\t166.7\t113.0\t28.34\t148.3\t122.0\t12.61\t186.9\t121.0\t8.41\t10.1\t3\t2.73\t3.0\tFalse\n",
    "5\tAL\t118\t510\tYes\tNo\t0\t223.4\t98.0\t37.98\t220.6\t101.0\t18.75\t203.9\t118.0\t9.18\t6.3\t6\t1.70\t0.0\tFalse\n",
    "6\tMA\t121\t510\tNo\tYes\t24\t218.2\t88.0\t37.09\t348.5\t108.0\t29.62\t212.6\t118.0\t9.57\t7.5\t7\t2.03\t3.0\tNaN\n",
    "7\tMO\t147\t415\tYes\tNo\t0\t157.0\t79.0\t26.69\t103.1\t94.0\t8.76\t211.8\t96.0\t9.53\t7.1\t6\t1.92\t0.0\tFalse\n",
    "8\tLA\t117\t408\tNo\tNo\t0\t184.5\t97.0\t31.37\t351.6\t80.0\t29.89\t215.8\t90.0\t9.71\t8.7\t4\t2.35\t1.0\tFalse\n",
    "9\tWV\t141\t415\tYes\tYes\t37\t258.6\t84.0\t43.96\t222.0\t111.0\t18.87\t326.4\t97.0\t14.69\t11.2\t5\t3.02\t0.0\tFalse"
   ]
  },
  {
   "cell_type": "code",
   "execution_count": null,
   "id": "d64cd805-1f46-4eb9-b334-cde844937809",
   "metadata": {},
   "outputs": [],
   "source": [
    "dictdf.head()"
   ]
  },
  {
   "cell_type": "code",
   "execution_count": null,
   "id": "ca358188-a3ad-4c89-8f01-60a63c5552b3",
   "metadata": {},
   "outputs": [],
   "source": [
    "\tcol1\tcol2\tcol3\n",
    "0\t1\t4\t7\n",
    "1\t2\t5\t8\n",
    "2\t3\t6\t9"
   ]
  },
  {
   "cell_type": "code",
   "execution_count": null,
   "id": "0026ab16-5d0d-4998-b162-fee6f1304f04",
   "metadata": {},
   "outputs": [],
   "source": [
    "df.tail(15)"
   ]
  },
  {
   "cell_type": "code",
   "execution_count": null,
   "id": "9c2b6994-1ec8-469e-ac83-c5468d2f6066",
   "metadata": {},
   "outputs": [],
   "source": [
    "\tState\tAccount length\tArea code\tInternational plan\tVoice mail plan\tNumber vmail messages\tTotal day minutes\tTotal day calls\tTotal day charge\tTotal eve minutes\tTotal eve calls\tTotal eve charge\tTotal night minutes\tTotal night calls\tTotal night charge\tTotal intl minutes\tTotal intl calls\tTotal intl charge\tCustomer service calls\tChurn\n",
    "3318\tOK\t52\t415\tNo\tNo\t0\t124.9\t131.0\t21.23\t300.5\t118.0\t25.54\t192.5\t106.0\t8.66\t11.6\t4\t3.13\t2.0\tFalse\n",
    "3319\tWY\t89\t415\tNo\tNo\t0\t115.4\t99.0\t19.62\t209.9\t115.0\t17.84\t280.9\t112.0\t12.64\t15.9\t6\t4.29\t3.0\tFalse\n",
    "3320\tGA\t122\t510\tYes\tNo\t0\t140.0\t101.0\t23.80\t196.4\t77.0\t16.69\t120.1\t133.0\t5.40\t9.7\t4\t2.62\t4.0\tTrue\n",
    "3321\tVT\t60\t415\tNo\tNo\t0\t193.9\t118.0\t32.96\t85.0\t110.0\t7.23\t210.1\t134.0\t9.45\t13.2\t8\t3.56\t3.0\tFalse\n",
    "3322\tMD\t62\t408\tNo\tNo\t0\t321.1\t105.0\t54.59\t265.5\t122.0\t22.57\t180.5\t72.0\t8.12\t11.5\t2\t3.11\t4.0\tTrue\n",
    "3323\tIN\t117\t415\tNo\tNo\t0\t118.4\t126.0\t20.13\t249.3\t97.0\t21.19\t227.0\t56.0\t10.22\t13.6\t3\t3.67\t5.0\tTrue\n",
    "3324\tWV\t159\t415\tNo\tNo\t0\t169.8\t114.0\t28.87\t197.7\t105.0\t16.80\t193.7\t82.0\t8.72\t11.6\t4\t3.13\t1.0\tFalse\n",
    "3325\tOH\t78\t408\tNo\tNo\t0\t193.4\t99.0\t32.88\t116.9\t88.0\t9.94\t243.3\t109.0\t10.95\t9.3\t4\t2.51\t2.0\tFalse\n",
    "3326\tOH\t96\t415\tNo\tNo\t0\t106.6\t128.0\t18.12\t284.8\t87.0\t24.21\t178.9\t92.0\t8.05\t14.9\t7\t4.02\t1.0\tFalse\n",
    "3327\tSC\t79\t415\tNo\tNo\t0\t134.7\t98.0\t22.90\t189.7\t68.0\t16.12\t221.4\t128.0\t9.96\t11.8\t5\t3.19\t2.0\tFalse\n",
    "3328\tAZ\t192\t415\tNo\tYes\t36\t156.2\t77.0\t26.55\t215.5\t126.0\t18.32\t279.1\t83.0\t12.56\t9.9\t6\t2.67\t2.0\tFalse\n",
    "3329\tWV\t68\t415\tNo\tNo\t0\t231.1\t57.0\t39.29\t153.4\t55.0\t13.04\t191.3\t123.0\t8.61\t9.6\t4\t2.59\t3.0\tFalse\n",
    "3330\tRI\t28\t510\tNo\tNo\t0\t180.8\t109.0\t30.74\t288.8\t58.0\t24.55\t191.9\t91.0\t8.64\t14.1\t6\t3.81\t2.0\tFalse\n",
    "3331\tCT\t184\t510\tYes\tNo\t0\t213.8\t105.0\t36.35\t159.6\t84.0\t13.57\t139.2\t137.0\t6.26\t5.0\t10\t1.35\t2.0\tFalse\n",
    "3332\tTN\t74\t415\tNo\tYes\t25\t234.4\t113.0\t39.85\t265.9\t82.0\t22.60\t241.4\t77.0\t10.86\t13.7\t4\t3.70\t0.0\tFalse"
   ]
  },
  {
   "cell_type": "code",
   "execution_count": null,
   "id": "f47e5c15-b5da-4696-87f8-48ee196064f0",
   "metadata": {},
   "outputs": [],
   "source": [
    "#2.2 Show Columns and Data Type"
   ]
  },
  {
   "cell_type": "code",
   "execution_count": null,
   "id": "0d8fa650-740b-4800-a559-020f580b047c",
   "metadata": {},
   "outputs": [],
   "source": [
    "df.columns"
   ]
  },
  {
   "cell_type": "code",
   "execution_count": null,
   "id": "4bf12813-6b2c-439b-899f-970f700d9100",
   "metadata": {},
   "outputs": [],
   "source": [
    "Index(['State', 'Account length', 'Area code', 'International plan',\n",
    "       'Voice mail plan', 'Number vmail messages', 'Total day minutes',\n",
    "       'Total day calls', 'Total day charge', 'Total eve minutes',\n",
    "       'Total eve calls', 'Total eve charge', 'Total night minutes',\n",
    "       'Total night calls', 'Total night charge', 'Total intl minutes',\n",
    "       'Total intl calls', 'Total intl charge', 'Customer service calls',\n",
    "       'Churn'],\n",
    "      dtype='object')"
   ]
  },
  {
   "cell_type": "code",
   "execution_count": null,
   "id": "5b19f829-0c93-4abc-8304-a27b73383adf",
   "metadata": {},
   "outputs": [],
   "source": [
    "df.dtypes"
   ]
  },
  {
   "cell_type": "code",
   "execution_count": null,
   "id": "c06211c8-6e36-4737-826e-d4da54526be1",
   "metadata": {},
   "outputs": [],
   "source": [
    "State                      object\n",
    "Account length              int64\n",
    "Area code                   int64\n",
    "International plan         object\n",
    "Voice mail plan            object\n",
    "Number vmail messages       int64\n",
    "Total day minutes         float64\n",
    "Total day calls           float64\n",
    "Total day charge          float64\n",
    "Total eve minutes         float64\n",
    "Total eve calls           float64\n",
    "Total eve charge          float64\n",
    "Total night minutes       float64\n",
    "Total night calls         float64\n",
    "Total night charge        float64\n",
    "Total intl minutes        float64\n",
    "Total intl calls            int64\n",
    "Total intl charge         float64\n",
    "Customer service calls    float64\n",
    "Churn                      object\n",
    "dtype: object"
   ]
  },
  {
   "cell_type": "code",
   "execution_count": null,
   "id": "87674e1a-51a1-4a55-bb84-c6ba3d9d8c66",
   "metadata": {},
   "outputs": [],
   "source": [
    "#2.3 Summary Statistics"
   ]
  },
  {
   "cell_type": "code",
   "execution_count": null,
   "id": "5960edf3-cadb-4616-9bd0-06d7ff66807a",
   "metadata": {},
   "outputs": [],
   "source": [
    "df.describe()"
   ]
  },
  {
   "cell_type": "code",
   "execution_count": null,
   "id": "8714baa3-37ca-43a8-b06c-e482c19b6667",
   "metadata": {},
   "outputs": [],
   "source": [
    "\tAccount length\tArea code\tNumber vmail messages\tTotal day minutes\tTotal day calls\tTotal day charge\tTotal eve minutes\tTotal eve calls\tTotal eve charge\tTotal night minutes\tTotal night calls\tTotal night charge\tTotal intl minutes\tTotal intl calls\tTotal intl charge\tCustomer service calls\n",
    "count\t3333.000000\t3333.000000\t3333.000000\t3323.000000\t3323.000000\t3315.000000\t3324.000000\t3325.000000\t3333.000000\t3333.000000\t3332.000000\t3333.000000\t3333.000000\t3333.000000\t3328.000000\t3328.000000\n",
    "mean\t101.064806\t437.182418\t8.099010\t179.787150\t100.456214\t30.557831\t201.033935\t100.110677\t17.083540\t200.872037\t100.115246\t9.039325\t10.237294\t4.479448\t2.764588\t1.563101\n",
    "std\t39.822106\t42.371290\t13.688365\t54.419625\t20.057356\t9.255987\t50.676652\t19.932115\t4.310668\t50.573847\t19.566710\t2.275873\t2.791840\t2.461214\t0.754086\t1.315870\n",
    "min\t1.000000\t408.000000\t0.000000\t0.000000\t0.000000\t0.000000\t0.000000\t0.000000\t0.000000\t23.200000\t33.000000\t1.040000\t0.000000\t0.000000\t0.000000\t0.000000\n",
    "25%\t74.000000\t408.000000\t0.000000\t143.700000\t87.000000\t24.420000\t166.600000\t87.000000\t14.160000\t167.000000\t87.000000\t7.520000\t8.500000\t3.000000\t2.300000\t1.000000\n",
    "50%\t101.000000\t415.000000\t0.000000\t179.400000\t101.000000\t30.500000\t201.400000\t100.000000\t17.120000\t201.200000\t100.000000\t9.050000\t10.300000\t4.000000\t2.780000\t1.000000\n",
    "75%\t127.000000\t510.000000\t20.000000\t216.500000\t114.000000\t36.780000\t235.325000\t114.000000\t20.000000\t235.300000\t113.000000\t10.590000\t12.100000\t6.000000\t3.270000\t2.000000\n",
    "max\t243.000000\t510.000000\t51.000000\t350.800000\t165.000000\t59.640000\t363.700000\t170.000000\t30.910000\t395.000000\t175.000000\t17.770000\t20.000000\t20.000000\t5.400000\t9.000000"
   ]
  },
  {
   "cell_type": "code",
   "execution_count": null,
   "id": "c3f85af8-f791-43cb-a049-6740958b44ab",
   "metadata": {},
   "outputs": [],
   "source": [
    "df.describe(include='object')"
   ]
  },
  {
   "cell_type": "code",
   "execution_count": null,
   "id": "893f1cc0-988d-4130-96ba-544f8ad7fe77",
   "metadata": {},
   "outputs": [],
   "source": [
    "\tState\tInternational plan\tVoice mail plan\tChurn\n",
    "count\t3333\t3333\t3333\t3325\n",
    "unique\t51\t2\t2\t2\n",
    "top\tWV\tNo\tNo\tFalse\n",
    "freq\t106\t3010\t2411\t2842"
   ]
  },
  {
   "cell_type": "code",
   "execution_count": null,
   "id": "35091f30-e072-47d1-9864-92fbcbfccc18",
   "metadata": {},
   "outputs": [],
   "source": [
    "2.4 "
   ]
  },
  {
   "cell_type": "code",
   "execution_count": null,
   "id": "fdddc5d6-8ae9-4798-b694-a1ce9e65e59d",
   "metadata": {},
   "outputs": [],
   "source": [
    "df.State"
   ]
  },
  {
   "cell_type": "code",
   "execution_count": null,
   "id": "0cc5aa20-044b-4ceb-8475-227d8e75eda4",
   "metadata": {},
   "outputs": [],
   "source": [
    "0       KS\n",
    "1       OH\n",
    "2       NJ\n",
    "3       OH\n",
    "4       OK\n",
    "        ..\n",
    "3328    AZ\n",
    "3329    WV\n",
    "3330    RI\n",
    "3331    CT\n",
    "3332    TN\n",
    "Name: State, Length: 3333, dtype: object"
   ]
  },
  {
   "cell_type": "code",
   "execution_count": null,
   "id": "6bd769e1-0cfc-43b0-a04b-db99621fb903",
   "metadata": {},
   "outputs": [],
   "source": [
    "df['International plan']"
   ]
  },
  {
   "cell_type": "code",
   "execution_count": null,
   "id": "0660113d-5184-4960-a57a-091cf9f6dad5",
   "metadata": {},
   "outputs": [],
   "source": [
    "0        No\n",
    "1        No\n",
    "2        No\n",
    "3       Yes\n",
    "4       Yes\n",
    "       ... \n",
    "3328     No\n",
    "3329     No\n",
    "3330     No\n",
    "3331    Yes\n",
    "3332     No\n",
    "Name: International plan, Length: 3333, dtype: object"
   ]
  },
  {
   "cell_type": "code",
   "execution_count": null,
   "id": "b70ed1d9-3eca-4ebc-9c00-a760d1114e7a",
   "metadata": {},
   "outputs": [],
   "source": [
    "df[['State', 'International plan']]"
   ]
  },
  {
   "cell_type": "code",
   "execution_count": null,
   "id": "a3023017-8dea-4309-a8bf-5d94ea38dfd1",
   "metadata": {},
   "outputs": [],
   "source": [
    "\n",
    "State\tInternational plan\n",
    "0\tKS\tNo\n",
    "1\tOH\tNo\n",
    "2\tNJ\tNo\n",
    "3\tOH\tYes\n",
    "4\tOK\tYes\n",
    "...\t...\t...\n",
    "3328\tAZ\tNo\n",
    "3329\tWV\tNo\n",
    "3330\tRI\tNo\n",
    "3331\tCT\tYes\n",
    "3332\tTN\tNo\n",
    "3333 rows × 2 columns"
   ]
  },
  {
   "cell_type": "code",
   "execution_count": null,
   "id": "4bd381a1-f3fd-4af6-97dc-4c4edad31bc9",
   "metadata": {},
   "outputs": [],
   "source": [
    "df.Churn.unique()"
   ]
  },
  {
   "cell_type": "code",
   "execution_count": null,
   "id": "a953b4b6-515c-465d-955f-c7279733d9ba",
   "metadata": {},
   "outputs": [],
   "source": [
    "df.head()"
   ]
  },
  {
   "cell_type": "code",
   "execution_count": null,
   "id": "6743df89-1557-4c7d-99ee-4fea6e753c2e",
   "metadata": {},
   "outputs": [],
   "source": [
    "df[df['International plan']=='No']"
   ]
  },
  {
   "cell_type": "code",
   "execution_count": null,
   "id": "0c651748-08ab-4ccd-aaab-2f8bf1457cb1",
   "metadata": {},
   "outputs": [],
   "source": [
    "\tState\tAccount length\tArea code\tInternational plan\tVoice mail plan\tNumber vmail messages\tTotal day minutes\tTotal day calls\tTotal day charge\tTotal eve minutes\tTotal eve calls\tTotal eve charge\tTotal night minutes\tTotal night calls\tTotal night charge\tTotal intl minutes\tTotal intl calls\tTotal intl charge\tCustomer service calls\tChurn\n",
    "0\tKS\t128\t415\tNo\tYes\t25\t265.1\t110.0\t45.07\t197.4\t99.0\t16.78\t244.7\t91.0\t11.01\t10.0\t3\t2.70\t1.0\tFalse\n",
    "1\tOH\t107\t415\tNo\tYes\t26\t161.6\t123.0\t27.47\t195.5\t103.0\t16.62\t254.4\t103.0\t11.45\t13.7\t3\t3.70\t1.0\tFalse\n",
    "2\tNJ\t137\t415\tNo\tNo\t0\t243.4\t114.0\t41.38\t121.2\t110.0\t10.30\t162.6\t104.0\t7.32\t12.2\t5\t3.29\t0.0\tFalse\n",
    "6\tMA\t121\t510\tNo\tYes\t24\t218.2\t88.0\t37.09\t348.5\t108.0\t29.62\t212.6\t118.0\t9.57\t7.5\t7\t2.03\t3.0\tNaN\n",
    "8\tLA\t117\t408\tNo\tNo\t0\t184.5\t97.0\t31.37\t351.6\t80.0\t29.89\t215.8\t90.0\t9.71\t8.7\t4\t2.35\t1.0\tFalse\n",
    "...\t...\t...\t...\t...\t...\t...\t...\t...\t...\t...\t...\t...\t...\t...\t...\t...\t...\t...\t...\t...\n",
    "3327\tSC\t79\t415\tNo\tNo\t0\t134.7\t98.0\t22.90\t189.7\t68.0\t16.12\t221.4\t128.0\t9.96\t11.8\t5\t3.19\t2.0\tFalse\n",
    "3328\tAZ\t192\t415\tNo\tYes\t36\t156.2\t77.0\t26.55\t215.5\t126.0\t18.32\t279.1\t83.0\t12.56\t9.9\t6\t2.67\t2.0\tFalse\n",
    "3329\tWV\t68\t415\tNo\tNo\t0\t231.1\t57.0\t39.29\t153.4\t55.0\t13.04\t191.3\t123.0\t8.61\t9.6\t4\t2.59\t3.0\tFalse\n",
    "3330\tRI\t28\t510\tNo\tNo\t0\t180.8\t109.0\t30.74\t288.8\t58.0\t24.55\t191.9\t91.0\t8.64\t14.1\t6\t3.81\t2.0\tFalse\n",
    "3332\tTN\t74\t415\tNo\tYes\t25\t234.4\t113.0\t39.85\t265.9\t82.0\t22.60\t241.4\t77.0\t10.86\t13.7\t4\t3.70\t0.0\tFalse"
   ]
  },
  {
   "cell_type": "code",
   "execution_count": null,
   "id": "d184fff8-d997-42bb-9327-a25e2eb5e845",
   "metadata": {},
   "outputs": [],
   "source": [
    "df[(df['International plan']=='No') & (df['Churn']==True)]"
   ]
  },
  {
   "cell_type": "code",
   "execution_count": null,
   "id": "3e30b1e4-0337-46cb-b2f7-bddab70cae8d",
   "metadata": {},
   "outputs": [],
   "source": [
    "\tState\tAccount length\tArea code\tInternational plan\tVoice mail plan\tNumber vmail messages\tTotal day minutes\tTotal day calls\tTotal day charge\tTotal eve minutes\tTotal eve calls\tTotal eve charge\tTotal night minutes\tTotal night calls\tTotal night charge\tTotal intl minutes\tTotal intl calls\tTotal intl charge\tCustomer service calls\tChurn\n",
    "10\tIN\t65\t415\tNo\tNo\t0\t129.1\t137.0\t21.95\t228.5\t83.0\t19.42\t208.8\t111.0\t9.40\t12.7\t6\t3.43\t4.0\tTrue\n",
    "15\tNY\t161\t415\tNo\tNo\t0\tNaN\tNaN\tNaN\t317.8\t97.0\t27.01\t160.6\t128.0\t7.23\t5.4\t9\t1.46\t4.0\tTrue\n",
    "21\tCO\t77\t408\tNo\tNo\t0\tNaN\tNaN\tNaN\t169.9\t121.0\t14.44\t209.6\t64.0\t9.43\t5.7\t6\t1.54\t5.0\tTrue\n",
    "33\tAZ\t12\t408\tNo\tNo\t0\t249.6\t118.0\tNaN\tNaN\tNaN\t21.45\t280.2\t90.0\t12.61\t11.8\t3\t3.19\t1.0\tTrue\n",
    "48\tID\t119\t415\tNo\tNo\t0\t159.1\t114.0\t27.05\t231.3\t117.0\t19.66\t143.2\t91.0\t6.44\t8.8\t3\t2.38\t5.0\tTrue\n",
    "...\t...\t...\t...\t...\t...\t...\t...\t...\t...\t...\t...\t...\t...\t...\t...\t...\t...\t...\t...\t...\n",
    "3280\tAR\t76\t408\tNo\tNo\t0\t107.3\t140.0\t18.24\t238.2\t133.0\t20.25\t271.8\t116.0\t12.23\t10.0\t3\t2.70\t4.0\tTrue\n",
    "3287\tKS\t170\t415\tNo\tYes\t42\t199.5\t119.0\t33.92\t135.0\t90.0\t11.48\t184.6\t49.0\t8.31\t10.9\t3\t2.94\t4.0\tTrue\n",
    "3301\tCA\t84\t415\tNo\tNo\t0\t280.0\t113.0\t47.60\t202.2\t90.0\t17.19\t156.8\t103.0\t7.06\t10.4\t4\t2.81\t0.0\tTrue\n",
    "3322\tMD\t62\t408\tNo\tNo\t0\t321.1\t105.0\t54.59\t265.5\t122.0\t22.57\t180.5\t72.0\t8.12\t11.5\t2\t3.11\t4.0\tTrue\n",
    "3323\tIN\t117\t415\tNo\tNo\t0\t118.4\t126.0\t20.13\t249.3\t97.0\t21.19\t227.0\t56.0\t10.22\t13.6\t3\t3.67\t5.0\tTrue"
   ]
  },
  {
   "cell_type": "code",
   "execution_count": null,
   "id": "fc44ec48-fba0-40a4-88b5-57b6eb3a6552",
   "metadata": {},
   "outputs": [],
   "source": [
    "df.iloc[14]"
   ]
  },
  {
   "cell_type": "code",
   "execution_count": null,
   "id": "423bf116-add1-44f7-864a-be5085536342",
   "metadata": {},
   "outputs": [],
   "source": [
    "State                        IA\n",
    "Account length               62\n",
    "Area code                   415\n",
    "International plan           No\n",
    "Voice mail plan              No\n",
    "Number vmail messages         0\n",
    "Total day minutes           NaN\n",
    "Total day calls             NaN\n",
    "Total day charge            NaN\n",
    "Total eve minutes         307.2\n",
    "Total eve calls              76\n",
    "Total eve charge          26.11\n",
    "Total night minutes         203\n",
    "Total night calls            99\n",
    "Total night charge         9.14\n",
    "Total intl minutes         13.1\n",
    "Total intl calls              6\n",
    "Total intl charge          3.54\n",
    "Customer service calls        4\n",
    "Churn                     False\n",
    "Name: 14, dtype: object"
   ]
  },
  {
   "cell_type": "code",
   "execution_count": null,
   "id": "9741c3f2-0358-4074-97d5-e24ba14037e0",
   "metadata": {},
   "outputs": [],
   "source": [
    "df.iloc[14,-1]"
   ]
  },
  {
   "cell_type": "code",
   "execution_count": null,
   "id": "38521b56-291e-448c-a45d-8f7f1561cf5b",
   "metadata": {},
   "outputs": [],
   "source": [
    "false"
   ]
  },
  {
   "cell_type": "code",
   "execution_count": null,
   "id": "930bf66a-ccbe-441a-9a66-1400bfef83ee",
   "metadata": {},
   "outputs": [],
   "source": [
    "df.iloc[22:33]"
   ]
  },
  {
   "cell_type": "code",
   "execution_count": null,
   "id": "658ac8bb-6c14-44d4-9df7-071a9c6ff312",
   "metadata": {},
   "outputs": [],
   "source": [
    "\tState\tAccount length\tArea code\tInternational plan\tVoice mail plan\tNumber vmail messages\tTotal day minutes\tTotal day calls\tTotal day charge\tTotal eve minutes\tTotal eve calls\tTotal eve charge\tTotal night minutes\tTotal night calls\tTotal night charge\tTotal intl minutes\tTotal intl calls\tTotal intl charge\tCustomer service calls\tChurn\n",
    "22\tAZ\t130\t415\tNo\tNo\t0\t183.0\t112.0\t31.11\t72.9\t99.0\t6.20\t181.8\t78.0\t8.18\t9.5\t19\t2.57\t0.0\tNaN\n",
    "23\tSC\t111\t415\tNo\tNo\t0\t110.4\t103.0\t18.77\t137.3\t102.0\t11.67\t189.6\t105.0\t8.53\t7.7\t6\t2.08\t2.0\tFalse\n",
    "24\tVA\t132\t510\tNo\tNo\t0\t81.1\t86.0\t13.79\t245.2\t72.0\t20.84\t237.0\t115.0\t10.67\t10.3\t2\t2.78\t0.0\tFalse\n",
    "25\tNE\t174\t415\tNo\tNo\t0\t124.3\t76.0\t21.13\t277.1\t112.0\t23.55\t250.7\t115.0\t11.28\t15.5\t5\t4.19\t3.0\tFalse\n",
    "26\tWY\t57\t408\tNo\tYes\t39\t213.0\t115.0\t36.21\t191.1\t112.0\t16.24\t182.7\t115.0\t8.22\t9.5\t3\t2.57\t0.0\tFalse\n",
    "27\tMT\t54\t408\tNo\tNo\t0\t134.3\t73.0\t22.83\t155.5\t100.0\t13.22\t102.1\t68.0\t4.59\t14.7\t4\t3.97\t3.0\tFalse\n",
    "28\tMO\t20\t415\tNo\tNo\t0\t190.0\t109.0\t32.30\t258.2\t84.0\t21.95\t181.5\t102.0\t8.17\t6.3\t6\t1.70\t0.0\tFalse\n",
    "29\tHI\t49\t510\tNo\tNo\t0\t119.3\t117.0\t20.28\t215.1\t109.0\t18.28\t178.7\t90.0\t8.04\t11.1\t1\t3.00\t1.0\tNaN\n",
    "30\tIL\t142\t415\tNo\tNo\t0\t84.8\t95.0\t14.42\t136.7\t63.0\t11.62\t250.5\t148.0\t11.27\t14.2\t6\t3.83\t2.0\tFalse\n",
    "31\tNH\t75\t510\tNo\tNo\t0\t226.1\t105.0\tNaN\tNaN\tNaN\t17.13\t246.2\t98.0\t11.08\t10.3\t5\t2.78\t1.0\tFalse\n",
    "32\tLA\t172\t408\tNo\tNo\t0\t212.0\t121.0\tNaN\tNaN\tNaN\t2.65\t293.3\t78.0\t13.20\t12.6\t10\t3.40\t3.0\tFalse"
   ]
  },
  {
   "cell_type": "code",
   "execution_count": null,
   "id": "3abc018b-9e2b-4da9-9e67-271466322405",
   "metadata": {},
   "outputs": [],
   "source": [
    "state = df.copy()\n",
    "state.set_index('State', inplace=True)"
   ]
  },
  {
   "cell_type": "code",
   "execution_count": null,
   "id": "3671051b-b3ab-46be-be1b-e72c41419e51",
   "metadata": {},
   "outputs": [],
   "source": [
    "state.head()"
   ]
  },
  {
   "cell_type": "code",
   "execution_count": null,
   "id": "66d37b0f-4806-4dc7-9f0f-eb963339e496",
   "metadata": {},
   "outputs": [],
   "source": [
    "\tAccount length\tArea code\tInternational plan\tVoice mail plan\tNumber vmail messages\tTotal day minutes\tTotal day calls\tTotal day charge\tTotal eve minutes\tTotal eve calls\tTotal eve charge\tTotal night minutes\tTotal night calls\tTotal night charge\tTotal intl minutes\tTotal intl calls\tTotal intl charge\tCustomer service calls\tChurn\n",
    "State\t\t\t\t\t\t\t\t\t\t\t\t\t\t\t\t\t\t\t\n",
    "KS\t128\t415\tNo\tYes\t25\t265.1\t110.0\t45.07\t197.4\t99.0\t16.78\t244.7\t91.0\t11.01\t10.0\t3\t2.70\t1.0\tFalse\n",
    "OH\t107\t415\tNo\tYes\t26\t161.6\t123.0\t27.47\t195.5\t103.0\t16.62\t254.4\t103.0\t11.45\t13.7\t3\t3.70\t1.0\tFalse\n",
    "NJ\t137\t415\tNo\tNo\t0\t243.4\t114.0\t41.38\t121.2\t110.0\t10.30\t162.6\t104.0\t7.32\t12.2\t5\t3.29\t0.0\tFalse\n",
    "OH\t84\t408\tYes\tNo\t0\t299.4\t71.0\t50.90\t61.9\t88.0\t5.26\t196.9\t89.0\t8.86\t6.6\t7\t1.78\t2.0\tFalse\n",
    "OK\t75\t415\tYes\tNo\t0\t166.7\t113.0\t28.34\t148.3\t122.0\t12.61\t186.9\t121.0\t8.41\t10.1\t3\t2.73\t3.0\tFalse"
   ]
  },
  {
   "cell_type": "code",
   "execution_count": null,
   "id": "5d345227-b486-4884-a51a-7943c2a11d34",
   "metadata": {},
   "outputs": [],
   "source": [
    "state.loc['OH']"
   ]
  },
  {
   "cell_type": "code",
   "execution_count": null,
   "id": "f0602d40-d6d8-4f03-8c81-f0ee07d2dc9e",
   "metadata": {},
   "outputs": [],
   "source": [
    "\tAccount length\tArea code\tInternational plan\tVoice mail plan\tNumber vmail messages\tTotal day minutes\tTotal day calls\tTotal day charge\tTotal eve minutes\tTotal eve calls\tTotal eve charge\tTotal night minutes\tTotal night calls\tTotal night charge\tTotal intl minutes\tTotal intl calls\tTotal intl charge\tCustomer service calls\tChurn\n",
    "State\t\t\t\t\t\t\t\t\t\t\t\t\t\t\t\t\t\t\t\n",
    "OH\t107\t415\tNo\tYes\t26\t161.6\t123.0\t27.47\t195.5\t103.0\t16.62\t254.4\t103.0\t11.45\t13.7\t3\t3.70\t1.0\tFalse\n",
    "OH\t84\t408\tYes\tNo\t0\t299.4\t71.0\t50.90\t61.9\t88.0\t5.26\t196.9\t89.0\t8.86\t6.6\t7\t1.78\t2.0\tFalse\n",
    "OH\t65\t408\tNo\tNo\t0\t187.9\t116.0\t31.94\t157.6\t117.0\t13.40\t227.3\t86.0\t10.23\t7.5\t6\t2.03\t1.0\tFalse\n",
    "OH\t83\t415\tNo\tNo\t0\t337.4\t120.0\t57.36\t227.4\t116.0\t19.33\t153.9\t114.0\t6.93\t15.8\t7\t4.27\t0.0\tTrue\n",
    "OH\t63\t415\tYes\tYes\t36\t199.0\t110.0\t33.83\t291.3\t111.0\t24.76\t197.6\t92.0\t8.89\t11.0\t6\t2.97\t1.0\tFalse\n",
    "...\t...\t...\t...\t...\t...\t...\t...\t...\t...\t...\t...\t...\t...\t...\t...\t...\t...\t...\t...\n",
    "OH\t160\t415\tNo\tNo\t0\t206.3\t66.0\t35.07\t241.1\t109.0\t20.49\t227.8\t102.0\t10.25\t11.7\t6\t3.16\t0.0\tFalse\n",
    "OH\t88\t408\tNo\tNo\t0\t274.6\t105.0\t46.68\t161.1\t121.0\t13.69\t194.4\t123.0\t8.75\t9.2\t4\t2.48\t2.0\tFalse\n",
    "OH\t106\t415\tNo\tYes\t30\t220.1\t105.0\t37.42\t222.2\t109.0\t18.89\t158.4\t96.0\t7.13\t13.1\t8\t3.54\t0.0\tFalse\n",
    "OH\t78\t408\tNo\tNo\t0\t193.4\t99.0\t32.88\t116.9\t88.0\t9.94\t243.3\t109.0\t10.95\t9.3\t4\t2.51\t2.0\tFalse\n",
    "OH\t96\t415\tNo\tNo\t0\t106.6\t128.0\t18.12\t284.8\t87.0\t24.21\t178.9\t92.0\t8.05\t14.9\t7\t4.02\t1.0\tFalse"
   ]
  },
  {
   "cell_type": "code",
   "execution_count": null,
   "id": "64ec6147-a279-43a6-a516-b5907d674c09",
   "metadata": {},
   "outputs": [],
   "source": [
    "#3.1 Dropping Rows"
   ]
  },
  {
   "cell_type": "code",
   "execution_count": null,
   "id": "20df6c18-e9b5-4e5f-93d2-666c2370664e",
   "metadata": {},
   "outputs": [],
   "source": [
    "df.isnull().sum()"
   ]
  },
  {
   "cell_type": "code",
   "execution_count": null,
   "id": "70314274-f179-46ce-b086-ae327c3c40a9",
   "metadata": {},
   "outputs": [],
   "source": [
    "State                      0\n",
    "Account length             0\n",
    "Area code                  0\n",
    "International plan         0\n",
    "Voice mail plan            0\n",
    "Number vmail messages      0\n",
    "Total day minutes         10\n",
    "Total day calls           10\n",
    "Total day charge          18\n",
    "Total eve minutes          9\n",
    "Total eve calls            8\n",
    "Total eve charge           0\n",
    "Total night minutes        0\n",
    "Total night calls          1\n",
    "Total night charge         0\n",
    "Total intl minutes         0\n",
    "Total intl calls           0\n",
    "Total intl charge          5\n",
    "Customer service calls     5\n",
    "Churn                      8\n",
    "dtype: int64"
   ]
  },
  {
   "cell_type": "code",
   "execution_count": null,
   "id": "b60caf66-adae-445d-bd07-17fdf8a45360",
   "metadata": {},
   "outputs": [],
   "source": [
    "df.dropna(inplace=True)"
   ]
  },
  {
   "cell_type": "code",
   "execution_count": null,
   "id": "915ee92f-a8bc-44ec-95bc-68c25864cbd9",
   "metadata": {},
   "outputs": [],
   "source": [
    "df.isnull().sum()"
   ]
  },
  {
   "cell_type": "code",
   "execution_count": null,
   "id": "77f04cd6-378c-4363-a3f1-b17611c94677",
   "metadata": {},
   "outputs": [],
   "source": [
    "State                     0\n",
    "Account length            0\n",
    "Area code                 0\n",
    "International plan        0\n",
    "Voice mail plan           0\n",
    "Number vmail messages     0\n",
    "Total day minutes         0\n",
    "Total day calls           0\n",
    "Total day charge          0\n",
    "Total eve minutes         0\n",
    "Total eve calls           0\n",
    "Total eve charge          0\n",
    "Total night minutes       0\n",
    "Total night calls         0\n",
    "Total night charge        0\n",
    "Total intl minutes        0\n",
    "Total intl calls          0\n",
    "Total intl charge         0\n",
    "Customer service calls    0\n",
    "Churn                     0\n",
    "dtype: int64"
   ]
  },
  {
   "cell_type": "code",
   "execution_count": null,
   "id": "df9cd5cf-a7e9-4b4c-8c83-9bf16d329fb3",
   "metadata": {},
   "outputs": [],
   "source": [
    "#3.2"
   ]
  },
  {
   "cell_type": "code",
   "execution_count": null,
   "id": "66ba9dd2-0dbd-4076-9710-1d0ddee69b09",
   "metadata": {},
   "outputs": [],
   "source": [
    "df.drop('Area Code', axis=1)"
   ]
  },
  {
   "cell_type": "code",
   "execution_count": null,
   "id": "9db35faa-38e7-4e20-9a84-19e09dcb433f",
   "metadata": {},
   "outputs": [],
   "source": [
    "\tState\tAccount length\tInternational plan\tVoice mail plan\tNumber vmail messages\tTotal day minutes\tTotal day calls\tTotal day charge\tTotal eve minutes\tTotal eve calls\tTotal eve charge\tTotal night minutes\tTotal night calls\tTotal night charge\tTotal intl minutes\tTotal intl calls\tTotal intl charge\tCustomer service calls\tChurn\n",
    "0\tKS\t128\tNo\tYes\t25\t265.1\t110.0\t45.07\t197.4\t99.0\t16.78\t244.7\t91.0\t11.01\t10.0\t3\t2.70\t1.0\tFalse\n",
    "1\tOH\t107\tNo\tYes\t26\t161.6\t123.0\t27.47\t195.5\t103.0\t16.62\t254.4\t103.0\t11.45\t13.7\t3\t3.70\t1.0\tFalse\n",
    "2\tNJ\t137\tNo\tNo\t0\t243.4\t114.0\t41.38\t121.2\t110.0\t10.30\t162.6\t104.0\t7.32\t12.2\t5\t3.29\t0.0\tFalse\n",
    "3\tOH\t84\tYes\tNo\t0\t299.4\t71.0\t50.90\t61.9\t88.0\t5.26\t196.9\t89.0\t8.86\t6.6\t7\t1.78\t2.0\tFalse\n",
    "4\tOK\t75\tYes\tNo\t0\t166.7\t113.0\t28.34\t148.3\t122.0\t12.61\t186.9\t121.0\t8.41\t10.1\t3\t2.73\t3.0\tFalse\n",
    "...\t...\t...\t...\t...\t...\t...\t...\t...\t...\t...\t...\t...\t...\t...\t...\t...\t...\t...\t...\n",
    "3328\tAZ\t192\tNo\tYes\t36\t156.2\t77.0\t26.55\t215.5\t126.0\t18.32\t279.1\t83.0\t12.56\t9.9\t6\t2.67\t2.0\tFalse\n",
    "3329\tWV\t68\tNo\tNo\t0\t231.1\t57.0\t39.29\t153.4\t55.0\t13.04\t191.3\t123.0\t8.61\t9.6\t4\t2.59\t3.0\tFalse\n",
    "3330\tRI\t28\tNo\tNo\t0\t180.8\t109.0\t30.74\t288.8\t58.0\t24.55\t191.9\t91.0\t8.64\t14.1\t6\t3.81\t2.0\tFalse\n",
    "3331\tCT\t184\tYes\tNo\t0\t213.8\t105.0\t36.35\t159.6\t84.0\t13.57\t139.2\t137.0\t6.26\t5.0\t10\t1.35\t2.0\tFalse\n",
    "3332\tTN\t74\tNo\tYes\t25\t234.4\t113.0\t39.85\t265.9\t82.0\t22.60\t241.4\t77.0\t10.86\t13.7\t4\t3.70\t0.0\tFalse"
   ]
  },
  {
   "cell_type": "code",
   "execution_count": null,
   "id": "8a14aaa1-b545-440d-a1ae-c08c6da12760",
   "metadata": {},
   "outputs": [],
   "source": [
    "3.3 Creating Calculated Columns"
   ]
  },
  {
   "cell_type": "code",
   "execution_count": null,
   "id": "8dc21c0f-a634-4b91-bda7-3522bc712682",
   "metadata": {},
   "outputs": [],
   "source": [
    "df['New Column'] = df['Total night mintues'] + df['Total intl mintues']"
   ]
  },
  {
   "cell_type": "code",
   "execution_count": null,
   "id": "9c67a619-470e-400b-b8ea-67218a45bd19",
   "metadata": {},
   "outputs": [],
   "source": [
    "df.head()"
   ]
  },
  {
   "cell_type": "code",
   "execution_count": null,
   "id": "d2aab8fe-b78b-467f-a1f3-9491089d2e16",
   "metadata": {},
   "outputs": [],
   "source": [
    "\n",
    "State\tAccount length\tArea code\tInternational plan\tVoice mail plan\tNumber vmail messages\tTotal day minutes\tTotal day calls\tTotal day charge\tTotal eve minutes\t...\tTotal eve charge\tTotal night minutes\tTotal night calls\tTotal night charge\tTotal intl minutes\tTotal intl calls\tTotal intl charge\tCustomer service calls\tChurn\tNew Column\n",
    "0\tKS\t128\t415\tNo\tYes\t25\t265.1\t110.0\t45.07\t197.4\t...\t16.78\t244.7\t91.0\t11.01\t10.0\t3\t2.70\t1.0\tFalse\t254.7\n",
    "1\tOH\t107\t415\tNo\tYes\t26\t161.6\t123.0\t27.47\t195.5\t...\t16.62\t254.4\t103.0\t11.45\t13.7\t3\t3.70\t1.0\tFalse\t268.1\n",
    "2\tNJ\t137\t415\tNo\tNo\t0\t243.4\t114.0\t41.38\t121.2\t...\t10.30\t162.6\t104.0\t7.32\t12.2\t5\t3.29\t0.0\tFalse\t174.8\n",
    "3\tOH\t84\t408\tYes\tNo\t0\t299.4\t71.0\t50.90\t61.9\t...\t5.26\t196.9\t89.0\t8.86\t6.6\t7\t1.78\t2.0\tFalse\t203.5\n",
    "4\tOK\t75\t415\tYes\tNo\t0\t166.7\t113.0\t28.34\t148.3\t...\t12.61\t186.9\t121.0\t8.41\t10.1\t3\t2.73\t3.0\tFalse\t197.0"
   ]
  },
  {
   "cell_type": "code",
   "execution_count": null,
   "id": "0ea8da77-fa3d-4cfc-882a-07e2e2cf258f",
   "metadata": {},
   "outputs": [],
   "source": [
    "3.4 Updating an Entire Column "
   ]
  },
  {
   "cell_type": "code",
   "execution_count": null,
   "id": "4725fac8-bde9-4af8-9d6f-7d16ed7e53fd",
   "metadata": {},
   "outputs": [],
   "source": [
    "df['New Column'] = 100"
   ]
  },
  {
   "cell_type": "code",
   "execution_count": null,
   "id": "909e6787-62b0-442c-a515-56ae7956fff0",
   "metadata": {},
   "outputs": [],
   "source": [
    "df.head()"
   ]
  },
  {
   "cell_type": "code",
   "execution_count": null,
   "id": "ed73565f-c9b3-4186-a0a9-a103d4a761c7",
   "metadata": {},
   "outputs": [],
   "source": [
    "State\tAccount length\tArea code\tInternational plan\tVoice mail plan\tNumber vmail messages\tTotal day minutes\tTotal day calls\tTotal day charge\tTotal eve minutes\t...\tTotal eve charge\tTotal night minutes\tTotal night calls\tTotal night charge\tTotal intl minutes\tTotal intl calls\tTotal intl charge\tCustomer service calls\tChurn\tNew Column\n",
    "0\tKS\t128\t415\tNo\tYes\t25\t265.1\t110.0\t45.07\t197.4\t...\t16.78\t244.7\t91.0\t11.01\t10.0\t3\t2.70\t1.0\tFalse\t100\n",
    "1\tOH\t107\t415\tNo\tYes\t26\t161.6\t123.0\t27.47\t195.5\t...\t16.62\t254.4\t103.0\t11.45\t13.7\t3\t3.70\t1.0\tFalse\t100\n",
    "2\tNJ\t137\t415\tNo\tNo\t0\t243.4\t114.0\t41.38\t121.2\t...\t10.30\t162.6\t104.0\t7.32\t12.2\t5\t3.29\t0.0\tFalse\t100\n",
    "3\tOH\t84\t408\tYes\tNo\t0\t299.4\t71.0\t50.90\t61.9\t...\t5.26\t196.9\t89.0\t8.86\t6.6\t7\t1.78\t2.0\tFalse\t100\n",
    "4\tOK\t75\t415\tYes\tNo\t0\t166.7\t113.0\t28.34\t148.3\t...\t12.61\t186.9\t121.0\t8.41\t10.1\t3\t2.73\t3.0\tFalse\t100"
   ]
  },
  {
   "cell_type": "code",
   "execution_count": null,
   "id": "fe996723-c85f-441e-8c26-5866056fe799",
   "metadata": {},
   "outputs": [],
   "source": [
    "#3.5"
   ]
  },
  {
   "cell_type": "code",
   "execution_count": null,
   "id": "e46ee99a-face-4811-aea3-9f1caac36be4",
   "metadata": {},
   "outputs": [],
   "source": [
    "df.iloc[0,-1] = 10"
   ]
  },
  {
   "cell_type": "code",
   "execution_count": null,
   "id": "359fb5a0-f45c-44ae-8014-b5de15385c06",
   "metadata": {},
   "outputs": [],
   "source": [
    "df.head()"
   ]
  },
  {
   "cell_type": "code",
   "execution_count": null,
   "id": "46d69ac9-af74-4e62-bc5a-885bf5fce18c",
   "metadata": {},
   "outputs": [],
   "source": [
    "\tState\tAccount length\tArea code\tInternational plan\tVoice mail plan\tNumber vmail messages\tTotal day minutes\tTotal day calls\tTotal day charge\tTotal eve minutes\t...\tTotal eve charge\tTotal night minutes\tTotal night calls\tTotal night charge\tTotal intl minutes\tTotal intl calls\tTotal intl charge\tCustomer service calls\tChurn\tNew Column\n",
    "0\tKS\t128\t415\tNo\tYes\t25\t265.1\t110.0\t45.07\t197.4\t...\t16.78\t244.7\t91.0\t11.01\t10.0\t3\t2.70\t1.0\tFalse\t10\n",
    "1\tOH\t107\t415\tNo\tYes\t26\t161.6\t123.0\t27.47\t195.5\t...\t16.62\t254.4\t103.0\t11.45\t13.7\t3\t3.70\t1.0\tFalse\t100\n",
    "2\tNJ\t137\t415\tNo\tNo\t0\t243.4\t114.0\t41.38\t121.2\t...\t10.30\t162.6\t104.0\t7.32\t12.2\t5\t3.29\t0.0\tFalse\t100\n",
    "3\tOH\t84\t408\tYes\tNo\t0\t299.4\t71.0\t50.90\t61.9\t...\t5.26\t196.9\t89.0\t8.86\t6.6\t7\t1.78\t2.0\tFalse\t100\n",
    "4\tOK\t75\t415\tYes\tNo\t0\t166.7\t113.0\t28.34\t148.3\t...\t12.61\t186.9\t121.0\t8.41\t10.1\t3\t2.73\t3.0\tFalse\t100"
   ]
  },
  {
   "cell_type": "code",
   "execution_count": null,
   "id": "c7f4a5b9-67aa-41d2-b2c9-78d75386e4eb",
   "metadata": {},
   "outputs": [],
   "source": [
    "df['Churn Binary'] = df['Churn'].apply(lambda x: 1 if x==True else 0)"
   ]
  },
  {
   "cell_type": "code",
   "execution_count": null,
   "id": "89f81cc1-9f27-4cfe-bae3-0bda30d8401a",
   "metadata": {},
   "outputs": [],
   "source": [
    "df[df['Churn']==True].head()"
   ]
  },
  {
   "cell_type": "code",
   "execution_count": null,
   "id": "02b8033a-48ba-4cf3-beeb-1bef4f00400f",
   "metadata": {},
   "outputs": [],
   "source": [
    "\tState\tAccount length\tArea code\tInternational plan\tVoice mail plan\tNumber vmail messages\tTotal day minutes\tTotal day calls\tTotal day charge\tTotal eve minutes\t...\tTotal night minutes\tTotal night calls\tTotal night charge\tTotal intl minutes\tTotal intl calls\tTotal intl charge\tCustomer service calls\tChurn\tNew Column\tChurn Binary\n",
    "10\tIN\t65\t415\tNo\tNo\t0\t129.1\t137.0\t21.95\t228.5\t...\t208.8\t111.0\t9.40\t12.7\t6\t3.43\t4.0\tTrue\t100\t1\n",
    "41\tMD\t135\t408\tYes\tYes\t41\t173.1\t85.0\t29.43\t203.9\t...\t122.2\t78.0\t5.50\t14.6\t15\t3.94\t0.0\tTrue\t100\t1\n",
    "48\tID\t119\t415\tNo\tNo\t0\t159.1\t114.0\t27.05\t231.3\t...\t143.2\t91.0\t6.44\t8.8\t3\t2.38\t5.0\tTrue\t100\t1\n",
    "54\tWY\t87\t415\tNo\tNo\t0\t151.0\t83.0\t25.67\t219.7\t...\t203.9\t127.0\t9.18\t9.7\t3\t2.62\t5.0\tTrue\t100\t1\n",
    "57\tCO\t121\t408\tNo\tYes\t30\t198.4\t129.0\t33.73\t75.3\t...\t181.2\t77.0\t8.15\t5.8\t3\t1.57\t3.0\tTrue\t100\t1"
   ]
  },
  {
   "cell_type": "code",
   "execution_count": null,
   "id": "a42c83d6-12db-4f2b-8cb6-b412b344abdb",
   "metadata": {},
   "outputs": [],
   "source": [
    "#4.1\n",
    "df.to_csv('output.csv')"
   ]
  },
  {
   "cell_type": "code",
   "execution_count": null,
   "id": "f5e9ee85-9020-45c7-9e17-d2a7db03d440",
   "metadata": {},
   "outputs": [],
   "source": [
    "'{\"State\":{\"0\":\"KS\",\"1\":\"OH\",\"2\":\"NJ\",\"3\":\"OH\",\"4\":\"OK\",\"5\":\"AL\",\"7\":\"MO\",\"8\":\"LA\",\"9\":\"WV\",\"10\":\"IN\",\"11\":\"RI\",\"23\":\"SC\",\"24\":\"VA\",\"25\":\"NE\",\"26\":\"WY\",\"27\":\"MT\",\"28\":\"MO\",\"30\":\"IL\",\"39\":\"NJ\",\"40\":\"GA\",\"41\":\"MD\",\"42\":\"AR\",\"43\":\"ID\",\"44\":\"WI\",\"45\":\"OR\",\"46\":\"MI\",\"47\":\"DE\",\"48\":\"ID\",\"49\":\"WY\",\"50\":\"IA\",\"51\":\"IN\",\"52\":\"VA\",\"53\":\"UT\",\"54\":\"WY\",\"55\":\"IN\",\"56\":\"CO\",\"57\":\"CO\",\"58\":\"WI\",\"59\":\"OK\",\"60\":\"ID\",\"61\":\"CA\",\"62\":\"MN\",\"63\":\"SD\",\"64\":\"NC\",\"65\":\"WA\",\"66\":\"WY\",\"67\":\"MN\",\"68\":\"UT\",\"69\":\"TX\",\"70\":\"NJ\",\"71\":\"MN\",\"72\":\"NM\",\"73\":\"NV\",\"74\":\"HI\",\"75\":\"MN\",\"76\":\"DC\",\"77\":\"NY\",\"78\":\"MN\",\"79\":\"MD\",\"80\":\"WV\",\"81\":\"OR\",\"82\":\"CO\",\"83\":\"GA\",\"84\":\"TX\",\"85\":\"VT\",\"86\":\"IN\",\"87\":\"WV\",\"88\":\"KY\",\"89\":\"NJ\",\"90\":\"DC\",\"91\":\"LA\",\"92\":\"AR\",\"93\":\"ME\",\"94\":\"AZ\",\"95\":\"AK\",\"96\":\"MT\",\"97\":\"AZ\",\"98\":\"MS\",\"99\":\"ID\",\"100\":\"IA\",\"101\":\"MA\",\"102\":\"VT\",\"103\":\"KY\",\"104\":\"IN\",\"105\":\"AZ\",\"106\":\"MI\",\"107\":\"NM\",\"108\":\"CO\",\"109\":\"UT\",\"110\":\"MI\",\"111\":\"MA\",\"112\":\"AL\",\"113\":\"DE\",\"114\":\"AZ\",\"115\":\"ME\",\"116\":\"NJ\",\"117\":\"NV\",\"118\":\"MO\",\"119\":\"ID\",\"120\":\"NE\",\"121\":\"TX\",\"122\":\"MD\",\"123\":\"MS\",\"124\":\"NV\",\"125\":\"AZ\",\"126\":\"MS\",\"127\":\"MS\",\"128\":\"TX\",\"129\":\"NE\",\"130\":\"NE\",\"131\":\"CA\",\"132\":\"NJ\",\"133\":\"TX\",\"134\":\"AR\",\"135\":\"AL\",\"136\":\"NY\",\"137\":\"FL\",\"143\":\"VT\",\"144\":\"VT\",\"145\":\"MI\",\"146\":\"WA\",\"147\":\"UT\",\"148\":\"LA\",\"149\":\"RI\",\"150\":\"IA\",\"151\":\"NE\",\"152\":\"OH\",\"153\":\"RI\",\"154\":\"OK\",\"155\":\"LA\",\"156\":\"OH\",\"157\":\"VA\",\"158\":\"MO\",\"159\":\"FL\",\"160\":\"SC\",\"161\":\"VA\",\"162\":\"IA\",\"163\":\"MI\",\"164\":\"OK\",\"165\":\"DE\",\"166\":\"GA\",\"167\":\"DC\",\"168\":\"AZ\",\"169\":\"AL\",\"170\":\"CO\",\"171\":\"NH\",\"172\":\"NM\",\"173\":\"OR\",\"174\":\"LA\",\"175\":\"NE\",\"176\":\"MN\",\"177\":\"MI\",\"178\":\"AR\",\"179\":\"KS\",\"180\":\"WV\",\"181\":\"AK\",\"182\":\"NY\",\"183\":\"NH\",\"184\":\"VA\",\"185\":\"NM\",\"186\":\"NY\",\"187\":\"AZ\",\"188\":\"WY\",\"189\":\"WA\",\"190\":\"CO\",\"191\":\"TX\",\"192\":\"KY\",\"193\":\"MT\",\"194\":\"OK\",\"195\":\"MD\",\"196\":\"TN\",\"197\":\"TX\",\"198\":\"ME\",\"199\":\"DC\",\"200\":\"MN\",\"201\":\"DE\",\"202\":\"MD\",\"203\":\"MI\",\"204\":\"WA\",\"205\":\"MO\",\"206\":\"IN\",\"207\":\"OR\",\"208\":\"MD\",\"209\":\"RI\",\"210\":\"LA\",\"211\":\"AZ\",\"212\":\"PA\",\"213\":\"AZ\",\"214\":\"FL\",\"215\":\"LA\",\"216\":\"FL\",\"217\":\"FL\",\"218\":\"MD\",\"219\":\"AL\",\"220\":\"WA\",\"221\":\"TN\",\"222\":\"MS\",\"223\":\"ME\",\"224\":\"OK\",\"225\":\"IN\",\"226\":\"MO\",\"227\":\"IA\",\"228\":\"VA\",\"229\":\"KY\",\"230\":\"MD\",\"231\":\"OH\",\"232\":\"OK\",\"233\":\"NV\",\"234\":\"ID\",\"235\":\"MN\",\"236\":\"SD\",\"237\":\"IL\",\"238\":\"WY\",\"239\":\"AL\",\"240\":\"NJ\",\"241\":\"NV\",\"242\":\"IN\",\"243\":\"WV\",\"244\":\"VA\",\"245\":\"SC\",\"246\":\"RI\",\"247\":\"IN\",\"248\":\"AZ\",\"249\":\"NM\",\"250\":\"OR\",\"251\":\"NJ\",\"252\":\"MS\",\"253\":\"MI\",\"254\":\"TX\",\"255\":\"FL\",\"256\":\"DC\",\"257\":\"TX\",\"258\":\"KS\",\"259\":\"UT\",\"260\":\"MN\",\"261\":\"IL\",\"262\":\"NM\",\"263\":\"SC\",\"264\":\"NC\",\"265\":\"WV\",\"266\":\"RI\",\"267\":\"NH\",\"268\":\"MO\",\"269\":\"MA\",\"270\":\"PA\",\"271\":\"OK\",\"272\":\"AL\",\"273\":\"WY\",\"274\":\"PA\",\"275\":\"WA\",\"276\":\"HI\",\"277\":\"SD\",\"278\":\"AL\",\"279\":\"VT\",\"280\":\"MT\",\"281\":\"MN\",\"282\":\"AK\",\"283\":\"MI\",\"284\":\"DE\",\"285\":\"SD\",\"286\":\"MI\",\"287\":\"KS\",\"288\":\"AL\",\"289\":\"OK\",\"290\":\"CT\",\"291\":\"NE\",\"292\":\"WI\",\"293\":\"CT\",\"294\":\"WI\",\"295\":\"IN\",\"296\":\"DC\",\"297\":\"AR\",\"298\":\"ME\",\"299\":\"MN\",\"300\":\"MD\",\"301\":\"FL\",\"302\":\"RI\",\"303\":\"IA\",\"304\":\"AZ\",\"305\":\"MO\",\"306\":\"VT\",\"307\":\"IN\",\"308\":\"RI\",\"309\":\"SD\",\"310\":\"MN\",\"311\":\"TX\",\"312\":\"VA\",\"313\":\"MA\",\"314\":\"ID\",\"315\":\"MA\",\"316\":\"GA\",\"317\":\"RI\",\"318\":\"ID\",\"319\":\"SD\",\"320\":\"MA\",\"321\":\"WY\",\"322\":\"VA\",\"323\":\"OR\",\"324\":\"VA\",\"325\":\"ME\",\"326\":\"AL\",\"327\":\"GA\",\"328\":\"IA\",\"329\":\"AZ\",\"330\":\"FL\",\"331\":\"MT\",\"332\":\"AL\",\"333\":\"DE\",\"334\":\"MT\",\"335\":\"KY\",\"336\":\"SC\",\"337\":\"WA\",\"338\":\"OR\",\"339\":\"AK\",\"340\":\"GA\",\"341\":\"MN\",\"342\":\"IL\",\"343\":\"IN\",\"344\":\"SC\",\"345\":\"VA\",\"346\":\"WI\",\"347\":\"VT\",\"348\":\"AZ\",\"349\":\"FL\",\"350\":\"AK\",\"351\":\"AR\",\"352\":\"AR\",\"353\":\"AK\",\"354\":\"MS\",\"355\":\"ME\",\"356\":\"CA\",\"357\":\"NM\",\"358\":\"NE\",\"359\":\"SC\",\"360\":\"CO\",\"361\":\"DE\",\"362\":\"OH\",\"363\":\"MS\",\"364\":\"OK\",\"365\":\"CO\",\"366\":\"NC\",\"367\":\"MD\",\"368\":\"KS\",\"369\":\"MA\",\"370\":\"NC\",\"371\":\"NM\",\"372\":\"CA\",\"373\":\"NY\",\"374\":\"AZ\",\"375\":\"SD\",\"376\":\"DC\",\"377\":\"ND\",\"378\":\"MO\",\"379\":\"KS\",\"380\":\"SD\",\"381\":\"OK\",\"382\":\"OR\",\"383\":\"IN\",\"384\":\"OH\",\"385\":\"KS\",\"386\":\"CT\",\"387\":\"NH\",\"388\":\"WI\",\"389\":\"MS\",\"390\":\"WV\",\"391\":\"MA\",\"392\":\"MD\",\"393\":\"PA\",\"394\":\"WI\",\"395\":\"TN\",\"396\":\"TX\",\"397\":\"OR\",\"398\":\"IL\",\"399\":\"DC\",\"400\":\"GA\",\"401\":\"ID\",\"402\":\"UT\",\"403\":\"KY\",\"404\":\"OH\",\"405\":\"WI\",\"406\":\"IL\",\"407\":\"DE\",\"408\":\"RI\",\"409\":\"TX\",\"410\":\"OR\",\"411\":\"NV\",\"412\":\"NE\",\"413\":\"MS\",\"414\":\"OR\",\"415\":\"DE\",\"416\":\"DE\",\"417\":\"AZ\",\"418\":\"SD\",\"419\":\"NV\",\"420\":\"NM\",\"421\":\"MN\",\"422\":\"NJ\",\"423\":\"IN\",\"424\":\"DC\",\"425\":\"MA\",\"426\":\"ME\",\"427\":\"NH\",\"428\":\"AZ\",\"429\":\"OR\",\"430\":\"KS\",\"431\":\"NE\",\"432\":\"MI\",\"433\":\"SC\",\"434\":\"PA\",\"435\":\"MT\",\"436\":\"NM\",\"437\":\"OH\",\"438\":\"WY\",\"439\":\"MI\",\"440\":\"AR\",\"441\":\"FL\",\"442\":\"AR\",\"443\":\"MO\",\"444\":\"WI\",\"445\":\"TX\",\"446\":\"TX\",\"447\":\"NM\",\"448\":\"GA\",\"449\":\"ID\",\"450\":\"AL\",\"451\":\"KS\",\"452\":\"SD\",\"453\":\"LA\",\"454\":\"OH\",\"455\":\"MA\",\"456\":\"AZ\",\"457\":\"KY\",\"458\":\"DC\",\"459\":\"WA\",\"460\":\"UT\",\"461\":\"RI\",\"462\":\"OH\",\"463\":\"NV\",\"464\":\"ND\",\"465\":\"NV\",\"466\":\"FL\",\"467\":\"MD\",\"468\":\"AZ\",\"469\":\"AL\",\"470\":\"NE\",\"471\":\"NV\",\"472\":\"IL\",\"473\":\"WV\",\"474\":\"MI\",\"475\":\"AR\",\"476\":\"UT\",\"477\":\"GA\",\"478\":\"AZ\",\"479\":\"ID\",\"480\":\"HI\",\"481\":\"NV\",\"482\":\"MD\",\"483\":\"GA\",\"484\":\"GA\",\"485\":\"UT\",\"486\":\"MA\",\"487\":\"IN\",\"488\":\"VT\",\"489\":\"IA\",\"490\":\"IN\",\"491\":\"AL\",\"492\":\"ME\",\"493\":\"RI\",\"494\":\"MD\",\"495\":\"FL\",\"496\":\"CA\",\"497\":\"AL\",\"498\":\"ME\",\"499\":\"WV\",\"500\":\"SD\",\"501\":\"FL\",\"502\":\"MI\",\"503\":\"MI\",\"504\":\"NM\",\"505\":\"AK\",\"506\":\"OH\",\"507\":\"MO\",\"508\":\"KS\",\"509\":\"MS\",\"510\":\"VT\",\"511\":\"NE\",\"512\":\"VA\",\"513\":\"DE\",\"514\":\"AL\",\"515\":\"ID\",\"516\":\"MS\",\"517\":\"OK\",\"518\":\"NM\",\"519\":\"WI\",\"520\":\"WV\",\"521\":\"SC\",\"522\":\"KY\",\"523\":\"MO\",\"524\":\"IL\",\"525\":\"OK\",\"526\":\"MI\",\"527\":\"NJ\",\"528\":\"ID\",\"529\":\"DC\",\"530\":\"NY\",\"531\":\"AL\",\"532\":\"OR\",\"533\":\"OK\",\"534\":\"LA\",\"535\":\"NE\",\"536\":\"TX\",\"537\":\"UT\",\"538\":\"OR\",\"539\":\"NY\",\"540\":\"AL\",\"541\":\"RI\",\"542\":\"MN\",\"543\":\"NC\",\"544\":\"MD\",\"545\":\"RI\",\"546\":\"WI\",\"547\":\"VT\",\"548\":\"CT\",\"549\":\"OK\",\"550\":\"AK\",\"551\":\"NY\",\"552\":\"GA\",\"553\":\"UT\",\"554\":\"NM\",\"555\":\"NE\",\"556\":\"NJ\",\"557\":\"TX\",\"558\":\"MT\",\"559\":\"CO\",\"560\":\"VT\",\"561\":\"RI\",\"562\":\"WY\",\"563\":\"ID\",\"564\":\"CT\",\"565\":\"ME\",\"566\":\"AZ\",\"567\":\"MD\",\"568\":\"IN\",\"569\":\"NC\",\"570\":\"DE\",\"571\":\"MN\",\"572\":\"WI\",\"573\":\"FL\",\"574\":\"WV\",\"575\":\"SD\",\"576\":\"FL\",\"577\":\"OR\",\"578\":\"CO\",\"579\":\"CT\",\"580\":\"IN\",\"581\":\"PA\",\"582\":\"NM\",\"583\":\"ME\",\"584\":\"SD\",\"585\":\"AR\",\"586\":\"TX\",\"587\":\"NH\",\"588\":\"OK\",\"589\":\"WI\",\"590\":\"AL\",\"591\":\"PA\",\"592\":\"OK\",\"593\":\"ME\",\"594\":\"WV\",\"595\":\"HI\",\"596\":\"MN\",\"597\":\"NY\",\"598\":\"AZ\",\"599\":\"OH\",\"600\":\"MI\",\"601\":\"MA\",\"602\":\"WV\",\"603\":\"MI\",\"604\":\"NM\",\"605\":\"MO\",\"606\":\"RI\",\"607\":\"NC\",\"608\":\"WY\",\"609\":\"WY\",\"610\":\"PA\",\"611\":\"KY\",\"612\":\"OR\",\"613\":\"NV\",\"614\":\"DC\",\"615\":\"UT\",\"616\":\"WA\",\"617\":\"FL\",\"618\":\"VA\",\"619\":\"KS\",\"620\":\"KS\",\"621\":\"DC\",\"622\":\"ME\",\"623\":\"LA\",\"624\":\"DC\",\"625\":\"TX\",\"626\":\"NJ\",\"627\":\"DE\",\"628\":\"VT\",\"629\":\"GA\",\"630\":\"TX\",\"631\":\"MT\",\"632\":\"ND\",\"633\":\"NJ\",\"634\":\"MO\",\"635\":\"CO\",\"636\":\"KS\",\"637\":\"NC\",\"638\":\"MT\",\"639\":\"DE\",\"640\":\"ND\",\"641\":\"VA\",\"642\":\"IL\",\"643\":\"OK\",\"644\":\"CO\",\"645\":\"MT\",\"646\":\"WV\",\"647\":\"ME\",\"648\":\"WI\",\"649\":\"MO\",\"650\":\"NY\",\"651\":\"CT\",\"652\":\"AR\",\"653\":\"WY\",\"654\":\"CA\",\"655\":\"CA\",\"656\":\"MN\",\"657\":\"AK\",\"658\":\"VA\",\"659\":\"CO\",\"660\":\"MT\",\"661\":\"SD\",\"662\":\"NE\",\"663\":\"VT\",\"664\":\"ND\",\"665\":\"GA\",\"666\":\"OR\",\"667\":\"MT\",\"668\":\"WY\",\"669\":\"GA\",\"670\":\"WV\",\"671\":\"CT\",\"672\":\"IL\",\"673\":\"CO\",\"674\":\"DE\",\"675\":\"LA\",\"676\":\"MA\",\"677\":\"IN\",\"678\":\"NY\",\"679\":\"TX\",\"680\":\"KS\",\"681\":\"WV\",\"682\":\"NE\",\"683\":\"ND\",\"684\":\"AK\",\"685\":\"CO\",\"686\":\"ME\",\"687\":\"SC\",\"688\":\"MN\",\"689\":\"CO\",\"690\":\"KS\",\"691\":\"MS\",\"692\":\"NE\",\"693\":\"NJ\",\"694\":\"WI\",\"695\":\"MT\",\"696\":\"AR\",\"697\":\"WA\",\"698\":\"NH\",\"699\":\"IA\",\"700\":\"WV\",\"701\":\"RI\",\"702\":\"KS\",\"703\":\"MT\",\"704\":\"MO\",\"705\":\"HI\",\"706\":\"CO\",\"707\":\"CT\",\"708\":\"ID\",\"709\":\"DC\",\"710\":\"TN\",\"711\":\"WY\",\"712\":\"MO\",\"713\":\"VA\",\"714\":\"SD\",\"715\":\"WV\",\"716\":\"GA\",\"717\":\"AZ\",\"718\":\"AK\",\"719\":\"AK\",\"720\":\"CT\",\"721\":\"UT\",\"722\":\"KY\",\"723\":\"MI\",\"724\":\"OR\",\"725\":\"TN\",\"726\":\"WV\",\"727\":\"NJ\",\"728\":\"MS\",\"729\":\"ME\",\"730\":\"WY\",\"731\":\"WY\",\"732\":\"IN\",\"733\":\"NM\",\"734\":\"NJ\",\"735\":\"DC\",\"736\":\"UT\",\"737\":\"KY\",\"738\":\"KS\",\"739\":\"MI\",\"740\":\"UT\",\"741\":\"NE\",\"742\":\"FL\",\"743\":\"LA\",\"744\":\"MT\",\"745\":\"WA\",\"746\":\"MI\",\"747\":\"KY\",\"748\":\"LA\",\"749\":\"NM\",\"750\":\"AL\",\"751\":\"MO\",\"752\":\"CO\",\"753\":\"TX\",\"754\":\"NY\",\"755\":\"OR\",\"756\":\"WY\",\"757\":\"UT\",\"758\":\"LA\",\"759\":\"NV\",\"760\":\"NC\",\"761\":\"NC\",\"762\":\"WY\",\"763\":\"TN\",\"764\":\"FL\",\"765\":\"CA\",\"766\":\"PA\",\"767\":\"WV\",\"768\":\"NJ\",\"769\":\"MT\",\"770\":\"MN\",\"771\":\"WI\",\"772\":\"ID\",\"773\":\"MA\",\"774\":\"OR\",\"775\":\"MT\",\"776\":\"AL\",\"777\":\"ND\",\"778\":\"LA\",\"779\":\"ND\",\"780\":\"MS\",\"781\":\"WV\",\"782\":\"WI\",\"783\":\"KS\",\"784\":\"MO\",\"785\":\"PA\",\"786\":\"SD\",\"787\":\"NJ\",\"788\":\"AL\",\"789\":\"ME\",\"790\":\"AZ\",\"791\":\"VT\",\"792\":\"NV\",\"793\":\"WI\",\"794\":\"HI\",\"795\":\"DE\",\"796\":\"AZ\",\"797\":\"VA\",\"798\":\"GA\",\"799\":\"AZ\",\"800\":\"MN\",\"801\":\"ME\",\"802\":\"FL\",\"803\":\"WA\",\"804\":\"MT\",\"805\":\"AL\",\"806\":\"WV\",\"807\":\"GA\",\"808\":\"OH\",\"809\":\"DE\",\"810\":\"NE\",\"811\":\"FL\",\"812\":\"AK\",\"813\":\"WI\",\"814\":\"WA\",\"815\":\"KY\",\"816\":\"OH\",\"817\":\"UT\",\"818\":\"NM\",\"819\":\"MN\",\"820\":\"WV\",\"821\":\"MN\",\"822\":\"AL\",\"823\":\"PA\",\"824\":\"DE\",\"825\":\"MO\",\"826\":\"IL\",\"827\":\"FL\",\"828\":\"HI\",\"829\":\"ME\",\"830\":\"CO\",\"831\":\"NH\",\"832\":\"SC\",\"833\":\"IN\",\"834\":\"FL\",\"835\":\"GA\",\"836\":\"IL\",\"837\":\"NC\",\"838\":\"VT\",\"839\":\"DC\",\"840\":\"VT\",\"841\":\"NV\",\"842\":\"OR\",\"843\":\"AL\",\"844\":\"ND\",\"845\":\"FL\",\"846\":\"NE\",\"847\":\"ND\",\"848\":\"ME\",\"849\":\"IL\",\"850\":\"WA\",\"851\":\"MA\",\"852\":\"KS\",\"853\":\"RI\",\"854\":\"MO\",\"855\":\"IA\",\"856\":\"WY\",\"857\":\"NV\",\"858\":\"WI\",\"859\":\"AL\",\"860\":\"HI\",\"861\":\"MO\",\"862\":\"CA\",\"863\":\"MO\",\"864\":\"CT\",\"865\":\"MD\",\"866\":\"OH\",\"867\":\"NV\",\"868\":\"MD\",\"869\":\"NE\",\"870\":\"OH\",\"871\":\"MA\",\"872\":\"OK\",\"873\":\"MA\",\"874\":\"WA\",\"875\":\"HI\",\"876\":\"CO\",\"877\":\"FL\",\"878\":\"WI\",\"879\":\"ID\",\"880\":\"WY\",\"881\":\"GA\",\"882\":\"FL\",\"883\":\"WY\",\"884\":\"DE\",\"885\":\"ME\",\"886\":\"DC\",\"887\":\"IA\",\"888\":\"CO\",\"889\":\"MN\",\"890\":\"VT\",\"891\":\"AZ\",\"892\":\"LA\",\"893\":\"MO\",\"894\":\"ME\",\"895\":\"MD\",\"896\":\"VT\",\"897\":\"DC\",\"898\":\"WY\",\"899\":\"VA\",\"900\":\"VA\",\"901\":\"CT\",\"902\":\"HI\",\"903\":\"WI\",\"904\":\"MD\",\"905\":\"WV\",\"906\":\"VT\",\"907\":\"UT\",\"908\":\"CO\",\"909\":\"NC\",\"910\":\"NJ\",\"911\":\"AR\",\"912\":\"IA\",\"913\":\"GA\",\"914\":\"MO\",\"915\":\"MO\",\"916\":\"WY\",\"917\":\"HI\",\"918\":\"PA\",\"919\":\"TX\",\"920\":\"VA\",\"921\":\"RI\",\"922\":\"WI\",\"923\":\"MS\",\"924\":\"KY\",\"925\":\"NC\",\"926\":\"NV\",\"927\":\"UT\",\"928\":\"ME\",\"929\":\"HI\",\"930\":\"OH\",\"931\":\"WV\",\"932\":\"OK\",\"933\":\"KY\",\"934\":\"AL\",\"935\":\"MD\",\"936\":\"NE\",\"937\":\"DC\",\"938\":\"TX\",\"939\":\"OH\",\"940\":\"DE\",\"941\":\"IA\",\"942\":\"VT\",\"943\":\"OR\",\"944\":\"NV\",\"945\":\"NC\",\"946\":\"NJ\",\"947\":\"MN\",\"948\":\"ID\",\"949\":\"AL\",\"950\":\"AK\",\"951\":\"VT\",\"952\":\"PA\",\"953\":\"AK\",\"954\":\"CA\",\"955\":\"MS\",\"956\":\"AR\",\"957\":\"NV\",\"958\":\"AL\",\"959\":\"GA\",\"960\":\"AR\",\"961\":\"MA\",\"962\":\"NJ\",\"963\":\"MO\",\"964\":\"NY\",\"965\":\"AZ\",\"966\":\"NJ\",\"967\":\"WV\",\"968\":\"NM\",\"969\":\"SC\",\"970\":\"VT\",\"971\":\"TN\",\"972\":\"LA\",\"973\":\"OH\",\"974\":\"OR\",\"975\":\"DE\",\"976\":\"KY\",\"977\":\"GA\",\"978\":\"VT\",\"979\":\"OR\",\"980\":\"TX\",\"981\":\"MO\",\"982\":\"ND\",\"983\":\"MN\",\"984\":\"NV\",\"985\":\"NY\",\"986\":\"FL\",\"987\":\"KS\",\"988\":\"NV\",\"989\":\"NV\",\"990\":\"SC\",\"991\":\"MI\",\"992\":\"MI\",\"993\":\"TN\",\"994\":\"NY\",\"995\":\"NV\",\"996\":\"IL\",\"997\":\"MS\",\"998\":\"ND\",\"999\":\"NC\",\"1000\":\"MI\",\"1001\":\"TN\",\"1002\":\"VT\",\"1003\":\"OK\",\"1004\":\"DE\",\"1005\":\"ND\",\"1006\":\"OR\",\"1007\":\"NY\",\"1008\":\"MO\",\"1009\":\"FL\",\"1010\":\"ND\",\"1011\":\"NY\",\"1012\":\"ND\",\"1013\":\"NY\",\"1014\":\"OH\",\"1015\":\"AL\",\"1016\":\"SC\",\"1017\":\"GA\",\"1018\":\"WY\",\"1019\":\"WV\",\"1020\":\"HI\",\"1021\":\"WV\",\"1022\":\"LA\",\"1023\":\"AR\",\"1024\":\"AK\",\"1025\":\"DC\",\"1026\":\"AL\",\"1027\":\"UT\",\"1028\":\"KS\",\"1029\":\"MN\",\"1030\":\"VA\",\"1031\":\"UT\",\"1032\":\"IN\",\"1033\":\"CT\",\"1034\":\"DE\",\"1035\":\"VT\",\"1036\":\"MO\",\"1037\":\"RI\",\"1038\":\"CA\",\"1039\":\"RI\",\"1040\":\"CT\",\"1041\":\"IN\",\"1042\":\"FL\",\"1043\":\"KS\",\"1044\":\"NY\",\"1045\":\"TX\",\"1046\":\"RI\",\"1047\":\"NV\",\"1048\":\"UT\",\"1049\":\"OK\",\"1050\":\"MN\",\"1051\":\"NC\",\"1052\":\"OR\",\"1053\":\"NH\",\"1054\":\"AK\",\"1055\":\"OR\",\"1056\":\"KS\",\"1057\":\"WV\",\"1058\":\"GA\",\"1059\":\"NM\",\"1060\":\"OH\",\"1061\":\"ND\",\"1062\":\"RI\",\"1063\":\"HI\",\"1064\":\"WY\",\"1065\":\"NY\",\"1066\":\"KS\",\"1067\":\"LA\",\"1068\":\"PA\",\"1069\":\"NV\",\"1070\":\"MN\",\"1071\":\"PA\",\"1072\":\"MO\",\"1073\":\"NY\",\"1074\":\"ME\",\"1075\":\"NH\",\"1076\":\"WY\",\"1077\":\"NY\",\"1078\":\"ME\",\"1079\":\"MN\",\"1080\":\"OH\",\"1081\":\"NC\",\"1082\":\"SD\",\"1083\":\"UT\",\"1084\":\"KY\",\"1085\":\"MT\",\"1086\":\"NJ\",\"1087\":\"FL\",\"1088\":\"IN\",\"1089\":\"DE\",\"1090\":\"AL\",\"1091\":\"ME\",\"1092\":\"SD\",\"1093\":\"VA\",\"1094\":\"AK\",\"1095\":\"ID\",\"1096\":\"RI\",\"1097\":\"KY\",\"1098\":\"ND\",\"1099\":\"HI\",\"1100\":\"WI\",\"1101\":\"WV\",\"1102\":\"NJ\",\"1103\":\"KS\",\"1104\":\"AL\",\"1105\":\"NJ\",\"1106\":\"NC\",\"1107\":\"DE\",\"1108\":\"WY\",\"1109\":\"ID\",\"1110\":\"NY\",\"1111\":\"MO\",\"1112\":\"ID\",\"1113\":\"IA\",\"1114\":\"TN\",\"1115\":\"OH\",\"1116\":\"IL\",\"1117\":\"FL\",\"1118\":\"MA\",\"1119\":\"OK\",\"1120\":\"KY\",\"1121\":\"MI\",\"1122\":\"NE\",\"1123\":\"VA\",\"1124\":\"NY\",\"1125\":\"MT\",\"1126\":\"VT\",\"1127\":\"KS\",\"1128\":\"VA\",\"1129\":\"AL\",\"1130\":\"PA\",\"1131\":\"AL\",\"1132\":\"WV\",\"1133\":\"NV\",\"1134\":\"TN\",\"1135\":\"ID\",\"1136\":\"WY\",\"1137\":\"TX\",\"1138\":\"MA\",\"1139\":\"IL\",\"1140\":\"LA\",\"1141\":\"CO\",\"1142\":\"UT\",\"1143\":\"MI\",\"1144\":\"NH\",\"1145\":\"ID\",\"1146\":\"WA\",\"1147\":\"MN\",\"1148\":\"NY\",\"1149\":\"MD\",\"1150\":\"GA\",\"1151\":\"HI\",\"1152\":\"AL\",\"1153\":\"CT\",\"1154\":\"CO\",\"1155\":\"KS\",\"1156\":\"NJ\",\"1157\":\"FL\",\"1158\":\"CA\",\"1159\":\"KS\",\"1160\":\"TX\",\"1161\":\"MN\",\"1162\":\"AK\",\"1163\":\"OR\",\"1164\":\"MS\",\"1165\":\"VT\",\"1166\":\"UT\",\"1167\":\"KS\",\"1168\":\"NV\",\"1169\":\"DE\",\"1170\":\"IN\",\"1171\":\"TX\",\"1172\":\"MA\",\"1173\":\"VT\",\"1174\":\"CA\",\"1175\":\"IA\",\"1176\":\"NH\",\"1177\":\"GA\",\"1178\":\"WI\",\"1179\":\"CO\",\"1180\":\"SC\",\"1181\":\"MI\",\"1182\":\"MD\",\"1183\":\"IN\",\"1184\":\"ME\",\"1185\":\"DC\",\"1186\":\"TN\",\"1187\":\"FL\",\"1188\":\"WA\",\"1189\":\"HI\",\"1190\":\"NE\",\"1191\":\"TN\",\"1192\":\"MD\",\"1193\":\"NM\",\"1194\":\"VT\",\"1195\":\"OR\",\"1196\":\"IN\",\"1197\":\"MO\",\"1198\":\"FL\",\"1199\":\"DC\",\"1200\":\"VT\",\"1201\":\"OH\",\"1202\":\"MO\",\"1203\":\"LA\",\"1204\":\"IL\",\"1205\":\"NJ\",\"1206\":\"IA\",\"1207\":\"WA\",\"1208\":\"NE\",\"1209\":\"CT\",\"1210\":\"WV\",\"1211\":\"ND\",\"1212\":\"UT\",\"1213\":\"MS\",\"1214\":\"MN\",\"1215\":\"NH\",\"1216\":\"LA\",\"1217\":\"ME\",\"1218\":\"KS\",\"1219\":\"KS\",\"1220\":\"NV\",\"1221\":\"MT\",\"1222\":\"MT\",\"1223\":\"ID\",\"1224\":\"AK\",\"1225\":\"UT\",\"1226\":\"AR\",\"1227\":\"LA\",\"1228\":\"KS\",\"1229\":\"OR\",\"1230\":\"WI\",\"1231\":\"CO\",\"1232\":\"KS\",\"1233\":\"IL\",\"1234\":\"IA\",\"1235\":\"AZ\",\"1236\":\"NE\",\"1237\":\"ID\",\"1238\":\"OH\",\"1239\":\"TX\",\"1240\":\"TN\",\"1241\":\"OK\",\"1242\":\"ND\",\"1243\":\"MT\",\"1244\":\"NC\",\"1245\":\"MN\",\"1246\":\"MN\",\"1247\":\"MA\",\"1248\":\"PA\",\"1249\":\"GA\",\"1250\":\"NV\",\"1251\":\"TX\",\"1252\":\"ME\",\"1253\":\"RI\",\"1254\":\"MN\",\"1255\":\"NH\",\"1256\":\"TN\",\"1257\":\"UT\",\"1258\":\"RI\",\"1259\":\"NH\",\"1260\":\"AK\",\"1261\":\"NC\",\"1262\":\"AZ\",\"1263\":\"MA\",\"1264\":\"TN\",\"1265\":\"WY\",\"1266\":\"IA\",\"1267\":\"IN\",\"1268\":\"NJ\",\"1269\":\"FL\",\"1270\":\"MT\",\"1271\":\"ND\",\"1272\":\"MI\",\"1273\":\"MT\",\"1274\":\"AL\",\"1275\":\"NV\",\"1276\":\"MI\",\"1277\":\"FL\",\"1278\":\"NY\",\"1279\":\"KS\",\"1280\":\"NC\",\"1281\":\"MN\",\"1282\":\"RI\",\"1283\":\"UT\",\"1284\":\"OR\",\"1285\":\"SC\",\"1286\":\"IL\",\"1287\":\"OH\",\"1288\":\"MA\",\"1289\":\"OR\",\"1290\":\"CA\",\"1291\":\"WV\",\"1292\":\"VT\",\"1293\":\"ID\",\"1294\":\"OR\",\"1295\":\"GA\",\"1296\":\"ME\",\"1297\":\"HI\",\"1298\":\"AZ\",\"1299\":\"UT\",\"1300\":\"IA\",\"1301\":\"CT\",\"1302\":\"WA\",\"1303\":\"VA\",\"1304\":\"CO\",\"1305\":\"LA\",\"1306\":\"TX\",\"1307\":\"SD\",\"1308\":\"VA\",\"1309\":\"NY\",\"1310\":\"WA\",\"1311\":\"WI\",\"1312\":\"TN\",\"1313\":\"CT\",\"1314\":\"WA\",\"1315\":\"NH\",\"1316\":\"MT\",\"1317\":\"NE\",\"1318\":\"WA\",\"1319\":\"WI\",\"1320\":\"AR\",\"1321\":\"WI\",\"1322\":\"DE\",\"1323\":\"NH\",\"1324\":\"VA\",\"1325\":\"TN\",\"1326\":\"VA\",\"1327\":\"ID\",\"1328\":\"TN\",\"1329\":\"AZ\",\"1330\":\"MT\",\"1331\":\"OK\",\"1332\":\"ID\",\"1333\":\"NV\",\"1334\":\"KS\",\"1335\":\"WY\",\"1336\":\"MS\",\"1337\":\"WY\",\"1338\":\"TX\",\"1339\":\"WA\",\"1340\":\"HI\",\"1341\":\"IL\",\"1342\":\"AK\",\"1343\":\"MD\",\"1344\":\"MA\",\"1345\":\"SD\",\"1346\":\"PA\",\"1347\":\"NC\",\"1348\":\"VT\",\"1349\":\"KY\",\"1350\":\"WA\",\"1351\":\"LA\",\"1352\":\"WA\",\"1353\":\"ME\",\"1354\":\"WI\",\"1355\":\"TX\",\"1356\":\"IA\",\"1357\":\"AZ\",\"1358\":\"ND\",\"1359\":\"VT\",\"1360\":\"HI\",\"1361\":\"WY\",\"1362\":\"WV\",\"1363\":\"OK\",\"1364\":\"CT\",\"1365\":\"UT\",\"1366\":\"NY\",\"1367\":\"VA\",\"1368\":\"VT\",\"1369\":\"SD\",\"1370\":\"PA\",\"1371\":\"ND\",\"1372\":\"CT\",\"1373\":\"SC\",\"1374\":\"MI\",\"1375\":\"VT\",\"1376\":\"OH\",\"1377\":\"VT\",\"1378\":\"IL\",\"1379\":\"MO\",\"1380\":\"WI\",\"1381\":\"NJ\",\"1382\":\"GA\",\"1383\":\"VT\",\"1384\":\"CT\",\"1385\":\"AZ\",\"1386\":\"SD\",\"1387\":\"CT\",\"1388\":\"IN\",\"1389\":\"OH\",\"1390\":\"NY\",\"1391\":\"NE\",\"1392\":\"OK\",\"1393\":\"NC\",\"1394\":\"HI\",\"1395\":\"UT\",\"1396\":\"MD\",\"1397\":\"VT\",\"1398\":\"TX\",\"1399\":\"AZ\",\"1400\":\"VA\",\"1401\":\"WI\",\"1402\":\"NE\",\"1403\":\"KY\",\"1404\":\"NV\",\"1405\":\"MT\",\"1406\":\"MO\",\"1407\":\"MS\",\"1408\":\"NM\",\"1409\":\"NJ\",\"1410\":\"NH\",\"1411\":\"NC\",\"1412\":\"MT\",\"1413\":\"SD\",\"1414\":\"VA\",\"1415\":\"LA\",\"1416\":\"NV\",\"1417\":\"AK\",\"1418\":\"OH\",\"1419\":\"NM\",\"1420\":\"MI\",\"1421\":\"MN\",\"1422\":\"WY\",\"1423\":\"WY\",\"1424\":\"WA\",\"1425\":\"NM\",\"1426\":\"VA\",\"1427\":\"RI\",\"1428\":\"AL\",\"1429\":\"WV\",\"1430\":\"WV\",\"1431\":\"NJ\",\"1432\":\"TN\",\"1433\":\"MI\",\"1434\":\"UT\",\"1435\":\"IL\",\"1436\":\"MI\",\"1437\":\"WI\",\"1438\":\"ND\",\"1439\":\"VT\",\"1440\":\"WA\",\"1441\":\"NC\",\"1442\":\"ME\",\"1443\":\"SD\",\"1444\":\"WV\",\"1445\":\"ID\",\"1446\":\"LA\",\"1447\":\"GA\",\"1448\":\"FL\",\"1449\":\"CO\",\"1450\":\"NV\",\"1451\":\"IN\",\"1452\":\"VA\",\"1453\":\"UT\",\"1454\":\"UT\",\"1455\":\"MO\",\"1456\":\"CT\",\"1457\":\"HI\",\"1458\":\"MD\",\"1459\":\"VA\",\"1460\":\"MT\",\"1461\":\"SC\",\"1462\":\"CO\",\"1463\":\"ID\",\"1464\":\"AL\",\"1465\":\"CO\",\"1466\":\"UT\",\"1467\":\"DE\",\"1468\":\"OH\",\"1469\":\"RI\",\"1470\":\"FL\",\"1471\":\"OH\",\"1472\":\"MD\",\"1473\":\"IL\",\"1474\":\"PA\",\"1475\":\"AZ\",\"1476\":\"NH\",\"1477\":\"RI\",\"1478\":\"HI\",\"1479\":\"NJ\",\"1480\":\"WI\",\"1481\":\"MD\",\"1482\":\"OR\",\"1483\":\"NV\",\"1484\":\"AR\",\"1485\":\"MT\",\"1486\":\"CT\",\"1487\":\"UT\",\"1488\":\"GA\",\"1489\":\"NV\",\"1490\":\"TN\",\"1491\":\"DE\",\"1492\":\"NY\",\"1493\":\"MT\",\"1494\":\"IA\",\"1495\":\"VT\",\"1496\":\"LA\",\"1497\":\"MT\",\"1498\":\"NH\",\"1499\":\"WV\",\"1500\":\"ID\",\"1501\":\"AZ\",\"1502\":\"SC\",\"1503\":\"WV\",\"1504\":\"OH\",\"1505\":\"MD\",\"1506\":\"MD\",\"1507\":\"MN\",\"1508\":\"NE\",\"1509\":\"MN\",\"1510\":\"NY\",\"1511\":\"HI\",\"1512\":\"MO\",\"1513\":\"NV\",\"1514\":\"MA\",\"1515\":\"NH\",\"1516\":\"UT\",\"1517\":\"FL\",\"1518\":\"WA\",\"1519\":\"CT\",\"1520\":\"KY\",\"1521\":\"NM\",\"1522\":\"ND\",\"1523\":\"NV\",\"1524\":\"CA\",\"1525\":\"ID\",\"1526\":\"OK\",\"1527\":\"IA\",\"1528\":\"OH\",\"1529\":\"NJ\",\"1530\":\"IA\",\"1531\":\"DE\",\"1532\":\"CA\",\"1533\":\"WY\",\"1534\":\"OR\",\"1535\":\"ME\",\"1536\":\"AR\",\"1537\":\"ME\",\"1538\":\"WV\",\"1539\":\"PA\",\"1540\":\"HI\",\"1541\":\"MT\",\"1542\":\"DC\",\"1543\":\"AR\",\"1544\":\"MS\",\"1545\":\"OH\",\"1546\":\"MO\",\"1547\":\"TX\",\"1548\":\"MD\",\"1549\":\"CT\",\"1550\":\"SC\",\"1551\":\"MI\",\"1552\":\"SD\",\"1553\":\"CO\",\"1554\":\"ID\",\"1555\":\"AZ\",\"1556\":\"FL\",\"1557\":\"MN\",\"1558\":\"DE\",\"1559\":\"MI\",\"1560\":\"MS\",\"1561\":\"MA\",\"1562\":\"CA\",\"1563\":\"MN\",\"1564\":\"VT\",\"1565\":\"CT\",\"1566\":\"WV\",\"1567\":\"WV\",\"1568\":\"NE\",\"1569\":\"NC\",\"1570\":\"NE\",\"1571\":\"IL\",\"1572\":\"MA\",\"1573\":\"AZ\",\"1574\":\"SD\",\"1575\":\"MT\",\"1576\":\"VT\",\"1577\":\"UT\",\"1578\":\"HI\",\"1579\":\"DC\",\"1580\":\"WI\",\"1581\":\"UT\",\"1582\":\"WA\",\"1583\":\"SD\",\"1584\":\"MT\",\"1585\":\"NJ\",\"1586\":\"CT\",\"1587\":\"VA\",\"1588\":\"NC\",\"1589\":\"AK\",\"1590\":\"MD\",\"1591\":\"IL\",\"1592\":\"CT\",\"1593\":\"KS\",\"1594\":\"MA\",\"1595\":\"NJ\",\"1596\":\"AR\",\"1597\":\"MS\",\"1598\":\"ND\",\"1599\":\"IN\",\"1600\":\"MI\",\"1601\":\"AR\",\"1602\":\"VT\",\"1603\":\"WV\",\"1604\":\"ME\",\"1605\":\"IA\",\"1606\":\"CT\",\"1607\":\"NM\",\"1608\":\"OR\",\"1609\":\"VT\",\"1610\":\"RI\",\"1611\":\"RI\",\"1612\":\"NM\",\"1613\":\"AL\",\"1614\":\"MT\",\"1615\":\"CT\",\"1616\":\"TN\",\"1617\":\"ID\",\"1618\":\"TX\",\"1619\":\"NH\",\"1620\":\"ND\",\"1621\":\"SC\",\"1622\":\"KS\",\"1623\":\"ME\",\"1624\":\"RI\",\"1625\":\"WI\",\"1626\":\"NC\",\"1627\":\"OH\",\"1628\":\"WY\",\"1629\":\"NJ\",\"1630\":\"ND\",\"1631\":\"WI\",\"1632\":\"KY\",\"1633\":\"NY\",\"1634\":\"MO\",\"1635\":\"AZ\",\"1636\":\"MN\",\"1637\":\"CO\",\"1638\":\"MD\",\"1639\":\"AR\",\"1640\":\"TN\",\"1641\":\"DE\",\"1642\":\"TN\",\"1643\":\"WI\",\"1644\":\"WV\",\"1645\":\"CT\",\"1646\":\"MN\",\"1647\":\"MO\",\"1648\":\"VA\",\"1649\":\"NH\",\"1650\":\"OK\",\"1651\":\"CT\",\"1652\":\"TN\",\"1653\":\"MD\",\"1654\":\"WI\",\"1655\":\"SD\",\"1656\":\"ND\",\"1657\":\"VA\",\"1658\":\"UT\",\"1659\":\"MA\",\"1660\":\"SD\",\"1661\":\"AL\",\"1662\":\"AL\",\"1663\":\"WV\",\"1664\":\"SC\",\"1665\":\"FL\",\"1666\":\"KY\",\"1667\":\"UT\",\"1668\":\"NY\",\"1669\":\"MS\",\"1670\":\"NH\",\"1671\":\"VA\",\"1672\":\"VT\",\"1673\":\"WY\",\"1674\":\"NV\",\"1675\":\"WV\",\"1676\":\"WA\",\"1677\":\"KS\",\"1678\":\"VT\",\"1679\":\"OK\",\"1680\":\"GA\",\"1681\":\"CO\",\"1682\":\"AK\",\"1683\":\"TN\",\"1684\":\"KY\",\"1685\":\"PA\",\"1686\":\"CT\",\"1687\":\"CT\",\"1688\":\"MN\",\"1689\":\"WY\",\"1690\":\"PA\",\"1691\":\"OR\",\"1692\":\"PA\",\"1693\":\"OK\",\"1694\":\"VT\",\"1695\":\"ID\",\"1696\":\"PA\",\"1697\":\"NM\",\"1698\":\"FL\",\"1699\":\"TX\",\"1700\":\"VT\",\"1701\":\"MA\",\"1702\":\"OR\",\"1703\":\"DE\",\"1704\":\"FL\",\"1705\":\"ID\",\"1706\":\"MD\",\"1707\":\"WV\",\"1708\":\"ID\",\"1709\":\"NV\",\"1710\":\"OH\",\"1711\":\"ID\",\"1712\":\"SC\",\"1713\":\"MO\",\"1714\":\"NE\",\"1715\":\"NC\",\"1716\":\"ME\",\"1717\":\"MI\",\"1718\":\"AZ\",\"1719\":\"AZ\",\"1720\":\"HI\",\"1721\":\"NJ\",\"1722\":\"MS\",\"1723\":\"MA\",\"1724\":\"SC\",\"1725\":\"MN\",\"1726\":\"WV\",\"1727\":\"MS\",\"1728\":\"VA\",\"1729\":\"MS\",\"1730\":\"NM\",\"1731\":\"TX\",\"1732\":\"HI\",\"1733\":\"WA\",\"1734\":\"WI\",\"1735\":\"CO\",\"1736\":\"NV\",\"1737\":\"RI\",\"1738\":\"VA\",\"1739\":\"NJ\",\"1740\":\"ND\",\"1741\":\"MN\",\"1742\":\"HI\",\"1743\":\"ND\",\"1744\":\"WI\",\"1745\":\"MN\",\"1746\":\"DC\",\"1747\":\"KS\",\"1748\":\"MT\",\"1749\":\"WV\",\"1750\":\"ME\",\"1751\":\"WY\",\"1752\":\"NY\",\"1753\":\"VT\",\"1754\":\"NC\",\"1755\":\"MO\",\"1756\":\"NC\",\"1757\":\"NJ\",\"1758\":\"OH\",\"1759\":\"TX\",\"1760\":\"WA\",\"1761\":\"TN\",\"1762\":\"HI\",\"1763\":\"WY\",\"1764\":\"CT\",\"1765\":\"NM\",\"1766\":\"NJ\",\"1767\":\"AL\",\"1768\":\"MN\",\"1769\":\"NC\",\"1770\":\"OH\",\"1771\":\"ND\",\"1772\":\"CO\",\"1773\":\"ND\",\"1774\":\"NY\",\"1775\":\"WI\",\"1776\":\"WY\",\"1777\":\"OR\",\"1778\":\"CO\",\"1779\":\"LA\",\"1780\":\"AL\",\"1781\":\"TX\",\"1782\":\"PA\",\"1783\":\"IL\",\"1784\":\"DE\",\"1785\":\"MO\",\"1786\":\"AR\",\"1787\":\"OH\",\"1788\":\"WI\",\"1789\":\"GA\",\"1790\":\"KY\",\"1791\":\"OH\",\"1792\":\"TN\",\"1793\":\"SD\",\"1794\":\"NY\",\"1795\":\"GA\",\"1796\":\"TX\",\"1797\":\"WV\",\"1798\":\"MI\",\"1799\":\"ND\",\"1800\":\"NE\",\"1801\":\"SD\",\"1802\":\"NJ\",\"1803\":\"AK\",\"1804\":\"CT\",\"1805\":\"CO\",\"1806\":\"MD\",\"1807\":\"ND\",\"1808\":\"NH\",\"1809\":\"MN\",\"1810\":\"KY\",\"1811\":\"NH\",\"1812\":\"CO\",\"1813\":\"KY\",\"1814\":\"KY\",\"1815\":\"IN\",\"1816\":\"OR\",\"1817\":\"SD\",\"1818\":\"DE\",\"1819\":\"OR\",\"1820\":\"NE\",\"1821\":\"OH\",\"1822\":\"OH\",\"1823\":\"AR\",\"1824\":\"KS\",\"1825\":\"TX\",\"1826\":\"WI\",\"1827\":\"OR\",\"1828\":\"VA\",\"1829\":\"AR\",\"1830\":\"CT\",\"1831\":\"OH\",\"1832\":\"WY\",\"1833\":\"IL\",\"1834\":\"MO\",\"1835\":\"DC\",\"1836\":\"MA\",\"1837\":\"NH\",\"1838\":\"IA\",\"1839\":\"AL\",\"1840\":\"OR\",\"1841\":\"WV\",\"1842\":\"WA\",\"1843\":\"NV\",\"1844\":\"SC\",\"1845\":\"NC\",\"1846\":\"NH\",\"1847\":\"WY\",\"1848\":\"FL\",\"1849\":\"PA\",\"1850\":\"NC\",\"1851\":\"MO\",\"1852\":\"KS\",\"1853\":\"KY\",\"1854\":\"DE\",\"1855\":\"WI\",\"1856\":\"CO\",\"1857\":\"NM\",\"1858\":\"DE\",\"1859\":\"IL\",\"1860\":\"WA\",\"1861\":\"MA\",\"1862\":\"OH\",\"1863\":\"TN\",\"1864\":\"MA\",\"1865\":\"MI\",\"1866\":\"TX\",\"1867\":\"NH\",\"1868\":\"MD\",\"1869\":\"MS\",\"1870\":\"AZ\",\"1871\":\"IN\",\"1872\":\"NY\",\"1873\":\"WI\",\"1874\":\"WV\",\"1875\":\"NY\",\"1876\":\"OK\",\"1877\":\"NC\",\"1878\":\"KY\",\"1879\":\"TX\",\"1880\":\"CT\",\"1881\":\"NE\",\"1882\":\"HI\",\"1883\":\"SC\",\"1884\":\"AK\",\"1885\":\"SD\",\"1886\":\"ID\",\"1887\":\"OK\",\"1888\":\"WA\",\"1889\":\"SD\",\"1890\":\"OH\",\"1891\":\"VA\",\"1892\":\"WI\",\"1893\":\"IN\",\"1894\":\"NM\",\"1895\":\"HI\",\"1896\":\"KY\",\"1897\":\"OH\",\"1898\":\"VT\",\"1899\":\"AZ\",\"1900\":\"VT\",\"1901\":\"MO\",\"1902\":\"AL\",\"1903\":\"NJ\",\"1904\":\"WA\",\"1905\":\"NY\",\"1906\":\"DC\",\"1907\":\"NE\",\"1908\":\"MA\",\"1909\":\"VT\",\"1910\":\"NM\",\"1911\":\"CO\",\"1912\":\"NH\",\"1913\":\"IL\",\"1914\":\"UT\",\"1915\":\"WV\",\"1916\":\"NJ\",\"1917\":\"NM\",\"1918\":\"ND\",\"1919\":\"WA\",\"1920\":\"NM\",\"1921\":\"DE\",\"1922\":\"GA\",\"1923\":\"HI\",\"1924\":\"CT\",\"1925\":\"NJ\",\"1926\":\"ME\",\"1927\":\"OK\",\"1928\":\"TN\",\"1929\":\"WY\",\"1930\":\"NY\",\"1931\":\"DE\",\"1932\":\"RI\",\"1933\":\"PA\",\"1934\":\"HI\",\"1935\":\"MD\",\"1936\":\"VA\",\"1937\":\"IN\",\"1938\":\"OR\",\"1939\":\"AZ\",\"1940\":\"WI\",\"1941\":\"VA\",\"1942\":\"MO\",\"1943\":\"NV\",\"1944\":\"HI\",\"1945\":\"WA\",\"1946\":\"IL\",\"1947\":\"IL\",\"1948\":\"LA\",\"1949\":\"WI\",\"1950\":\"TX\",\"1951\":\"MI\",\"1952\":\"NC\",\"1953\":\"WA\",\"1954\":\"ND\",\"1955\":\"NE\",\"1956\":\"MS\",\"1957\":\"KY\",\"1958\":\"RI\",\"1959\":\"NY\",\"1960\":\"TX\",\"1961\":\"DE\",\"1962\":\"NM\",\"1963\":\"RI\",\"1964\":\"MS\",\"1965\":\"NY\",\"1966\":\"NE\",\"1967\":\"WI\",\"1968\":\"KY\",\"1969\":\"SD\",\"1970\":\"VA\",\"1971\":\"KS\",\"1972\":\"ND\",\"1973\":\"CO\",\"1974\":\"KY\",\"1975\":\"WA\",\"1976\":\"NV\",\"1977\":\"SC\",\"1978\":\"RI\",\"1979\":\"ID\",\"1980\":\"KY\",\"1981\":\"ME\",\"1982\":\"SD\",\"1983\":\"SC\",\"1984\":\"TN\",\"1985\":\"MT\",\"1986\":\"WI\",\"1987\":\"AK\",\"1988\":\"AZ\",\"1989\":\"MT\",\"1990\":\"DE\",\"1991\":\"VA\",\"1992\":\"MA\",\"1993\":\"IN\",\"1994\":\"MD\",\"1995\":\"NV\",\"1996\":\"CO\",\"1997\":\"KS\",\"1998\":\"AR\",\"1999\":\"WY\",\"2000\":\"PA\",\"2001\":\"TX\",\"2002\":\"NY\",\"2003\":\"OR\",\"2004\":\"CA\",\"2005\":\"NY\",\"2006\":\"AR\",\"2007\":\"MI\",\"2008\":\"OK\",\"2009\":\"TX\",\"2010\":\"NC\",\"2011\":\"ID\",\"2012\":\"IL\",\"2013\":\"OR\",\"2014\":\"SD\",\"2015\":\"NE\",\"2016\":\"RI\",\"2017\":\"MD\",\"2018\":\"ID\",\"2019\":\"ME\",\"2020\":\"SD\",\"2021\":\"NY\",\"2022\":\"DE\",\"2023\":\"OK\",\"2024\":\"SC\",\"2025\":\"IN\",\"2026\":\"NV\",\"2027\":\"IL\",\"2028\":\"SD\",\"2029\":\"OK\",\"2030\":\"KS\",\"2031\":\"IA\",\"2032\":\"NJ\",\"2033\":\"NJ\",\"2034\":\"MT\",\"2035\":\"IA\",\"2036\":\"WA\",\"2037\":\"NE\",\"2038\":\"TX\",\"2039\":\"MS\",\"2040\":\"IA\",\"2041\":\"WI\",\"2042\":\"MT\",\"2043\":\"GA\",\"2044\":\"MT\",\"2045\":\"ND\",\"2046\":\"VT\",\"2047\":\"SD\",\"2048\":\"OH\",\"2049\":\"OH\",\"2050\":\"MT\",\"2051\":\"IL\",\"2052\":\"NV\",\"2053\":\"UT\",\"2054\":\"NH\",\"2055\":\"LA\",\"2056\":\"VT\",\"2057\":\"NY\",\"2058\":\"CT\",\"2059\":\"KS\",\"2060\":\"MI\",\"2061\":\"SD\",\"2062\":\"ME\",\"2063\":\"MD\",\"2064\":\"VA\",\"2065\":\"NJ\",\"2066\":\"TN\",\"2067\":\"DC\",\"2068\":\"DC\",\"2069\":\"OR\",\"2070\":\"RI\",\"2071\":\"AK\",\"2072\":\"WI\",\"2073\":\"IN\",\"2074\":\"MI\",\"2075\":\"ID\",\"2076\":\"NH\",\"2077\":\"MN\",\"2078\":\"AZ\",\"2079\":\"MN\",\"2080\":\"MO\",\"2081\":\"AL\",\"2082\":\"PA\",\"2083\":\"AK\",\"2084\":\"MS\",\"2085\":\"IA\",\"2086\":\"WY\",\"2087\":\"NE\",\"2088\":\"ND\",\"2089\":\"CT\",\"2090\":\"NC\",\"2091\":\"CT\",\"2092\":\"ND\",\"2093\":\"WA\",\"2094\":\"NV\",\"2095\":\"CO\",\"2096\":\"KS\",\"2097\":\"CO\",\"2098\":\"MO\",\"2099\":\"MA\",\"2100\":\"NY\",\"2101\":\"AK\",\"2102\":\"WI\",\"2103\":\"NH\",\"2104\":\"TN\",\"2105\":\"NY\",\"2106\":\"GA\",\"2107\":\"MN\",\"2108\":\"MI\",\"2109\":\"ID\",\"2110\":\"CT\",\"2111\":\"NC\",\"2112\":\"LA\",\"2113\":\"NJ\",\"2114\":\"TX\",\"2115\":\"CA\",\"2116\":\"MD\",\"2117\":\"WY\",\"2118\":\"TX\",\"2119\":\"CA\",\"2120\":\"UT\",\"2121\":\"WA\",\"2122\":\"MS\",\"2123\":\"OH\",\"2124\":\"KS\",\"2125\":\"RI\",\"2126\":\"IN\",\"2127\":\"VT\",\"2128\":\"MT\",\"2129\":\"CT\",\"2130\":\"NM\",\"2131\":\"OH\",\"2132\":\"GA\",\"2133\":\"MN\",\"2134\":\"CT\",\"2135\":\"AL\",\"2136\":\"WV\",\"2137\":\"NH\",\"2138\":\"WY\",\"2139\":\"VA\",\"2140\":\"VT\",\"2141\":\"OH\",\"2142\":\"MT\",\"2143\":\"MA\",\"2144\":\"VA\",\"2145\":\"NM\",\"2146\":\"AR\",\"2147\":\"NE\",\"2148\":\"WY\",\"2149\":\"IA\",\"2150\":\"SC\",\"2151\":\"NC\",\"2152\":\"HI\",\"2153\":\"UT\",\"2154\":\"WY\",\"2155\":\"AL\",\"2156\":\"VA\",\"2157\":\"WI\",\"2158\":\"FL\",\"2159\":\"KS\",\"2160\":\"NV\",\"2161\":\"NY\",\"2162\":\"VA\",\"2163\":\"KS\",\"2164\":\"NC\",\"2165\":\"MO\",\"2166\":\"ND\",\"2167\":\"CA\",\"2168\":\"WV\",\"2169\":\"IL\",\"2170\":\"NY\",\"2171\":\"NV\",\"2172\":\"AL\",\"2173\":\"KS\",\"2174\":\"ND\",\"2175\":\"OK\",\"2176\":\"UT\",\"2177\":\"OH\",\"2178\":\"WY\",\"2179\":\"NM\",\"2180\":\"AL\",\"2181\":\"DC\",\"2182\":\"ID\",\"2183\":\"AR\",\"2184\":\"ID\",\"2185\":\"TX\",\"2186\":\"NM\",\"2187\":\"WA\",\"2188\":\"UT\",\"2189\":\"RI\",\"2190\":\"NC\",\"2191\":\"RI\",\"2192\":\"NY\",\"2193\":\"TX\",\"2194\":\"DE\",\"2195\":\"MS\",\"2196\":\"OH\",\"2197\":\"LA\",\"2198\":\"FL\",\"2199\":\"WA\",\"2200\":\"WV\",\"2201\":\"NY\",\"2202\":\"NE\",\"2203\":\"PA\",\"2204\":\"MS\",\"2205\":\"IN\",\"2206\":\"VA\",\"2207\":\"MN\",\"2208\":\"DE\",\"2209\":\"OR\",\"2210\":\"UT\",\"2211\":\"CT\",\"2212\":\"AL\",\"2213\":\"TX\",\"2214\":\"CT\",\"2215\":\"MS\",\"2216\":\"AR\",\"2217\":\"CA\",\"2218\":\"MI\",\"2219\":\"WV\",\"2220\":\"DE\",\"2221\":\"FL\",\"2222\":\"AK\",\"2223\":\"ID\",\"2224\":\"OH\",\"2225\":\"NH\",\"2226\":\"MA\",\"2227\":\"SC\",\"2228\":\"OR\",\"2229\":\"OH\",\"2230\":\"NC\",\"2231\":\"KY\",\"2232\":\"ID\",\"2233\":\"WA\",\"2234\":\"WV\",\"2235\":\"RI\",\"2236\":\"KS\",\"2237\":\"NV\",\"2238\":\"NE\",\"2239\":\"FL\",\"2240\":\"WY\",\"2241\":\"WA\",\"2242\":\"CO\",\"2243\":\"WI\",\"2244\":\"KS\",\"2245\":\"RI\",\"2246\":\"MT\",\"2247\":\"CO\",\"2248\":\"CT\",\"2249\":\"FL\",\"2250\":\"VT\",\"2251\":\"OH\",\"2252\":\"NH\",\"2253\":\"RI\",\"2254\":\"FL\",\"2255\":\"MD\",\"2256\":\"WY\",\"2257\":\"FL\",\"2258\":\"TN\",\"2259\":\"NC\",\"2260\":\"IN\",\"2261\":\"IA\",\"2262\":\"WV\",\"2263\":\"UT\",\"2264\":\"GA\",\"2265\":\"AK\",\"2266\":\"UT\",\"2267\":\"MS\",\"2268\":\"AR\",\"2269\":\"AK\",\"2270\":\"AK\",\"2271\":\"ME\",\"2272\":\"WV\",\"2273\":\"CT\",\"2274\":\"GA\",\"2275\":\"NV\",\"2276\":\"VT\",\"2277\":\"DC\",\"2278\":\"TN\",\"2279\":\"OR\",\"2280\":\"MS\",\"2281\":\"NC\",\"2282\":\"CO\",\"2283\":\"AR\",\"2284\":\"PA\",\"2285\":\"MN\",\"2286\":\"NM\",\"2287\":\"UT\",\"2288\":\"NE\",\"2289\":\"MS\",\"2290\":\"NV\",\"2291\":\"OR\",\"2292\":\"VA\",\"2293\":\"NJ\",\"2294\":\"WV\",\"2295\":\"OR\",\"2296\":\"KY\",\"2297\":\"MO\",\"2298\":\"TX\",\"2299\":\"MN\",\"2300\":\"FL\",\"2301\":\"PA\",\"2302\":\"WV\",\"2303\":\"IN\",\"2304\":\"OK\",\"2305\":\"NE\",\"2306\":\"DE\",\"2307\":\"MI\",\"2308\":\"IL\",\"2309\":\"UT\",\"2310\":\"IL\",\"2311\":\"WA\",\"2312\":\"NM\",\"2313\":\"MD\",\"2314\":\"VA\",\"2315\":\"MT\",\"2316\":\"CT\",\"2317\":\"AL\",\"2318\":\"WV\",\"2319\":\"MO\",\"2320\":\"ND\",\"2321\":\"AR\",\"2322\":\"GA\",\"2323\":\"FL\",\"2324\":\"LA\",\"2325\":\"UT\",\"2326\":\"AZ\",\"2327\":\"NY\",\"2328\":\"KY\",\"2329\":\"AL\",\"2330\":\"IN\",\"2331\":\"IN\",\"2332\":\"FL\",\"2333\":\"NM\",\"2334\":\"AL\",\"2335\":\"MN\",\"2336\":\"NY\",\"2337\":\"MD\",\"2338\":\"KS\",\"2339\":\"WV\",\"2340\":\"ID\",\"2341\":\"LA\",\"2342\":\"MI\",\"2343\":\"TN\",\"2344\":\"CA\",\"2345\":\"FL\",\"2346\":\"LA\",\"2347\":\"IL\",\"2348\":\"AL\",\"2349\":\"CT\",\"2350\":\"PA\",\"2351\":\"TX\",\"2352\":\"VA\",\"2353\":\"MO\",\"2354\":\"MT\",\"2355\":\"ND\",\"2356\":\"FL\",\"2357\":\"WI\",\"2358\":\"KY\",\"2359\":\"MD\",\"2360\":\"IN\",\"2361\":\"MA\",\"2362\":\"ND\",\"2363\":\"VT\",\"2364\":\"CT\",\"2365\":\"VA\",\"2366\":\"MS\",\"2367\":\"AK\",\"2368\":\"WY\",\"2369\":\"NY\",\"2370\":\"NC\",\"2371\":\"IL\",\"2372\":\"OH\",\"2373\":\"RI\",\"2374\":\"WY\",\"2375\":\"OR\",\"2376\":\"NV\",\"2377\":\"ND\",\"2378\":\"OR\",\"2379\":\"ND\",\"2380\":\"NJ\",\"2381\":\"WV\",\"2382\":\"VA\",\"2383\":\"ID\",\"2384\":\"CT\",\"2385\":\"NM\",\"2386\":\"CT\",\"2387\":\"MI\",\"2388\":\"SC\",\"2389\":\"SC\",\"2390\":\"NY\",\"2391\":\"MT\",\"2392\":\"WY\",\"2393\":\"NE\",\"2394\":\"IN\",\"2395\":\"CO\",\"2396\":\"WY\",\"2397\":\"MD\",\"2398\":\"OK\",\"2399\":\"SD\",\"2400\":\"SC\",\"2401\":\"NY\",\"2402\":\"NY\",\"2403\":\"WV\",\"2404\":\"WA\",\"2405\":\"ID\",\"2406\":\"MN\",\"2407\":\"TX\",\"2408\":\"AZ\",\"2409\":\"DE\",\"2410\":\"CO\",\"2411\":\"WI\",\"2412\":\"WI\",\"2413\":\"NJ\",\"2414\":\"IL\",\"2415\":\"DC\",\"2416\":\"IA\",\"2417\":\"GA\",\"2418\":\"AK\",\"2419\":\"CA\",\"2420\":\"MN\",\"2421\":\"CO\",\"2422\":\"KY\",\"2423\":\"SC\",\"2424\":\"MT\",\"2425\":\"KY\",\"2426\":\"WV\",\"2427\":\"ID\",\"2428\":\"MN\",\"2429\":\"MA\",\"2430\":\"MD\",\"2431\":\"SD\",\"2432\":\"PA\",\"2433\":\"KY\",\"2434\":\"ID\",\"2435\":\"NY\",\"2436\":\"NM\",\"2437\":\"CA\",\"2438\":\"ID\",\"2439\":\"WY\",\"2440\":\"NM\",\"2441\":\"HI\",\"2442\":\"ID\",\"2443\":\"NC\",\"2444\":\"TX\",\"2445\":\"GA\",\"2446\":\"AL\",\"2447\":\"ME\",\"2448\":\"VA\",\"2449\":\"ID\",\"2450\":\"NY\",\"2451\":\"NC\",\"2452\":\"OH\",\"2453\":\"HI\",\"2454\":\"DC\",\"2455\":\"TN\",\"2456\":\"VT\",\"2457\":\"MD\",\"2458\":\"LA\",\"2459\":\"HI\",\"2460\":\"FL\",\"2461\":\"WY\",\"2462\":\"NE\",\"2463\":\"WY\",\"2464\":\"OR\",\"2465\":\"IN\",\"2466\":\"MD\",\"2467\":\"TN\",\"2468\":\"WV\",\"2469\":\"WA\",\"2470\":\"MS\",\"2471\":\"OH\",\"2472\":\"IN\",\"2473\":\"CO\",\"2474\":\"TX\",\"2475\":\"AK\",\"2476\":\"WV\",\"2477\":\"MA\",\"2478\":\"TN\",\"2479\":\"ID\",\"2480\":\"DE\",\"2481\":\"VA\",\"2482\":\"MT\",\"2483\":\"ID\",\"2484\":\"IN\",\"2485\":\"MD\",\"2486\":\"MS\",\"2487\":\"WA\",\"2488\":\"OH\",\"2489\":\"RI\",\"2490\":\"AR\",\"2491\":\"AZ\",\"2492\":\"SC\",\"2493\":\"KY\",\"2494\":\"AL\",\"2495\":\"NE\",\"2496\":\"MT\",\"2497\":\"MN\",\"2498\":\"NV\",\"2499\":\"CA\",\"2500\":\"UT\",\"2501\":\"IL\",\"2502\":\"DC\",\"2503\":\"IN\",\"2504\":\"NM\",\"2505\":\"MS\",\"2506\":\"VT\",\"2507\":\"VT\",\"2508\":\"UT\",\"2509\":\"KY\",\"2510\":\"VA\",\"2511\":\"OH\",\"2512\":\"AZ\",\"2513\":\"NY\",\"2514\":\"VA\",\"2515\":\"MD\",\"2516\":\"MA\",\"2517\":\"IL\",\"2518\":\"LA\",\"2519\":\"MO\",\"2520\":\"DC\",\"2521\":\"PA\",\"2522\":\"TN\",\"2523\":\"NJ\",\"2524\":\"VA\",\"2525\":\"TN\",\"2526\":\"NJ\",\"2527\":\"WA\",\"2528\":\"AR\",\"2529\":\"WI\",\"2530\":\"WA\",\"2531\":\"RI\",\"2532\":\"ME\",\"2533\":\"CO\",\"2534\":\"CO\",\"2535\":\"RI\",\"2536\":\"CT\",\"2537\":\"NC\",\"2538\":\"WY\",\"2539\":\"OR\",\"2540\":\"FL\",\"2541\":\"KY\",\"2542\":\"SC\",\"2543\":\"WA\",\"2544\":\"MT\",\"2545\":\"PA\",\"2546\":\"MA\",\"2547\":\"VT\",\"2548\":\"MN\",\"2549\":\"IL\",\"2550\":\"AR\",\"2551\":\"MD\",\"2552\":\"MT\",\"2553\":\"VT\",\"2554\":\"CO\",\"2555\":\"NC\",\"2556\":\"WA\",\"2557\":\"TN\",\"2558\":\"AR\",\"2559\":\"DC\",\"2560\":\"MN\",\"2561\":\"IA\",\"2562\":\"KS\",\"2563\":\"ND\",\"2564\":\"MT\",\"2565\":\"IL\",\"2566\":\"DC\",\"2567\":\"KY\",\"2568\":\"MS\",\"2569\":\"TN\",\"2570\":\"IA\",\"2571\":\"AK\",\"2572\":\"MN\",\"2573\":\"WV\",\"2574\":\"OR\",\"2575\":\"MS\",\"2576\":\"ME\",\"2577\":\"MN\",\"2578\":\"GA\",\"2579\":\"DC\",\"2580\":\"GA\",\"2581\":\"NY\",\"2582\":\"OK\",\"2583\":\"OK\",\"2584\":\"GA\",\"2585\":\"NJ\",\"2586\":\"MN\",\"2587\":\"ME\",\"2588\":\"MI\",\"2589\":\"MT\",\"2590\":\"NE\",\"2591\":\"ND\",\"2592\":\"VA\",\"2593\":\"VT\",\"2594\":\"OH\",\"2595\":\"AL\",\"2596\":\"DC\",\"2597\":\"ND\",\"2598\":\"TN\",\"2599\":\"DE\",\"2600\":\"NY\",\"2601\":\"AL\",\"2602\":\"OK\",\"2603\":\"MS\",\"2604\":\"MD\",\"2605\":\"NE\",\"2606\":\"AR\",\"2607\":\"IL\",\"2608\":\"IN\",\"2609\":\"UT\",\"2610\":\"LA\",\"2611\":\"ID\",\"2612\":\"KY\",\"2613\":\"MI\",\"2614\":\"NH\",\"2615\":\"WV\",\"2616\":\"OR\",\"2617\":\"SD\",\"2618\":\"MD\",\"2619\":\"ND\",\"2620\":\"TN\",\"2621\":\"MO\",\"2622\":\"IL\",\"2623\":\"UT\",\"2624\":\"MI\",\"2625\":\"AR\",\"2626\":\"TX\",\"2627\":\"AK\",\"2628\":\"TN\",\"2629\":\"NH\",\"2630\":\"NM\",\"2631\":\"MN\",\"2632\":\"IA\",\"2633\":\"RI\",\"2634\":\"AL\",\"2635\":\"NC\",\"2636\":\"SD\",\"2637\":\"MT\",\"2638\":\"HI\",\"2639\":\"MT\",\"2640\":\"KY\",\"2641\":\"DC\",\"2642\":\"CO\",\"2643\":\"MI\",\"2644\":\"AL\",\"2645\":\"KS\",\"2646\":\"NC\",\"2647\":\"SC\",\"2648\":\"CO\",\"2649\":\"MN\",\"2650\":\"WY\",\"2651\":\"FL\",\"2652\":\"NY\",\"2653\":\"OK\",\"2654\":\"ME\",\"2655\":\"NE\",\"2656\":\"OH\",\"2657\":\"CT\",\"2658\":\"DC\",\"2659\":\"OK\",\"2660\":\"NJ\",\"2661\":\"IA\",\"2662\":\"VA\",\"2663\":\"VA\",\"2664\":\"NM\",\"2665\":\"FL\",\"2666\":\"RI\",\"2667\":\"NJ\",\"2668\":\"NE\",\"2669\":\"WV\",\"2670\":\"WY\",\"2671\":\"SC\",\"2672\":\"MS\",\"2673\":\"ND\",\"2674\":\"IL\",\"2675\":\"OR\",\"2676\":\"UT\",\"2677\":\"IA\",\"2678\":\"ME\",\"2679\":\"WY\",\"2680\":\"WI\",\"2681\":\"SC\",\"2682\":\"DC\",\"2683\":\"CT\",\"2684\":\"OR\",\"2685\":\"OR\",\"2686\":\"NV\",\"2687\":\"MN\",\"2688\":\"OK\",\"2689\":\"KS\",\"2690\":\"RI\",\"2691\":\"DC\",\"2692\":\"IL\",\"2693\":\"UT\",\"2694\":\"MN\",\"2695\":\"WI\",\"2696\":\"MI\",\"2697\":\"MI\",\"2698\":\"MA\",\"2699\":\"AL\",\"2700\":\"SC\",\"2701\":\"WI\",\"2702\":\"VT\",\"2703\":\"CT\",\"2704\":\"OR\",\"2705\":\"HI\",\"2706\":\"WV\",\"2707\":\"RI\",\"2708\":\"MI\",\"2709\":\"ME\",\"2710\":\"WV\",\"2711\":\"NE\",\"2712\":\"DC\",\"2713\":\"NH\",\"2714\":\"MD\",\"2715\":\"NH\",\"2716\":\"WV\",\"2717\":\"IL\",\"2718\":\"OK\",\"2719\":\"NH\",\"2720\":\"MI\",\"2721\":\"ND\",\"2722\":\"LA\",\"2723\":\"HI\",\"2724\":\"NJ\",\"2725\":\"WV\",\"2726\":\"NC\",\"2727\":\"PA\",\"2728\":\"MI\",\"2729\":\"WY\",\"2730\":\"NJ\",\"2731\":\"NJ\",\"2732\":\"NC\",\"2733\":\"NM\",\"2734\":\"MS\",\"2735\":\"TX\",\"2736\":\"OK\",\"2737\":\"ID\",\"2738\":\"AL\",\"2739\":\"WY\",\"2740\":\"HI\",\"2741\":\"VA\",\"2742\":\"WV\",\"2743\":\"DE\",\"2744\":\"CA\",\"2745\":\"PA\",\"2746\":\"CO\",\"2747\":\"MD\",\"2748\":\"AL\",\"2749\":\"AL\",\"2750\":\"KS\",\"2751\":\"MI\",\"2752\":\"AK\",\"2753\":\"OH\",\"2754\":\"IN\",\"2755\":\"SC\",\"2756\":\"KS\",\"2757\":\"OK\",\"2758\":\"WI\",\"2759\":\"IN\",\"2760\":\"IL\",\"2761\":\"TN\",\"2762\":\"DC\",\"2763\":\"NC\",\"2764\":\"RI\",\"2765\":\"MS\",\"2766\":\"VA\",\"2767\":\"KY\",\"2768\":\"NV\",\"2769\":\"WI\",\"2770\":\"NH\",\"2771\":\"NE\",\"2772\":\"WI\",\"2773\":\"NJ\",\"2774\":\"ME\",\"2775\":\"WY\",\"2776\":\"IN\",\"2777\":\"WI\",\"2778\":\"VT\",\"2779\":\"CA\",\"2780\":\"IN\",\"2781\":\"SC\",\"2782\":\"IN\",\"2783\":\"IA\",\"2784\":\"MD\",\"2785\":\"MN\",\"2786\":\"AR\",\"2787\":\"MS\",\"2788\":\"MN\",\"2789\":\"WA\",\"2790\":\"MS\",\"2791\":\"ID\",\"2792\":\"NC\",\"2793\":\"VA\",\"2794\":\"MT\",\"2795\":\"MI\",\"2796\":\"HI\",\"2797\":\"NC\",\"2798\":\"MN\",\"2799\":\"WV\",\"2800\":\"SD\",\"2801\":\"HI\",\"2802\":\"MS\",\"2803\":\"NY\",\"2804\":\"LA\",\"2805\":\"KS\",\"2806\":\"MA\",\"2807\":\"AK\",\"2808\":\"SD\",\"2809\":\"CO\",\"2810\":\"NH\",\"2811\":\"WV\",\"2812\":\"AZ\",\"2813\":\"ME\",\"2814\":\"NH\",\"2815\":\"RI\",\"2816\":\"ID\",\"2817\":\"WI\",\"2818\":\"NM\",\"2819\":\"WY\",\"2820\":\"IL\",\"2821\":\"TX\",\"2822\":\"RI\",\"2823\":\"MI\",\"2824\":\"OR\",\"2825\":\"VA\",\"2826\":\"SD\",\"2827\":\"AL\",\"2828\":\"MS\",\"2829\":\"MS\",\"2830\":\"HI\",\"2831\":\"WV\",\"2832\":\"WV\",\"2833\":\"WV\",\"2834\":\"IN\",\"2835\":\"NM\",\"2836\":\"DE\",\"2837\":\"NC\",\"2838\":\"NM\",\"2839\":\"SC\",\"2840\":\"NJ\",\"2841\":\"AZ\",\"2842\":\"RI\",\"2843\":\"SD\",\"2844\":\"NH\",\"2845\":\"AL\",\"2846\":\"WV\",\"2847\":\"ID\",\"2848\":\"MD\",\"2849\":\"IN\",\"2850\":\"WY\",\"2851\":\"NH\",\"2852\":\"MN\",\"2853\":\"MA\",\"2854\":\"NH\",\"2855\":\"MN\",\"2856\":\"IA\",\"2857\":\"NY\",\"2858\":\"AL\",\"2859\":\"WV\",\"2860\":\"NM\",\"2861\":\"CA\",\"2862\":\"MA\",\"2863\":\"ME\",\"2864\":\"FL\",\"2865\":\"NH\",\"2866\":\"IN\",\"2867\":\"WI\",\"2868\":\"MA\",\"2869\":\"NH\",\"2870\":\"TX\",\"2871\":\"NC\",\"2872\":\"CT\",\"2873\":\"NJ\",\"2874\":\"WY\",\"2875\":\"LA\",\"2876\":\"NV\",\"2877\":\"WV\",\"2878\":\"AR\",\"2879\":\"SC\",\"2880\":\"KS\",\"2881\":\"NY\",\"2882\":\"MI\",\"2883\":\"MA\",\"2884\":\"UT\",\"2885\":\"HI\",\"2886\":\"PA\",\"2887\":\"OR\",\"2888\":\"TN\",\"2889\":\"CT\",\"2890\":\"AZ\",\"2891\":\"OR\",\"2892\":\"DE\",\"2893\":\"MA\",\"2894\":\"CT\",\"2895\":\"AR\",\"2896\":\"SD\",\"2897\":\"CT\",\"2898\":\"CT\",\"2899\":\"MA\",\"2900\":\"MS\",\"2901\":\"MT\",\"2902\":\"AK\",\"2903\":\"DE\",\"2904\":\"OH\",\"2905\":\"MN\",\"2906\":\"CA\",\"2907\":\"OH\",\"2908\":\"NV\",\"2909\":\"SC\",\"2910\":\"WV\",\"2911\":\"NM\",\"2912\":\"WY\",\"2913\":\"CA\",\"2914\":\"KS\",\"2915\":\"WY\",\"2916\":\"OK\",\"2917\":\"UT\",\"2918\":\"MA\",\"2919\":\"UT\",\"2920\":\"MN\",\"2921\":\"NE\",\"2922\":\"OH\",\"2923\":\"KY\",\"2924\":\"WA\",\"2925\":\"NY\",\"2926\":\"IN\",\"2927\":\"CO\",\"2928\":\"DC\",\"2929\":\"AK\",\"2930\":\"SC\",\"2931\":\"KS\",\"2932\":\"UT\",\"2933\":\"IL\",\"2934\":\"DC\",\"2935\":\"DC\",\"2936\":\"OK\",\"2937\":\"KY\",\"2938\":\"NE\",\"2939\":\"AL\",\"2940\":\"HI\",\"2941\":\"SC\",\"2942\":\"GA\",\"2943\":\"KS\",\"2944\":\"PA\",\"2945\":\"UT\",\"2946\":\"OR\",\"2947\":\"ND\",\"2948\":\"KY\",\"2949\":\"MN\",\"2950\":\"OH\",\"2951\":\"TX\",\"2952\":\"WY\",\"2953\":\"GA\",\"2954\":\"TX\",\"2955\":\"WV\",\"2956\":\"NM\",\"2957\":\"MI\",\"2958\":\"NC\",\"2959\":\"NY\",\"2960\":\"TX\",\"2961\":\"KY\",\"2962\":\"SD\",\"2963\":\"ID\",\"2964\":\"OR\",\"2965\":\"WI\",\"2966\":\"WV\",\"2967\":\"SC\",\"2968\":\"CT\",\"2969\":\"NV\",\"2970\":\"ND\",\"2971\":\"MI\",\"2972\":\"MT\",\"2973\":\"NE\",\"2974\":\"UT\",\"2975\":\"WV\",\"2976\":\"AR\",\"2977\":\"MT\",\"2978\":\"UT\",\"2979\":\"HI\",\"2980\":\"KS\",\"2981\":\"NY\",\"2982\":\"OH\",\"2983\":\"HI\",\"2984\":\"KS\",\"2985\":\"IN\",\"2986\":\"OR\",\"2987\":\"NY\",\"2988\":\"VA\",\"2989\":\"MI\",\"2990\":\"ID\",\"2991\":\"MO\",\"2992\":\"AL\",\"2993\":\"OR\",\"2994\":\"VT\",\"2995\":\"AZ\",\"2996\":\"VA\",\"2997\":\"PA\",\"2998\":\"CO\",\"2999\":\"KY\",\"3000\":\"NJ\",\"3001\":\"IL\",\"3002\":\"WA\",\"3003\":\"WV\",\"3004\":\"RI\",\"3005\":\"OH\",\"3006\":\"MO\",\"3007\":\"MD\",\"3008\":\"OH\",\"3009\":\"VA\",\"3010\":\"FL\",\"3011\":\"CO\",\"3012\":\"NY\",\"3013\":\"WV\",\"3014\":\"LA\",\"3015\":\"MA\",\"3016\":\"UT\",\"3017\":\"AL\",\"3018\":\"ME\",\"3019\":\"TX\",\"3020\":\"ND\",\"3021\":\"CO\",\"3022\":\"LA\",\"3023\":\"MT\",\"3024\":\"OR\",\"3025\":\"NH\",\"3026\":\"NE\",\"3027\":\"WV\",\"3028\":\"NV\",\"3029\":\"MA\",\"3030\":\"MI\",\"3031\":\"KY\",\"3032\":\"WV\",\"3033\":\"KY\",\"3034\":\"NJ\",\"3035\":\"ME\",\"3036\":\"TX\",\"3037\":\"MN\",\"3038\":\"VA\",\"3039\":\"DC\",\"3040\":\"MD\",\"3041\":\"RI\",\"3042\":\"MA\",\"3043\":\"MD\",\"3044\":\"NM\",\"3045\":\"MN\",\"3046\":\"MI\",\"3047\":\"AZ\",\"3048\":\"AL\",\"3049\":\"MI\",\"3050\":\"SC\",\"3051\":\"MS\",\"3052\":\"MS\",\"3053\":\"CA\",\"3054\":\"MD\",\"3055\":\"ND\",\"3056\":\"IL\",\"3057\":\"SD\",\"3058\":\"AL\",\"3059\":\"NV\",\"3060\":\"LA\",\"3061\":\"VA\",\"3062\":\"DE\",\"3063\":\"CT\",\"3064\":\"CO\",\"3065\":\"MA\",\"3066\":\"OR\",\"3067\":\"WA\",\"3068\":\"SC\",\"3069\":\"IN\",\"3070\":\"MD\",\"3071\":\"NV\",\"3072\":\"TX\",\"3073\":\"ND\",\"3074\":\"WV\",\"3075\":\"CO\",\"3076\":\"TX\",\"3077\":\"FL\",\"3078\":\"AL\",\"3079\":\"WV\",\"3080\":\"MI\",\"3081\":\"NY\",\"3082\":\"MS\",\"3083\":\"MO\",\"3084\":\"AR\",\"3085\":\"MS\",\"3086\":\"NY\",\"3087\":\"SD\",\"3088\":\"AK\",\"3089\":\"WV\",\"3090\":\"SC\",\"3091\":\"VA\",\"3092\":\"MS\",\"3093\":\"SD\",\"3094\":\"MN\",\"3095\":\"AL\",\"3096\":\"CO\",\"3097\":\"ME\",\"3098\":\"GA\",\"3099\":\"AZ\",\"3100\":\"MA\",\"3101\":\"AZ\",\"3102\":\"IN\",\"3103\":\"DE\",\"3104\":\"WI\",\"3105\":\"ME\",\"3106\":\"DC\",\"3107\":\"GA\",\"3108\":\"HI\",\"3109\":\"VA\",\"3110\":\"NY\",\"3111\":\"PA\",\"3112\":\"AR\",\"3113\":\"HI\",\"3114\":\"DE\",\"3115\":\"WV\",\"3116\":\"OK\",\"3117\":\"OR\",\"3118\":\"ND\",\"3119\":\"MO\",\"3120\":\"AR\",\"3121\":\"GA\",\"3122\":\"TN\",\"3123\":\"MA\",\"3124\":\"ND\",\"3125\":\"IA\",\"3126\":\"NJ\",\"3127\":\"MT\",\"3128\":\"AL\",\"3129\":\"NY\",\"3130\":\"PA\",\"3131\":\"VT\",\"3132\":\"NC\",\"3133\":\"CT\",\"3134\":\"MO\",\"3135\":\"WV\",\"3136\":\"NJ\",\"3137\":\"AK\",\"3138\":\"LA\",\"3139\":\"AL\",\"3140\":\"IN\",\"3141\":\"MA\",\"3142\":\"DE\",\"3143\":\"SC\",\"3144\":\"NH\",\"3145\":\"LA\",\"3146\":\"MS\",\"3147\":\"NM\",\"3148\":\"WA\",\"3149\":\"SC\",\"3150\":\"MT\",\"3151\":\"ME\",\"3152\":\"NM\",\"3153\":\"AZ\",\"3154\":\"CT\",\"3155\":\"IL\",\"3156\":\"IN\",\"3157\":\"AR\",\"3158\":\"RI\",\"3159\":\"ND\",\"3160\":\"NH\",\"3161\":\"NV\",\"3162\":\"UT\",\"3163\":\"NC\",\"3164\":\"MI\",\"3165\":\"WI\",\"3166\":\"AR\",\"3167\":\"NH\",\"3168\":\"TX\",\"3169\":\"ID\",\"3170\":\"CT\",\"3171\":\"NH\",\"3172\":\"WY\",\"3173\":\"OR\",\"3174\":\"SC\",\"3175\":\"MD\",\"3176\":\"NY\",\"3177\":\"NM\",\"3178\":\"LA\",\"3179\":\"UT\",\"3180\":\"AL\",\"3181\":\"DE\",\"3182\":\"WV\",\"3183\":\"KY\",\"3184\":\"NC\",\"3185\":\"WV\",\"3186\":\"AZ\",\"3187\":\"WV\",\"3188\":\"ND\",\"3189\":\"WA\",\"3190\":\"ID\",\"3191\":\"CT\",\"3192\":\"OK\",\"3193\":\"IA\",\"3194\":\"NE\",\"3195\":\"ID\",\"3196\":\"OR\",\"3197\":\"SD\",\"3198\":\"DE\",\"3199\":\"WA\",\"3200\":\"CT\",\"3201\":\"MN\",\"3202\":\"WA\",\"3203\":\"PA\",\"3204\":\"ID\",\"3205\":\"MS\",\"3206\":\"WA\",\"3207\":\"DC\",\"3208\":\"KY\",\"3209\":\"OH\",\"3210\":\"TN\",\"3211\":\"ID\",\"3212\":\"WV\",\"3213\":\"WI\",\"3214\":\"OK\",\"3215\":\"WV\",\"3216\":\"SD\",\"3217\":\"KS\",\"3218\":\"NC\",\"3219\":\"NY\",\"3220\":\"WI\",\"3221\":\"SC\",\"3222\":\"UT\",\"3223\":\"NC\",\"3224\":\"IN\",\"3225\":\"AR\",\"3226\":\"ME\",\"3227\":\"NY\",\"3228\":\"OR\",\"3229\":\"IL\",\"3230\":\"MA\",\"3231\":\"CT\",\"3232\":\"WI\",\"3233\":\"OK\",\"3234\":\"DE\",\"3235\":\"AZ\",\"3236\":\"AK\",\"3237\":\"MI\",\"3238\":\"WA\",\"3239\":\"SD\",\"3240\":\"SD\",\"3241\":\"AK\",\"3242\":\"MA\",\"3243\":\"AR\",\"3244\":\"KS\",\"3245\":\"OR\",\"3246\":\"NC\",\"3247\":\"OK\",\"3248\":\"NJ\",\"3249\":\"OH\",\"3250\":\"NM\",\"3251\":\"OH\",\"3252\":\"MI\",\"3253\":\"KS\",\"3254\":\"IL\",\"3255\":\"RI\",\"3256\":\"AR\",\"3257\":\"NY\",\"3258\":\"WY\",\"3259\":\"NC\",\"3260\":\"OR\",\"3261\":\"VT\",\"3262\":\"SD\",\"3263\":\"DC\",\"3264\":\"RI\",\"3265\":\"ID\",\"3266\":\"OK\",\"3267\":\"MN\",\"3268\":\"WA\",\"3269\":\"WV\",\"3270\":\"NH\",\"3271\":\"WI\",\"3272\":\"MD\",\"3273\":\"IN\",\"3274\":\"IN\",\"3275\":\"NY\",\"3276\":\"OR\",\"3277\":\"OK\",\"3278\":\"WI\",\"3279\":\"NJ\",\"3280\":\"AR\",\"3281\":\"UT\",\"3282\":\"DC\",\"3283\":\"AK\",\"3284\":\"AZ\",\"3285\":\"KS\",\"3286\":\"OH\",\"3287\":\"KS\",\"3288\":\"SC\",\"3289\":\"TN\",\"3290\":\"CA\",\"3291\":\"MI\",\"3292\":\"IN\",\"3293\":\"RI\",\"3294\":\"MO\",\"3295\":\"TN\",\"3296\":\"CT\",\"3297\":\"ME\",\"3298\":\"MD\",\"3299\":\"NC\",\"3300\":\"SC\",\"3301\":\"CA\",\"3302\":\"LA\",\"3303\":\"WI\",\"3304\":\"IL\",\"3305\":\"IN\",\"3306\":\"AL\",\"3307\":\"OK\",\"3308\":\"IA\",\"3309\":\"VT\",\"3310\":\"NY\",\"3311\":\"LA\",\"3312\":\"SC\",\"3313\":\"ID\",\"3314\":\"MO\",\"3315\":\"ME\",\"3316\":\"MS\",\"3317\":\"SD\",\"3318\":\"OK\",\"3319\":\"WY\",\"3320\":\"GA\",\"3321\":\"VT\",\"3322\":\"MD\",\"3323\":\"IN\",\"3324\":\"WV\",\"3325\":\"OH\",\"3326\":\"OH\",\"3327\":\"SC\",\"3328\":\"AZ\",\"3329\":\"WV\",\"3330\":\"RI\",\"3331\":\"CT\",\"3332\":\"TN\"},\"Account length\":{\"0\":128,\"1\":107,\"2\":137,\"3\":84,\"4\":75,\"5\":118,\"7\":147,\"8\":117,\"9\":141,\"10\":65,\"11\":74,\"23\":111,\"24\":132,\"25\":174,\"26\":57,\"27\":54,\"28\":20,\"30\":142,\"39\":149,\"40\":98,\"41\":135,\"42\":34,\"43\":160,\"44\":64,\"45\":59,\"46\":65,\"47\":142,\"48\":119,\"49\":97,\"50\":52,\"51\":60,\"52\":10,\"53\":96,\"54\":87,\"55\":81,\"56\":141,\"57\":121,\"58\":68,\"59\":125,\"60\":174,\"61\":116,\"62\":74,\"63\":149,\"64\":38,\"65\":40,\"66\":43,\"67\":113,\"68\":126,\"69\":150,\"70\":138,\"71\":162,\"72\":147,\"73\":90,\"74\":85,\"75\":50,\"76\":82,\"77\":144,\"78\":46,\"79\":70,\"80\":144,\"81\":116,\"82\":55,\"83\":70,\"84\":106,\"85\":128,\"86\":94,\"87\":111,\"88\":74,\"89\":128,\"90\":82,\"91\":155,\"92\":80,\"93\":78,\"94\":90,\"95\":104,\"96\":73,\"97\":99,\"98\":120,\"99\":77,\"100\":98,\"101\":108,\"102\":135,\"103\":95,\"104\":122,\"105\":95,\"106\":36,\"107\":93,\"108\":141,\"109\":157,\"110\":120,\"111\":103,\"112\":98,\"113\":125,\"114\":63,\"115\":36,\"116\":64,\"117\":74,\"118\":112,\"119\":97,\"120\":46,\"121\":41,\"122\":121,\"123\":193,\"124\":130,\"125\":85,\"126\":162,\"127\":61,\"128\":92,\"129\":131,\"130\":90,\"131\":75,\"132\":78,\"133\":82,\"134\":163,\"135\":91,\"136\":75,\"137\":91,\"143\":103,\"144\":117,\"145\":140,\"146\":127,\"147\":83,\"148\":121,\"149\":145,\"150\":113,\"151\":117,\"152\":65,\"153\":56,\"154\":96,\"155\":151,\"156\":83,\"157\":139,\"158\":6,\"159\":115,\"160\":87,\"161\":141,\"162\":141,\"163\":62,\"164\":146,\"165\":92,\"166\":185,\"167\":148,\"168\":94,\"169\":32,\"170\":68,\"171\":64,\"172\":25,\"173\":65,\"174\":179,\"175\":94,\"176\":62,\"177\":127,\"178\":116,\"179\":70,\"180\":94,\"181\":126,\"182\":67,\"183\":19,\"184\":170,\"185\":73,\"186\":106,\"187\":93,\"188\":164,\"189\":51,\"190\":107,\"191\":130,\"192\":80,\"193\":94,\"194\":118,\"195\":117,\"196\":78,\"197\":208,\"198\":131,\"199\":63,\"200\":53,\"201\":62,\"202\":97,\"203\":105,\"204\":157,\"205\":66,\"206\":122,\"207\":38,\"208\":106,\"209\":99,\"210\":99,\"211\":144,\"212\":82,\"213\":86,\"214\":70,\"215\":93,\"216\":93,\"217\":120,\"218\":136,\"219\":106,\"220\":81,\"221\":127,\"222\":65,\"223\":35,\"224\":88,\"225\":65,\"226\":123,\"227\":126,\"228\":104,\"229\":45,\"230\":93,\"231\":63,\"232\":100,\"233\":53,\"234\":92,\"235\":139,\"236\":110,\"237\":110,\"238\":215,\"239\":73,\"240\":138,\"241\":137,\"242\":36,\"243\":85,\"244\":108,\"245\":22,\"246\":107,\"247\":51,\"248\":94,\"249\":119,\"250\":33,\"251\":106,\"252\":82,\"253\":86,\"254\":97,\"255\":106,\"256\":108,\"257\":114,\"258\":92,\"259\":59,\"260\":24,\"261\":151,\"262\":117,\"263\":78,\"264\":155,\"265\":114,\"266\":114,\"267\":119,\"268\":64,\"269\":118,\"270\":101,\"271\":117,\"272\":49,\"273\":139,\"274\":92,\"275\":83,\"276\":148,\"277\":144,\"278\":131,\"279\":146,\"280\":143,\"281\":81,\"282\":48,\"283\":86,\"284\":71,\"285\":145,\"286\":137,\"287\":137,\"288\":167,\"289\":89,\"290\":199,\"291\":132,\"292\":94,\"293\":96,\"294\":96,\"295\":166,\"296\":74,\"297\":36,\"298\":113,\"299\":94,\"300\":67,\"301\":127,\"302\":121,\"303\":158,\"304\":136,\"305\":196,\"306\":113,\"307\":122,\"308\":112,\"309\":209,\"310\":62,\"311\":110,\"312\":16,\"313\":73,\"314\":128,\"315\":39,\"316\":103,\"317\":119,\"318\":173,\"319\":128,\"320\":86,\"321\":114,\"322\":104,\"323\":148,\"324\":129,\"325\":100,\"326\":121,\"327\":143,\"328\":76,\"329\":158,\"330\":116,\"331\":54,\"332\":86,\"333\":108,\"334\":66,\"335\":151,\"336\":99,\"337\":55,\"338\":77,\"339\":78,\"340\":89,\"341\":101,\"342\":44,\"343\":98,\"344\":64,\"345\":141,\"346\":81,\"347\":162,\"348\":83,\"349\":100,\"350\":59,\"351\":179,\"352\":79,\"353\":117,\"354\":64,\"355\":31,\"356\":124,\"357\":122,\"358\":37,\"359\":90,\"360\":159,\"361\":148,\"362\":39,\"363\":77,\"364\":194,\"365\":154,\"366\":112,\"367\":45,\"368\":132,\"369\":128,\"370\":135,\"371\":56,\"372\":151,\"373\":32,\"374\":90,\"375\":87,\"376\":138,\"377\":79,\"378\":95,\"379\":127,\"380\":137,\"381\":97,\"382\":149,\"383\":117,\"384\":84,\"385\":137,\"386\":99,\"387\":54,\"388\":85,\"389\":150,\"390\":43,\"391\":35,\"392\":98,\"393\":112,\"394\":16,\"395\":98,\"396\":84,\"397\":94,\"398\":84,\"399\":66,\"400\":98,\"401\":74,\"402\":96,\"403\":119,\"404\":73,\"405\":92,\"406\":21,\"407\":122,\"408\":133,\"409\":145,\"410\":25,\"411\":64,\"412\":85,\"413\":126,\"414\":76,\"415\":113,\"416\":224,\"417\":117,\"418\":128,\"419\":115,\"420\":141,\"421\":51,\"422\":100,\"423\":96,\"424\":112,\"425\":129,\"426\":163,\"427\":67,\"428\":140,\"429\":49,\"430\":46,\"431\":148,\"432\":112,\"433\":78,\"434\":61,\"435\":58,\"436\":155,\"437\":100,\"438\":113,\"439\":81,\"440\":135,\"441\":99,\"442\":59,\"443\":135,\"444\":85,\"445\":70,\"446\":88,\"447\":55,\"448\":75,\"449\":79,\"450\":85,\"451\":86,\"452\":91,\"453\":149,\"454\":97,\"455\":88,\"456\":60,\"457\":54,\"458\":11,\"459\":109,\"460\":90,\"461\":115,\"462\":144,\"463\":91,\"464\":105,\"465\":71,\"466\":132,\"467\":112,\"468\":86,\"469\":41,\"470\":44,\"471\":78,\"472\":149,\"473\":72,\"474\":139,\"475\":74,\"476\":50,\"477\":141,\"478\":140,\"479\":99,\"480\":166,\"481\":124,\"482\":74,\"483\":117,\"484\":85,\"485\":36,\"486\":102,\"487\":76,\"488\":165,\"489\":130,\"490\":78,\"491\":55,\"492\":92,\"493\":129,\"494\":18,\"495\":161,\"496\":93,\"497\":144,\"498\":75,\"499\":95,\"500\":126,\"501\":124,\"502\":93,\"503\":109,\"504\":80,\"505\":41,\"506\":136,\"507\":92,\"508\":143,\"509\":118,\"510\":193,\"511\":73,\"512\":62,\"513\":30,\"514\":60,\"515\":148,\"516\":96,\"517\":52,\"518\":87,\"519\":41,\"520\":112,\"521\":88,\"522\":122,\"523\":61,\"524\":87,\"525\":176,\"526\":30,\"527\":95,\"528\":46,\"529\":100,\"530\":47,\"531\":77,\"532\":98,\"533\":125,\"534\":67,\"535\":194,\"536\":128,\"537\":190,\"538\":165,\"539\":59,\"540\":47,\"541\":150,\"542\":152,\"543\":26,\"544\":79,\"545\":95,\"546\":69,\"547\":95,\"548\":31,\"549\":121,\"550\":111,\"551\":157,\"552\":44,\"553\":61,\"554\":65,\"555\":74,\"556\":123,\"557\":58,\"558\":74,\"559\":125,\"560\":80,\"561\":53,\"562\":99,\"563\":99,\"564\":66,\"565\":97,\"566\":75,\"567\":85,\"568\":108,\"569\":133,\"570\":51,\"571\":186,\"572\":44,\"573\":64,\"574\":44,\"575\":114,\"576\":92,\"577\":110,\"578\":90,\"579\":72,\"580\":113,\"581\":171,\"582\":104,\"583\":165,\"584\":104,\"585\":110,\"586\":90,\"587\":114,\"588\":101,\"589\":117,\"590\":109,\"591\":82,\"592\":92,\"593\":82,\"594\":90,\"595\":87,\"596\":124,\"597\":39,\"598\":84,\"599\":75,\"600\":102,\"601\":62,\"602\":143,\"603\":53,\"604\":30,\"605\":112,\"606\":129,\"607\":63,\"608\":28,\"609\":111,\"610\":91,\"611\":90,\"612\":151,\"613\":105,\"614\":41,\"615\":48,\"616\":166,\"617\":79,\"618\":153,\"619\":110,\"620\":163,\"621\":126,\"622\":105,\"623\":172,\"624\":126,\"625\":97,\"626\":95,\"627\":87,\"628\":97,\"629\":76,\"630\":140,\"631\":169,\"632\":68,\"633\":122,\"634\":36,\"635\":120,\"636\":121,\"637\":64,\"638\":13,\"639\":106,\"640\":88,\"641\":74,\"642\":83,\"643\":49,\"644\":111,\"645\":50,\"646\":153,\"647\":88,\"648\":131,\"649\":79,\"650\":140,\"651\":105,\"652\":54,\"653\":87,\"654\":96,\"655\":79,\"656\":55,\"657\":130,\"658\":34,\"659\":139,\"660\":109,\"661\":65,\"662\":63,\"663\":152,\"664\":147,\"665\":112,\"666\":120,\"667\":27,\"668\":171,\"669\":101,\"670\":32,\"671\":3,\"672\":151,\"673\":60,\"674\":119,\"675\":43,\"676\":42,\"677\":84,\"678\":65,\"679\":75,\"680\":116,\"681\":107,\"682\":189,\"683\":123,\"684\":110,\"685\":63,\"686\":176,\"687\":108,\"688\":13,\"689\":71,\"690\":88,\"691\":137,\"692\":82,\"693\":92,\"694\":165,\"695\":96,\"696\":156,\"697\":63,\"698\":37,\"699\":98,\"700\":121,\"701\":94,\"702\":99,\"703\":163,\"704\":161,\"705\":99,\"706\":108,\"707\":84,\"708\":83,\"709\":139,\"710\":69,\"711\":129,\"712\":106,\"713\":158,\"714\":168,\"715\":115,\"716\":57,\"717\":67,\"718\":127,\"719\":78,\"720\":100,\"721\":103,\"722\":113,\"723\":78,\"724\":129,\"725\":57,\"726\":82,\"727\":64,\"728\":86,\"729\":151,\"730\":94,\"731\":90,\"732\":48,\"733\":85,\"734\":93,\"735\":169,\"736\":68,\"737\":91,\"738\":68,\"739\":101,\"740\":67,\"741\":66,\"742\":116,\"743\":158,\"744\":78,\"745\":119,\"746\":120,\"747\":155,\"748\":106,\"749\":87,\"750\":146,\"751\":101,\"752\":22,\"753\":90,\"754\":41,\"755\":69,\"756\":33,\"757\":112,\"758\":108,\"759\":136,\"760\":128,\"761\":27,\"762\":161,\"763\":33,\"764\":120,\"765\":113,\"766\":122,\"767\":148,\"768\":74,\"769\":106,\"770\":179,\"771\":149,\"772\":77,\"773\":127,\"774\":80,\"775\":106,\"776\":61,\"777\":135,\"778\":115,\"779\":167,\"780\":107,\"781\":112,\"782\":35,\"783\":103,\"784\":107,\"785\":69,\"786\":85,\"787\":24,\"788\":90,\"789\":137,\"790\":92,\"791\":38,\"792\":69,\"793\":45,\"794\":73,\"795\":92,\"796\":113,\"797\":68,\"798\":135,\"799\":100,\"800\":96,\"801\":108,\"802\":84,\"803\":134,\"804\":72,\"805\":83,\"806\":137,\"807\":56,\"808\":61,\"809\":171,\"810\":123,\"811\":58,\"812\":156,\"813\":166,\"814\":75,\"815\":75,\"816\":83,\"817\":243,\"818\":153,\"819\":150,\"820\":92,\"821\":80,\"822\":134,\"823\":77,\"824\":147,\"825\":74,\"826\":138,\"827\":143,\"828\":64,\"829\":120,\"830\":121,\"831\":88,\"832\":87,\"833\":100,\"834\":104,\"835\":27,\"836\":81,\"837\":64,\"838\":107,\"839\":88,\"840\":111,\"841\":77,\"842\":67,\"843\":102,\"844\":146,\"845\":144,\"846\":96,\"847\":70,\"848\":149,\"849\":129,\"850\":166,\"851\":136,\"852\":149,\"853\":70,\"854\":120,\"855\":66,\"856\":104,\"857\":160,\"858\":129,\"859\":93,\"860\":169,\"861\":58,\"862\":75,\"863\":45,\"864\":155,\"865\":52,\"866\":119,\"867\":86,\"868\":42,\"869\":127,\"870\":123,\"871\":98,\"872\":149,\"873\":160,\"874\":103,\"875\":132,\"876\":137,\"877\":129,\"878\":62,\"879\":122,\"880\":32,\"881\":86,\"882\":130,\"883\":42,\"884\":73,\"885\":66,\"886\":103,\"887\":128,\"888\":104,\"889\":103,\"890\":124,\"891\":87,\"892\":109,\"893\":167,\"894\":97,\"895\":106,\"896\":125,\"897\":108,\"898\":125,\"899\":89,\"900\":72,\"901\":23,\"902\":149,\"903\":73,\"904\":61,\"905\":161,\"906\":73,\"907\":118,\"908\":23,\"909\":127,\"910\":42,\"911\":118,\"912\":45,\"913\":50,\"914\":179,\"915\":152,\"916\":105,\"917\":72,\"918\":52,\"919\":125,\"920\":143,\"921\":65,\"922\":80,\"923\":1,\"924\":60,\"925\":43,\"926\":143,\"927\":81,\"928\":205,\"929\":24,\"930\":74,\"931\":77,\"932\":74,\"933\":74,\"934\":200,\"935\":86,\"936\":91,\"937\":76,\"938\":130,\"939\":56,\"940\":117,\"941\":63,\"942\":126,\"943\":132,\"944\":81,\"945\":122,\"946\":46,\"947\":150,\"948\":99,\"949\":87,\"950\":108,\"951\":101,\"952\":53,\"953\":132,\"954\":158,\"955\":114,\"956\":77,\"957\":144,\"958\":91,\"959\":58,\"960\":5,\"961\":97,\"962\":107,\"963\":142,\"964\":9,\"965\":73,\"966\":48,\"967\":43,\"968\":122,\"969\":93,\"970\":85,\"971\":59,\"972\":87,\"973\":137,\"974\":21,\"975\":129,\"976\":104,\"977\":93,\"978\":63,\"979\":161,\"980\":50,\"981\":103,\"982\":84,\"983\":92,\"984\":77,\"985\":64,\"986\":159,\"987\":110,\"988\":138,\"989\":178,\"990\":38,\"991\":50,\"992\":45,\"993\":70,\"994\":147,\"995\":94,\"996\":179,\"997\":116,\"998\":59,\"999\":165,\"1000\":133,\"1001\":140,\"1002\":93,\"1003\":52,\"1004\":64,\"1005\":12,\"1006\":48,\"1007\":181,\"1008\":168,\"1009\":155,\"1010\":105,\"1011\":11,\"1012\":182,\"1013\":104,\"1014\":102,\"1015\":122,\"1016\":41,\"1017\":132,\"1018\":76,\"1019\":13,\"1020\":115,\"1021\":67,\"1022\":154,\"1023\":100,\"1024\":146,\"1025\":148,\"1026\":67,\"1027\":161,\"1028\":70,\"1029\":116,\"1030\":99,\"1031\":87,\"1032\":87,\"1033\":70,\"1034\":131,\"1035\":119,\"1036\":119,\"1037\":87,\"1038\":112,\"1039\":75,\"1040\":150,\"1041\":161,\"1042\":91,\"1043\":124,\"1044\":94,\"1045\":217,\"1046\":158,\"1047\":102,\"1048\":85,\"1049\":79,\"1050\":139,\"1051\":103,\"1052\":98,\"1053\":78,\"1054\":50,\"1055\":161,\"1056\":67,\"1057\":86,\"1058\":92,\"1059\":174,\"1060\":124,\"1061\":132,\"1062\":190,\"1063\":101,\"1064\":185,\"1065\":68,\"1066\":117,\"1067\":118,\"1068\":124,\"1069\":22,\"1070\":75,\"1071\":134,\"1072\":164,\"1073\":44,\"1074\":177,\"1075\":110,\"1076\":53,\"1077\":108,\"1078\":80,\"1079\":158,\"1080\":114,\"1081\":64,\"1082\":88,\"1083\":82,\"1084\":111,\"1085\":60,\"1086\":113,\"1087\":109,\"1088\":105,\"1089\":85,\"1090\":131,\"1091\":59,\"1092\":148,\"1093\":210,\"1094\":115,\"1095\":106,\"1096\":93,\"1097\":57,\"1098\":98,\"1099\":157,\"1100\":116,\"1101\":30,\"1102\":111,\"1103\":52,\"1104\":72,\"1105\":135,\"1106\":86,\"1107\":98,\"1108\":151,\"1109\":118,\"1110\":117,\"1111\":55,\"1112\":82,\"1113\":152,\"1114\":108,\"1115\":98,\"1116\":130,\"1117\":136,\"1118\":47,\"1119\":189,\"1120\":107,\"1121\":91,\"1122\":159,\"1123\":11,\"1124\":167,\"1125\":111,\"1126\":99,\"1127\":159,\"1128\":114,\"1129\":71,\"1130\":122,\"1131\":100,\"1132\":83,\"1133\":64,\"1134\":105,\"1135\":144,\"1136\":106,\"1137\":19,\"1138\":46,\"1139\":127,\"1140\":9,\"1141\":157,\"1142\":105,\"1143\":105,\"1144\":155,\"1145\":31,\"1146\":161,\"1147\":95,\"1148\":122,\"1149\":37,\"1150\":132,\"1151\":119,\"1152\":16,\"1153\":99,\"1154\":76,\"1155\":167,\"1156\":129,\"1157\":116,\"1158\":60,\"1159\":128,\"1160\":47,\"1161\":40,\"1162\":173,\"1163\":157,\"1164\":66,\"1165\":50,\"1166\":72,\"1167\":130,\"1168\":143,\"1169\":89,\"1170\":108,\"1171\":32,\"1172\":166,\"1173\":109,\"1174\":72,\"1175\":134,\"1176\":13,\"1177\":90,\"1178\":111,\"1179\":101,\"1180\":72,\"1181\":67,\"1182\":172,\"1183\":154,\"1184\":69,\"1185\":123,\"1186\":130,\"1187\":142,\"1188\":29,\"1189\":87,\"1190\":149,\"1191\":146,\"1192\":88,\"1193\":119,\"1194\":48,\"1195\":135,\"1196\":100,\"1197\":98,\"1198\":75,\"1199\":180,\"1200\":100,\"1201\":119,\"1202\":86,\"1203\":155,\"1204\":78,\"1205\":153,\"1206\":92,\"1207\":13,\"1208\":154,\"1209\":144,\"1210\":48,\"1211\":94,\"1212\":139,\"1213\":126,\"1214\":122,\"1215\":139,\"1216\":95,\"1217\":80,\"1218\":131,\"1219\":36,\"1220\":180,\"1221\":25,\"1222\":113,\"1223\":88,\"1224\":120,\"1225\":74,\"1226\":109,\"1227\":162,\"1228\":124,\"1229\":177,\"1230\":91,\"1231\":105,\"1232\":24,\"1233\":48,\"1234\":86,\"1235\":163,\"1236\":91,\"1237\":56,\"1238\":147,\"1239\":64,\"1240\":108,\"1241\":159,\"1242\":136,\"1243\":116,\"1244\":45,\"1245\":122,\"1246\":138,\"1247\":132,\"1248\":101,\"1249\":58,\"1250\":81,\"1251\":87,\"1252\":116,\"1253\":85,\"1254\":62,\"1255\":90,\"1256\":98,\"1257\":73,\"1258\":107,\"1259\":55,\"1260\":76,\"1261\":30,\"1262\":157,\"1263\":40,\"1264\":72,\"1265\":95,\"1266\":42,\"1267\":86,\"1268\":131,\"1269\":55,\"1270\":74,\"1271\":81,\"1272\":81,\"1273\":28,\"1274\":111,\"1275\":3,\"1276\":51,\"1277\":68,\"1278\":163,\"1279\":87,\"1280\":58,\"1281\":109,\"1282\":111,\"1283\":144,\"1284\":135,\"1285\":109,\"1286\":107,\"1287\":149,\"1288\":56,\"1289\":129,\"1290\":92,\"1291\":67,\"1292\":120,\"1293\":166,\"1294\":66,\"1295\":76,\"1296\":79,\"1297\":98,\"1298\":141,\"1299\":49,\"1300\":46,\"1301\":137,\"1302\":171,\"1303\":10,\"1304\":88,\"1305\":89,\"1306\":82,\"1307\":139,\"1308\":87,\"1309\":137,\"1310\":45,\"1311\":90,\"1312\":103,\"1313\":100,\"1314\":110,\"1315\":124,\"1316\":10,\"1317\":89,\"1318\":121,\"1319\":101,\"1320\":103,\"1321\":51,\"1322\":2,\"1323\":111,\"1324\":118,\"1325\":17,\"1326\":130,\"1327\":193,\"1328\":114,\"1329\":137,\"1330\":185,\"1331\":101,\"1332\":95,\"1333\":7,\"1334\":126,\"1335\":71,\"1336\":124,\"1337\":97,\"1338\":28,\"1339\":90,\"1340\":190,\"1341\":31,\"1342\":52,\"1343\":73,\"1344\":111,\"1345\":98,\"1346\":106,\"1347\":111,\"1348\":59,\"1349\":71,\"1350\":55,\"1351\":13,\"1352\":136,\"1353\":123,\"1354\":105,\"1355\":50,\"1356\":118,\"1357\":97,\"1358\":51,\"1359\":73,\"1360\":35,\"1361\":64,\"1362\":63,\"1363\":117,\"1364\":115,\"1365\":162,\"1366\":89,\"1367\":94,\"1368\":129,\"1369\":86,\"1370\":96,\"1371\":190,\"1372\":80,\"1373\":108,\"1374\":97,\"1375\":84,\"1376\":65,\"1377\":131,\"1378\":58,\"1379\":36,\"1380\":54,\"1381\":45,\"1382\":125,\"1383\":72,\"1384\":141,\"1385\":113,\"1386\":20,\"1387\":212,\"1388\":99,\"1389\":94,\"1390\":40,\"1391\":86,\"1392\":101,\"1393\":170,\"1394\":105,\"1395\":103,\"1396\":140,\"1397\":101,\"1398\":98,\"1399\":104,\"1400\":115,\"1401\":112,\"1402\":70,\"1403\":126,\"1404\":87,\"1405\":125,\"1406\":86,\"1407\":73,\"1408\":232,\"1409\":1,\"1410\":133,\"1411\":103,\"1412\":131,\"1413\":95,\"1414\":182,\"1415\":99,\"1416\":27,\"1417\":141,\"1418\":29,\"1419\":65,\"1420\":81,\"1421\":37,\"1422\":107,\"1423\":127,\"1424\":78,\"1425\":55,\"1426\":86,\"1427\":176,\"1428\":96,\"1429\":11,\"1430\":48,\"1431\":127,\"1432\":63,\"1433\":79,\"1434\":47,\"1435\":89,\"1436\":83,\"1437\":126,\"1438\":60,\"1439\":122,\"1440\":136,\"1441\":172,\"1442\":102,\"1443\":113,\"1444\":79,\"1445\":55,\"1446\":111,\"1447\":160,\"1448\":110,\"1449\":192,\"1450\":93,\"1451\":101,\"1452\":77,\"1453\":105,\"1454\":133,\"1455\":131,\"1456\":106,\"1457\":118,\"1458\":125,\"1459\":95,\"1460\":80,\"1461\":145,\"1462\":37,\"1463\":87,\"1464\":69,\"1465\":83,\"1466\":195,\"1467\":67,\"1468\":75,\"1469\":123,\"1470\":41,\"1471\":75,\"1472\":76,\"1473\":86,\"1474\":140,\"1475\":70,\"1476\":121,\"1477\":112,\"1478\":118,\"1479\":66,\"1480\":78,\"1481\":129,\"1482\":6,\"1483\":107,\"1484\":107,\"1485\":138,\"1486\":103,\"1487\":116,\"1488\":189,\"1489\":161,\"1490\":1,\"1491\":89,\"1492\":64,\"1493\":126,\"1494\":129,\"1495\":128,\"1496\":81,\"1497\":114,\"1498\":50,\"1499\":86,\"1500\":96,\"1501\":72,\"1502\":64,\"1503\":57,\"1504\":65,\"1505\":163,\"1506\":136,\"1507\":116,\"1508\":93,\"1509\":142,\"1510\":92,\"1511\":70,\"1512\":22,\"1513\":37,\"1514\":51,\"1515\":174,\"1516\":68,\"1517\":130,\"1518\":104,\"1519\":134,\"1520\":108,\"1521\":103,\"1522\":62,\"1523\":162,\"1524\":93,\"1525\":42,\"1526\":155,\"1527\":36,\"1528\":143,\"1529\":197,\"1530\":81,\"1531\":138,\"1532\":103,\"1533\":127,\"1534\":136,\"1535\":99,\"1536\":95,\"1537\":118,\"1538\":113,\"1539\":128,\"1540\":117,\"1541\":48,\"1542\":81,\"1543\":57,\"1544\":140,\"1545\":107,\"1546\":56,\"1547\":159,\"1548\":102,\"1549\":107,\"1550\":106,\"1551\":225,\"1552\":75,\"1553\":86,\"1554\":169,\"1555\":122,\"1556\":106,\"1557\":52,\"1558\":79,\"1559\":135,\"1560\":70,\"1561\":80,\"1562\":37,\"1563\":161,\"1564\":137,\"1565\":123,\"1566\":80,\"1567\":94,\"1568\":105,\"1569\":73,\"1570\":112,\"1571\":179,\"1572\":57,\"1573\":127,\"1574\":122,\"1575\":33,\"1576\":94,\"1577\":100,\"1578\":106,\"1579\":148,\"1580\":120,\"1581\":91,\"1582\":86,\"1583\":78,\"1584\":94,\"1585\":85,\"1586\":89,\"1587\":128,\"1588\":115,\"1589\":76,\"1590\":75,\"1591\":90,\"1592\":30,\"1593\":105,\"1594\":102,\"1595\":83,\"1596\":63,\"1597\":155,\"1598\":82,\"1599\":87,\"1600\":115,\"1601\":99,\"1602\":121,\"1603\":54,\"1604\":105,\"1605\":73,\"1606\":95,\"1607\":21,\"1608\":163,\"1609\":57,\"1610\":104,\"1611\":83,\"1612\":141,\"1613\":95,\"1614\":184,\"1615\":74,\"1616\":67,\"1617\":104,\"1618\":71,\"1619\":149,\"1620\":154,\"1621\":138,\"1622\":117,\"1623\":130,\"1624\":73,\"1625\":100,\"1626\":149,\"1627\":29,\"1628\":131,\"1629\":153,\"1630\":84,\"1631\":133,\"1632\":112,\"1633\":87,\"1634\":72,\"1635\":66,\"1636\":65,\"1637\":74,\"1638\":116,\"1639\":68,\"1640\":68,\"1641\":54,\"1642\":99,\"1643\":107,\"1644\":124,\"1645\":95,\"1646\":173,\"1647\":110,\"1648\":102,\"1649\":130,\"1650\":91,\"1651\":64,\"1652\":176,\"1653\":93,\"1654\":84,\"1655\":138,\"1656\":101,\"1657\":136,\"1658\":111,\"1659\":132,\"1660\":128,\"1661\":92,\"1662\":197,\"1663\":191,\"1664\":99,\"1665\":106,\"1666\":88,\"1667\":78,\"1668\":98,\"1669\":17,\"1670\":56,\"1671\":84,\"1672\":95,\"1673\":16,\"1674\":76,\"1675\":93,\"1676\":83,\"1677\":123,\"1678\":64,\"1679\":82,\"1680\":107,\"1681\":110,\"1682\":96,\"1683\":47,\"1684\":115,\"1685\":69,\"1686\":163,\"1687\":90,\"1688\":98,\"1689\":90,\"1690\":174,\"1691\":95,\"1692\":79,\"1693\":123,\"1694\":99,\"1695\":114,\"1696\":141,\"1697\":132,\"1698\":133,\"1699\":133,\"1700\":93,\"1701\":34,\"1702\":140,\"1703\":96,\"1704\":144,\"1705\":24,\"1706\":54,\"1707\":50,\"1708\":92,\"1709\":96,\"1710\":146,\"1711\":138,\"1712\":102,\"1713\":76,\"1714\":99,\"1715\":83,\"1716\":36,\"1717\":70,\"1718\":109,\"1719\":100,\"1720\":104,\"1721\":106,\"1722\":84,\"1723\":80,\"1724\":100,\"1725\":99,\"1726\":50,\"1727\":105,\"1728\":113,\"1729\":111,\"1730\":161,\"1731\":70,\"1732\":97,\"1733\":130,\"1734\":92,\"1735\":119,\"1736\":115,\"1737\":134,\"1738\":127,\"1739\":80,\"1740\":153,\"1741\":85,\"1742\":79,\"1743\":35,\"1744\":120,\"1745\":68,\"1746\":60,\"1747\":120,\"1748\":71,\"1749\":124,\"1750\":23,\"1751\":225,\"1752\":181,\"1753\":63,\"1754\":54,\"1755\":80,\"1756\":118,\"1757\":42,\"1758\":134,\"1759\":66,\"1760\":66,\"1761\":127,\"1762\":146,\"1763\":93,\"1764\":77,\"1765\":111,\"1766\":125,\"1767\":115,\"1768\":115,\"1769\":114,\"1770\":106,\"1771\":118,\"1772\":59,\"1773\":87,\"1774\":21,\"1775\":142,\"1776\":62,\"1777\":149,\"1778\":54,\"1779\":112,\"1780\":68,\"1781\":201,\"1782\":88,\"1783\":85,\"1784\":51,\"1785\":45,\"1786\":116,\"1787\":146,\"1788\":63,\"1789\":133,\"1790\":125,\"1791\":72,\"1792\":130,\"1793\":97,\"1794\":54,\"1795\":160,\"1796\":79,\"1797\":92,\"1798\":59,\"1799\":132,\"1800\":21,\"1801\":93,\"1802\":147,\"1803\":101,\"1804\":125,\"1805\":63,\"1806\":107,\"1807\":110,\"1808\":83,\"1809\":117,\"1810\":124,\"1811\":115,\"1812\":156,\"1813\":89,\"1814\":72,\"1815\":101,\"1816\":53,\"1817\":116,\"1818\":78,\"1819\":117,\"1820\":56,\"1821\":123,\"1822\":127,\"1823\":116,\"1824\":138,\"1825\":120,\"1826\":102,\"1827\":95,\"1828\":102,\"1829\":89,\"1830\":50,\"1831\":93,\"1832\":68,\"1833\":70,\"1834\":138,\"1835\":141,\"1836\":112,\"1837\":117,\"1838\":1,\"1839\":70,\"1840\":87,\"1841\":52,\"1842\":97,\"1843\":105,\"1844\":77,\"1845\":80,\"1846\":120,\"1847\":54,\"1848\":148,\"1849\":119,\"1850\":162,\"1851\":85,\"1852\":101,\"1853\":172,\"1854\":80,\"1855\":67,\"1856\":86,\"1857\":107,\"1858\":133,\"1859\":116,\"1860\":63,\"1861\":119,\"1862\":133,\"1863\":94,\"1864\":69,\"1865\":146,\"1866\":119,\"1867\":142,\"1868\":123,\"1869\":101,\"1870\":43,\"1871\":69,\"1872\":15,\"1873\":107,\"1874\":67,\"1875\":99,\"1876\":46,\"1877\":55,\"1878\":39,\"1879\":92,\"1880\":56,\"1881\":76,\"1882\":132,\"1883\":140,\"1884\":51,\"1885\":27,\"1886\":224,\"1887\":105,\"1888\":117,\"1889\":91,\"1890\":135,\"1891\":146,\"1892\":147,\"1893\":68,\"1894\":68,\"1895\":86,\"1896\":131,\"1897\":86,\"1898\":159,\"1899\":134,\"1900\":113,\"1901\":132,\"1902\":85,\"1903\":93,\"1904\":174,\"1905\":61,\"1906\":91,\"1907\":88,\"1908\":88,\"1909\":195,\"1910\":182,\"1911\":118,\"1912\":103,\"1913\":65,\"1914\":61,\"1915\":172,\"1916\":72,\"1917\":113,\"1918\":177,\"1919\":100,\"1920\":67,\"1921\":136,\"1922\":71,\"1923\":134,\"1924\":124,\"1925\":84,\"1926\":39,\"1927\":110,\"1928\":102,\"1929\":70,\"1930\":142,\"1931\":81,\"1932\":17,\"1933\":119,\"1934\":105,\"1935\":108,\"1936\":90,\"1937\":100,\"1938\":155,\"1939\":113,\"1940\":123,\"1941\":145,\"1942\":42,\"1943\":125,\"1944\":131,\"1945\":107,\"1946\":48,\"1947\":76,\"1948\":128,\"1949\":73,\"1950\":52,\"1951\":126,\"1952\":124,\"1953\":137,\"1954\":71,\"1955\":139,\"1956\":107,\"1957\":147,\"1958\":116,\"1959\":60,\"1960\":38,\"1961\":63,\"1962\":94,\"1963\":131,\"1964\":158,\"1965\":139,\"1966\":77,\"1967\":140,\"1968\":72,\"1969\":52,\"1970\":103,\"1971\":74,\"1972\":124,\"1973\":85,\"1974\":113,\"1975\":71,\"1976\":177,\"1977\":49,\"1978\":106,\"1979\":60,\"1980\":43,\"1981\":66,\"1982\":125,\"1983\":114,\"1984\":112,\"1985\":101,\"1986\":70,\"1987\":59,\"1988\":59,\"1989\":124,\"1990\":99,\"1991\":150,\"1992\":81,\"1993\":86,\"1994\":84,\"1995\":118,\"1996\":89,\"1997\":93,\"1998\":85,\"1999\":160,\"2000\":28,\"2001\":73,\"2002\":156,\"2003\":33,\"2004\":77,\"2005\":119,\"2006\":91,\"2007\":102,\"2008\":86,\"2009\":82,\"2010\":89,\"2011\":86,\"2012\":134,\"2013\":92,\"2014\":87,\"2015\":64,\"2016\":80,\"2017\":165,\"2018\":153,\"2019\":41,\"2020\":108,\"2021\":104,\"2022\":115,\"2023\":87,\"2024\":159,\"2025\":119,\"2026\":69,\"2027\":87,\"2028\":93,\"2029\":154,\"2030\":57,\"2031\":130,\"2032\":151,\"2033\":162,\"2034\":60,\"2035\":81,\"2036\":132,\"2037\":86,\"2038\":136,\"2039\":121,\"2040\":105,\"2041\":105,\"2042\":51,\"2043\":64,\"2044\":80,\"2045\":56,\"2046\":120,\"2047\":103,\"2048\":164,\"2049\":116,\"2050\":121,\"2051\":55,\"2052\":183,\"2053\":104,\"2054\":90,\"2055\":82,\"2056\":101,\"2057\":9,\"2058\":97,\"2059\":94,\"2060\":127,\"2061\":125,\"2062\":140,\"2063\":90,\"2064\":67,\"2065\":113,\"2066\":121,\"2067\":93,\"2068\":121,\"2069\":53,\"2070\":75,\"2071\":132,\"2072\":162,\"2073\":140,\"2074\":91,\"2075\":73,\"2076\":95,\"2077\":145,\"2078\":100,\"2079\":122,\"2080\":109,\"2081\":82,\"2082\":65,\"2083\":52,\"2084\":136,\"2085\":75,\"2086\":146,\"2087\":105,\"2088\":48,\"2089\":45,\"2090\":106,\"2091\":33,\"2092\":68,\"2093\":106,\"2094\":141,\"2095\":98,\"2096\":94,\"2097\":65,\"2098\":85,\"2099\":71,\"2100\":112,\"2101\":110,\"2102\":111,\"2103\":74,\"2104\":105,\"2105\":40,\"2106\":128,\"2107\":123,\"2108\":122,\"2109\":114,\"2110\":102,\"2111\":126,\"2112\":150,\"2113\":60,\"2114\":123,\"2115\":138,\"2116\":29,\"2117\":111,\"2118\":37,\"2119\":111,\"2120\":81,\"2121\":46,\"2122\":69,\"2123\":125,\"2124\":43,\"2125\":127,\"2126\":94,\"2127\":46,\"2128\":73,\"2129\":146,\"2130\":93,\"2131\":52,\"2132\":202,\"2133\":129,\"2134\":94,\"2135\":100,\"2136\":43,\"2137\":130,\"2138\":124,\"2139\":92,\"2140\":48,\"2141\":98,\"2142\":100,\"2143\":79,\"2144\":164,\"2145\":105,\"2146\":89,\"2147\":126,\"2148\":96,\"2149\":120,\"2150\":212,\"2151\":72,\"2152\":155,\"2153\":89,\"2154\":126,\"2155\":172,\"2156\":75,\"2157\":143,\"2158\":166,\"2159\":132,\"2160\":94,\"2161\":99,\"2162\":136,\"2163\":119,\"2164\":115,\"2165\":160,\"2166\":166,\"2167\":120,\"2168\":173,\"2169\":156,\"2170\":70,\"2171\":41,\"2172\":132,\"2173\":47,\"2174\":160,\"2175\":180,\"2176\":93,\"2177\":109,\"2178\":80,\"2179\":54,\"2180\":121,\"2181\":157,\"2182\":170,\"2183\":138,\"2184\":92,\"2185\":126,\"2186\":41,\"2187\":167,\"2188\":91,\"2189\":127,\"2190\":88,\"2191\":113,\"2192\":78,\"2193\":123,\"2194\":136,\"2195\":68,\"2196\":132,\"2197\":133,\"2198\":127,\"2199\":110,\"2200\":121,\"2201\":116,\"2202\":112,\"2203\":97,\"2204\":43,\"2205\":110,\"2206\":67,\"2207\":166,\"2208\":129,\"2209\":103,\"2210\":71,\"2211\":112,\"2212\":8,\"2213\":98,\"2214\":90,\"2215\":13,\"2216\":58,\"2217\":137,\"2218\":116,\"2219\":94,\"2220\":87,\"2221\":120,\"2222\":97,\"2223\":134,\"2224\":68,\"2225\":93,\"2226\":120,\"2227\":41,\"2228\":80,\"2229\":83,\"2230\":109,\"2231\":66,\"2232\":104,\"2233\":89,\"2234\":127,\"2235\":117,\"2236\":128,\"2237\":88,\"2238\":61,\"2239\":22,\"2240\":78,\"2241\":56,\"2242\":192,\"2243\":70,\"2244\":148,\"2245\":65,\"2246\":119,\"2247\":80,\"2248\":152,\"2249\":113,\"2250\":75,\"2251\":80,\"2252\":148,\"2253\":63,\"2254\":97,\"2255\":166,\"2256\":94,\"2257\":85,\"2258\":80,\"2259\":210,\"2260\":88,\"2261\":100,\"2262\":154,\"2263\":32,\"2264\":18,\"2265\":126,\"2266\":144,\"2267\":29,\"2268\":86,\"2269\":138,\"2270\":146,\"2271\":175,\"2272\":74,\"2273\":48,\"2274\":74,\"2275\":105,\"2276\":157,\"2277\":217,\"2278\":68,\"2279\":80,\"2280\":38,\"2281\":107,\"2282\":140,\"2283\":98,\"2284\":114,\"2285\":46,\"2286\":118,\"2287\":37,\"2288\":34,\"2289\":98,\"2290\":113,\"2291\":69,\"2292\":121,\"2293\":59,\"2294\":59,\"2295\":190,\"2296\":109,\"2297\":136,\"2298\":86,\"2299\":100,\"2300\":106,\"2301\":104,\"2302\":129,\"2303\":205,\"2304\":93,\"2305\":123,\"2306\":99,\"2307\":61,\"2308\":71,\"2309\":4,\"2310\":148,\"2311\":141,\"2312\":56,\"2313\":160,\"2314\":43,\"2315\":42,\"2316\":135,\"2317\":106,\"2318\":106,\"2319\":83,\"2320\":110,\"2321\":153,\"2322\":109,\"2323\":31,\"2324\":124,\"2325\":110,\"2326\":124,\"2327\":82,\"2328\":122,\"2329\":137,\"2330\":69,\"2331\":46,\"2332\":103,\"2333\":16,\"2334\":119,\"2335\":124,\"2336\":122,\"2337\":139,\"2338\":67,\"2339\":84,\"2340\":101,\"2341\":40,\"2342\":61,\"2343\":120,\"2344\":95,\"2345\":98,\"2346\":114,\"2347\":68,\"2348\":149,\"2349\":22,\"2350\":176,\"2351\":152,\"2352\":118,\"2353\":101,\"2354\":102,\"2355\":118,\"2356\":105,\"2357\":153,\"2358\":71,\"2359\":71,\"2360\":68,\"2361\":66,\"2362\":101,\"2363\":116,\"2364\":54,\"2365\":112,\"2366\":122,\"2367\":74,\"2368\":90,\"2369\":112,\"2370\":85,\"2371\":100,\"2372\":114,\"2373\":83,\"2374\":157,\"2375\":51,\"2376\":42,\"2377\":101,\"2378\":112,\"2379\":56,\"2380\":53,\"2381\":64,\"2382\":123,\"2383\":68,\"2384\":40,\"2385\":132,\"2386\":120,\"2387\":108,\"2388\":161,\"2389\":130,\"2390\":122,\"2391\":130,\"2392\":90,\"2393\":139,\"2394\":57,\"2395\":128,\"2396\":127,\"2397\":107,\"2398\":177,\"2399\":121,\"2400\":99,\"2401\":126,\"2402\":77,\"2403\":21,\"2404\":56,\"2405\":92,\"2406\":81,\"2407\":139,\"2408\":68,\"2409\":183,\"2410\":90,\"2411\":165,\"2412\":89,\"2413\":59,\"2414\":16,\"2415\":114,\"2416\":113,\"2417\":120,\"2418\":115,\"2419\":37,\"2420\":100,\"2421\":132,\"2422\":38,\"2423\":1,\"2424\":97,\"2425\":55,\"2426\":75,\"2427\":83,\"2428\":40,\"2429\":101,\"2430\":120,\"2431\":183,\"2432\":75,\"2433\":80,\"2434\":88,\"2435\":112,\"2436\":63,\"2437\":105,\"2438\":92,\"2439\":177,\"2440\":118,\"2441\":111,\"2442\":82,\"2443\":74,\"2444\":121,\"2445\":131,\"2446\":125,\"2447\":19,\"2448\":138,\"2449\":119,\"2450\":137,\"2451\":182,\"2452\":135,\"2453\":134,\"2454\":45,\"2455\":129,\"2456\":142,\"2457\":130,\"2458\":163,\"2459\":105,\"2460\":119,\"2461\":78,\"2462\":92,\"2463\":146,\"2464\":125,\"2465\":88,\"2466\":83,\"2467\":3,\"2468\":152,\"2469\":48,\"2470\":189,\"2471\":95,\"2472\":129,\"2473\":66,\"2474\":80,\"2475\":1,\"2476\":84,\"2477\":96,\"2478\":123,\"2479\":116,\"2480\":105,\"2481\":80,\"2482\":157,\"2483\":67,\"2484\":141,\"2485\":79,\"2486\":76,\"2487\":111,\"2488\":94,\"2489\":143,\"2490\":109,\"2491\":138,\"2492\":73,\"2493\":21,\"2494\":148,\"2495\":103,\"2496\":143,\"2497\":79,\"2498\":89,\"2499\":120,\"2500\":121,\"2501\":101,\"2502\":115,\"2503\":168,\"2504\":90,\"2505\":70,\"2506\":138,\"2507\":43,\"2508\":117,\"2509\":108,\"2510\":118,\"2511\":169,\"2512\":62,\"2513\":86,\"2514\":44,\"2515\":111,\"2516\":127,\"2517\":151,\"2518\":53,\"2519\":15,\"2520\":123,\"2521\":137,\"2522\":106,\"2523\":88,\"2524\":106,\"2525\":95,\"2526\":57,\"2527\":184,\"2528\":109,\"2529\":127,\"2530\":82,\"2531\":180,\"2532\":174,\"2533\":92,\"2534\":81,\"2535\":125,\"2536\":119,\"2537\":122,\"2538\":34,\"2539\":138,\"2540\":90,\"2541\":73,\"2542\":19,\"2543\":120,\"2544\":160,\"2545\":141,\"2546\":90,\"2547\":72,\"2548\":117,\"2549\":79,\"2550\":87,\"2551\":102,\"2552\":49,\"2553\":67,\"2554\":107,\"2555\":190,\"2556\":118,\"2557\":120,\"2558\":94,\"2559\":115,\"2560\":61,\"2561\":143,\"2562\":110,\"2563\":104,\"2564\":16,\"2565\":183,\"2566\":147,\"2567\":58,\"2568\":102,\"2569\":123,\"2570\":64,\"2571\":103,\"2572\":152,\"2573\":124,\"2574\":97,\"2575\":131,\"2576\":57,\"2577\":157,\"2578\":194,\"2579\":66,\"2580\":155,\"2581\":123,\"2582\":116,\"2583\":63,\"2584\":64,\"2585\":96,\"2586\":53,\"2587\":105,\"2588\":53,\"2589\":101,\"2590\":129,\"2591\":122,\"2592\":163,\"2593\":93,\"2594\":115,\"2595\":25,\"2596\":73,\"2597\":120,\"2598\":196,\"2599\":97,\"2600\":148,\"2601\":85,\"2602\":86,\"2603\":78,\"2604\":106,\"2605\":147,\"2606\":145,\"2607\":91,\"2608\":81,\"2609\":116,\"2610\":69,\"2611\":135,\"2612\":73,\"2613\":48,\"2614\":125,\"2615\":100,\"2616\":165,\"2617\":64,\"2618\":116,\"2619\":147,\"2620\":115,\"2621\":84,\"2622\":86,\"2623\":134,\"2624\":105,\"2625\":88,\"2626\":90,\"2627\":86,\"2628\":37,\"2629\":141,\"2630\":148,\"2631\":163,\"2632\":89,\"2633\":63,\"2634\":102,\"2635\":76,\"2636\":104,\"2637\":109,\"2638\":105,\"2639\":63,\"2640\":105,\"2641\":68,\"2642\":63,\"2643\":74,\"2644\":76,\"2645\":91,\"2646\":101,\"2647\":116,\"2648\":131,\"2649\":84,\"2650\":104,\"2651\":108,\"2652\":111,\"2653\":155,\"2654\":66,\"2655\":64,\"2656\":69,\"2657\":116,\"2658\":101,\"2659\":15,\"2660\":88,\"2661\":197,\"2662\":50,\"2663\":172,\"2664\":188,\"2665\":85,\"2666\":103,\"2667\":136,\"2668\":155,\"2669\":145,\"2670\":116,\"2671\":152,\"2672\":65,\"2673\":180,\"2674\":67,\"2675\":60,\"2676\":138,\"2677\":44,\"2678\":25,\"2679\":145,\"2680\":122,\"2681\":121,\"2682\":55,\"2683\":77,\"2684\":12,\"2685\":64,\"2686\":92,\"2687\":125,\"2688\":160,\"2689\":79,\"2690\":36,\"2691\":102,\"2692\":138,\"2693\":164,\"2694\":125,\"2695\":72,\"2696\":74,\"2697\":134,\"2698\":145,\"2699\":136,\"2700\":209,\"2701\":66,\"2702\":152,\"2703\":162,\"2704\":72,\"2705\":101,\"2706\":125,\"2707\":46,\"2708\":132,\"2709\":193,\"2710\":63,\"2711\":124,\"2712\":144,\"2713\":116,\"2714\":189,\"2715\":97,\"2716\":137,\"2717\":142,\"2718\":84,\"2719\":119,\"2720\":158,\"2721\":50,\"2722\":98,\"2723\":101,\"2724\":182,\"2725\":51,\"2726\":117,\"2727\":92,\"2728\":86,\"2729\":122,\"2730\":156,\"2731\":127,\"2732\":130,\"2733\":158,\"2734\":145,\"2735\":90,\"2736\":127,\"2737\":109,\"2738\":88,\"2739\":101,\"2740\":171,\"2741\":21,\"2742\":145,\"2743\":90,\"2744\":33,\"2745\":61,\"2746\":107,\"2747\":147,\"2748\":117,\"2749\":95,\"2750\":186,\"2751\":128,\"2752\":55,\"2753\":134,\"2754\":96,\"2755\":107,\"2756\":123,\"2757\":35,\"2758\":74,\"2759\":130,\"2760\":137,\"2761\":88,\"2762\":80,\"2763\":116,\"2764\":123,\"2765\":120,\"2766\":146,\"2767\":106,\"2768\":121,\"2769\":137,\"2770\":84,\"2771\":67,\"2772\":161,\"2773\":134,\"2774\":62,\"2775\":120,\"2776\":130,\"2777\":20,\"2778\":68,\"2779\":112,\"2780\":77,\"2781\":109,\"2782\":108,\"2783\":79,\"2784\":119,\"2785\":38,\"2786\":109,\"2787\":78,\"2788\":134,\"2789\":47,\"2790\":59,\"2791\":151,\"2792\":129,\"2793\":107,\"2794\":137,\"2795\":76,\"2796\":24,\"2797\":169,\"2798\":30,\"2799\":70,\"2800\":52,\"2801\":3,\"2802\":38,\"2803\":104,\"2804\":27,\"2805\":166,\"2806\":13,\"2807\":52,\"2808\":114,\"2809\":156,\"2810\":90,\"2811\":62,\"2812\":82,\"2813\":52,\"2814\":146,\"2815\":120,\"2816\":130,\"2817\":90,\"2818\":147,\"2819\":159,\"2820\":74,\"2821\":130,\"2822\":155,\"2823\":87,\"2824\":81,\"2825\":99,\"2826\":131,\"2827\":89,\"2828\":123,\"2829\":130,\"2830\":99,\"2831\":36,\"2832\":87,\"2833\":139,\"2834\":189,\"2835\":96,\"2836\":112,\"2837\":75,\"2838\":178,\"2839\":112,\"2840\":108,\"2841\":100,\"2842\":121,\"2843\":116,\"2844\":161,\"2845\":19,\"2846\":104,\"2847\":119,\"2848\":125,\"2849\":156,\"2850\":109,\"2851\":95,\"2852\":90,\"2853\":105,\"2854\":101,\"2855\":95,\"2856\":123,\"2857\":160,\"2858\":141,\"2859\":87,\"2860\":81,\"2861\":75,\"2862\":126,\"2863\":28,\"2864\":153,\"2865\":97,\"2866\":115,\"2867\":95,\"2868\":17,\"2869\":105,\"2870\":121,\"2871\":125,\"2872\":124,\"2873\":35,\"2874\":134,\"2875\":123,\"2876\":124,\"2877\":133,\"2878\":185,\"2879\":1,\"2880\":107,\"2881\":91,\"2882\":178,\"2883\":123,\"2884\":170,\"2885\":135,\"2886\":85,\"2887\":134,\"2888\":148,\"2889\":93,\"2890\":138,\"2891\":159,\"2892\":103,\"2893\":150,\"2894\":37,\"2895\":33,\"2896\":55,\"2897\":134,\"2898\":107,\"2899\":80,\"2900\":78,\"2901\":85,\"2902\":61,\"2903\":97,\"2904\":136,\"2905\":135,\"2906\":87,\"2907\":165,\"2908\":148,\"2909\":99,\"2910\":123,\"2911\":127,\"2912\":151,\"2913\":185,\"2914\":65,\"2915\":58,\"2916\":104,\"2917\":44,\"2918\":58,\"2919\":108,\"2920\":132,\"2921\":80,\"2922\":162,\"2923\":110,\"2924\":96,\"2925\":168,\"2926\":72,\"2927\":125,\"2928\":170,\"2929\":71,\"2930\":124,\"2931\":68,\"2932\":97,\"2933\":98,\"2934\":24,\"2935\":136,\"2936\":44,\"2937\":96,\"2938\":31,\"2939\":72,\"2940\":24,\"2941\":112,\"2942\":117,\"2943\":137,\"2944\":136,\"2945\":95,\"2946\":82,\"2947\":145,\"2948\":56,\"2949\":155,\"2950\":133,\"2951\":53,\"2952\":123,\"2953\":136,\"2954\":57,\"2955\":62,\"2956\":112,\"2957\":55,\"2958\":95,\"2959\":125,\"2960\":1,\"2961\":98,\"2962\":105,\"2963\":113,\"2964\":99,\"2965\":103,\"2966\":177,\"2967\":149,\"2968\":160,\"2969\":116,\"2970\":90,\"2971\":148,\"2972\":147,\"2973\":95,\"2974\":201,\"2975\":80,\"2976\":122,\"2977\":132,\"2978\":83,\"2979\":99,\"2980\":84,\"2981\":46,\"2982\":87,\"2983\":150,\"2984\":73,\"2985\":7,\"2986\":89,\"2987\":131,\"2988\":105,\"2989\":108,\"2990\":47,\"2991\":101,\"2992\":182,\"2993\":161,\"2994\":128,\"2995\":69,\"2996\":113,\"2997\":87,\"2998\":71,\"2999\":76,\"3000\":87,\"3001\":117,\"3002\":177,\"3003\":95,\"3004\":76,\"3005\":66,\"3006\":110,\"3007\":204,\"3008\":32,\"3009\":133,\"3010\":185,\"3011\":103,\"3012\":91,\"3013\":131,\"3014\":153,\"3015\":132,\"3016\":148,\"3017\":141,\"3018\":105,\"3019\":169,\"3020\":127,\"3021\":57,\"3022\":123,\"3023\":103,\"3024\":101,\"3025\":123,\"3026\":78,\"3027\":101,\"3028\":129,\"3029\":67,\"3030\":37,\"3031\":64,\"3032\":173,\"3033\":135,\"3034\":75,\"3035\":88,\"3036\":112,\"3037\":113,\"3038\":121,\"3039\":70,\"3040\":90,\"3041\":39,\"3042\":142,\"3043\":176,\"3044\":105,\"3045\":57,\"3046\":110,\"3047\":88,\"3048\":95,\"3049\":147,\"3050\":101,\"3051\":115,\"3052\":103,\"3053\":82,\"3054\":141,\"3055\":149,\"3056\":131,\"3057\":119,\"3058\":112,\"3059\":116,\"3060\":94,\"3061\":90,\"3062\":114,\"3063\":63,\"3064\":130,\"3065\":122,\"3066\":166,\"3067\":62,\"3068\":78,\"3069\":148,\"3070\":154,\"3071\":110,\"3072\":75,\"3073\":84,\"3074\":113,\"3075\":181,\"3076\":51,\"3077\":102,\"3078\":107,\"3079\":88,\"3080\":82,\"3081\":204,\"3082\":130,\"3083\":174,\"3084\":129,\"3085\":190,\"3086\":54,\"3087\":78,\"3088\":100,\"3089\":70,\"3090\":111,\"3091\":117,\"3092\":68,\"3093\":27,\"3094\":91,\"3095\":181,\"3096\":118,\"3097\":112,\"3098\":93,\"3099\":102,\"3100\":93,\"3101\":107,\"3102\":100,\"3103\":115,\"3104\":63,\"3105\":57,\"3106\":119,\"3107\":73,\"3108\":98,\"3109\":139,\"3110\":31,\"3111\":129,\"3112\":115,\"3113\":108,\"3114\":139,\"3115\":102,\"3116\":149,\"3117\":113,\"3118\":131,\"3119\":83,\"3120\":96,\"3121\":98,\"3122\":3,\"3123\":77,\"3124\":75,\"3125\":40,\"3126\":108,\"3127\":100,\"3128\":16,\"3129\":115,\"3130\":108,\"3131\":107,\"3132\":161,\"3133\":147,\"3134\":107,\"3135\":120,\"3136\":107,\"3137\":58,\"3138\":91,\"3139\":13,\"3140\":104,\"3141\":93,\"3142\":95,\"3143\":104,\"3144\":35,\"3145\":62,\"3146\":143,\"3147\":62,\"3148\":60,\"3149\":41,\"3150\":34,\"3151\":56,\"3152\":183,\"3153\":94,\"3154\":73,\"3155\":123,\"3156\":64,\"3157\":127,\"3158\":33,\"3159\":27,\"3160\":123,\"3161\":148,\"3162\":81,\"3163\":122,\"3164\":52,\"3165\":91,\"3166\":54,\"3167\":152,\"3168\":201,\"3169\":78,\"3170\":67,\"3171\":100,\"3172\":41,\"3173\":133,\"3174\":36,\"3175\":51,\"3176\":122,\"3177\":84,\"3178\":91,\"3179\":110,\"3180\":91,\"3181\":121,\"3182\":109,\"3183\":95,\"3184\":72,\"3185\":73,\"3186\":108,\"3187\":58,\"3188\":148,\"3189\":76,\"3190\":103,\"3191\":87,\"3192\":35,\"3193\":88,\"3194\":67,\"3195\":77,\"3196\":124,\"3197\":30,\"3198\":53,\"3199\":152,\"3200\":100,\"3201\":59,\"3202\":143,\"3203\":142,\"3204\":105,\"3205\":111,\"3206\":143,\"3207\":93,\"3208\":79,\"3209\":68,\"3210\":93,\"3211\":103,\"3212\":144,\"3213\":93,\"3214\":149,\"3215\":23,\"3216\":221,\"3217\":164,\"3218\":104,\"3219\":150,\"3220\":184,\"3221\":88,\"3222\":61,\"3223\":110,\"3224\":115,\"3225\":33,\"3226\":100,\"3227\":209,\"3228\":27,\"3229\":117,\"3230\":87,\"3231\":129,\"3232\":142,\"3233\":112,\"3234\":75,\"3235\":97,\"3236\":121,\"3237\":142,\"3238\":121,\"3239\":87,\"3240\":34,\"3241\":177,\"3242\":58,\"3243\":113,\"3244\":101,\"3245\":89,\"3246\":77,\"3247\":146,\"3248\":93,\"3249\":160,\"3250\":55,\"3251\":88,\"3252\":63,\"3253\":127,\"3254\":57,\"3255\":138,\"3256\":115,\"3257\":171,\"3258\":148,\"3259\":127,\"3260\":61,\"3261\":131,\"3262\":88,\"3263\":130,\"3264\":89,\"3265\":82,\"3266\":138,\"3267\":115,\"3268\":84,\"3269\":117,\"3270\":60,\"3271\":62,\"3272\":133,\"3273\":131,\"3274\":65,\"3275\":120,\"3276\":142,\"3277\":134,\"3278\":87,\"3279\":139,\"3280\":76,\"3281\":100,\"3282\":99,\"3283\":99,\"3284\":48,\"3285\":57,\"3286\":106,\"3287\":170,\"3288\":78,\"3289\":39,\"3290\":127,\"3291\":119,\"3292\":114,\"3293\":95,\"3294\":116,\"3295\":110,\"3296\":74,\"3297\":148,\"3298\":83,\"3299\":73,\"3300\":111,\"3301\":84,\"3302\":75,\"3303\":114,\"3304\":71,\"3305\":58,\"3306\":106,\"3307\":172,\"3308\":45,\"3309\":100,\"3310\":94,\"3311\":128,\"3312\":181,\"3313\":127,\"3314\":89,\"3315\":149,\"3316\":103,\"3317\":163,\"3318\":52,\"3319\":89,\"3320\":122,\"3321\":60,\"3322\":62,\"3323\":117,\"3324\":159,\"3325\":78,\"3326\":96,\"3327\":79,\"3328\":192,\"3329\":68,\"3330\":28,\"3331\":184,\"3332\":74},\"Area code\":{\"0\":415,\"1\":415,\"2\":415,\"3\":408,\"4\":415,\"5\":510,\"7\":415,\"8\":408,\"9\":415,\"10\":415,\"11\":415,\"23\":415,\"24\":510,\"25\":415,\"26\":408,\"27\":408,\"28\":415,\"30\":415,\"39\":408,\"40\":408,\"41\":408,\"42\":510,\"43\":415,\"44\":510,\"45\":408,\"46\":415,\"47\":408,\"48\":415,\"49\":415,\"50\":408,\"51\":408,\"52\":408,\"53\":415,\"54\":415,\"55\":408,\"56\":415,\"57\":408,\"58\":415,\"59\":408,\"60\":408,\"61\":415,\"62\":510,\"63\":408,\"64\":408,\"65\":415,\"66\":415,\"67\":408,\"68\":408,\"69\":510,\"70\":408,\"71\":510,\"72\":510,\"73\":415,\"74\":415,\"75\":415,\"76\":415,\"77\":408,\"78\":415,\"79\":408,\"80\":415,\"81\":415,\"82\":408,\"83\":415,\"84\":510,\"85\":510,\"86\":408,\"87\":510,\"88\":415,\"89\":415,\"90\":510,\"91\":415,\"92\":415,\"93\":415,\"94\":415,\"95\":408,\"96\":415,\"97\":415,\"98\":408,\"99\":415,\"100\":510,\"101\":415,\"102\":415,\"103\":408,\"104\":408,\"105\":408,\"106\":510,\"107\":510,\"108\":415,\"109\":408,\"110\":408,\"111\":415,\"112\":408,\"113\":408,\"114\":415,\"115\":510,\"116\":510,\"117\":415,\"118\":510,\"119\":408,\"120\":408,\"121\":408,\"122\":510,\"123\":415,\"124\":510,\"125\":408,\"126\":415,\"127\":510,\"128\":408,\"129\":408,\"130\":415,\"131\":408,\"132\":415,\"133\":408,\"134\":408,\"135\":510,\"136\":415,\"137\":510,\"143\":510,\"144\":408,\"145\":415,\"146\":408,\"147\":408,\"148\":408,\"149\":408,\"150\":408,\"151\":415,\"152\":408,\"153\":415,\"154\":415,\"155\":408,\"156\":415,\"157\":510,\"158\":510,\"159\":510,\"160\":415,\"161\":415,\"162\":510,\"163\":415,\"164\":415,\"165\":415,\"166\":510,\"167\":415,\"168\":408,\"169\":510,\"170\":408,\"171\":408,\"172\":415,\"173\":415,\"174\":408,\"175\":415,\"176\":415,\"177\":415,\"178\":408,\"179\":408,\"180\":510,\"181\":415,\"182\":408,\"183\":408,\"184\":510,\"185\":415,\"186\":408,\"187\":415,\"188\":510,\"189\":408,\"190\":415,\"191\":415,\"192\":408,\"193\":415,\"194\":408,\"195\":415,\"196\":415,\"197\":510,\"198\":510,\"199\":408,\"200\":415,\"201\":408,\"202\":415,\"203\":510,\"204\":415,\"205\":415,\"206\":415,\"207\":415,\"208\":510,\"209\":510,\"210\":415,\"211\":510,\"212\":415,\"213\":408,\"214\":510,\"215\":415,\"216\":415,\"217\":415,\"218\":415,\"219\":415,\"220\":415,\"221\":408,\"222\":415,\"223\":408,\"224\":408,\"225\":415,\"226\":415,\"227\":408,\"228\":415,\"229\":415,\"230\":408,\"231\":415,\"232\":415,\"233\":415,\"234\":415,\"235\":510,\"236\":408,\"237\":408,\"238\":510,\"239\":415,\"240\":510,\"241\":415,\"242\":415,\"243\":408,\"244\":408,\"245\":408,\"246\":415,\"247\":510,\"248\":408,\"249\":510,\"250\":415,\"251\":415,\"252\":408,\"253\":510,\"254\":415,\"255\":408,\"256\":510,\"257\":415,\"258\":408,\"259\":510,\"260\":510,\"261\":408,\"262\":415,\"263\":510,\"264\":408,\"265\":510,\"266\":510,\"267\":408,\"268\":510,\"269\":408,\"270\":415,\"271\":415,\"272\":415,\"273\":415,\"274\":408,\"275\":415,\"276\":510,\"277\":408,\"278\":415,\"279\":510,\"280\":415,\"281\":415,\"282\":415,\"283\":415,\"284\":415,\"285\":408,\"286\":510,\"287\":408,\"288\":510,\"289\":510,\"290\":415,\"291\":510,\"292\":510,\"293\":415,\"294\":510,\"295\":510,\"296\":415,\"297\":415,\"298\":415,\"299\":415,\"300\":415,\"301\":415,\"302\":408,\"303\":415,\"304\":510,\"305\":415,\"306\":415,\"307\":408,\"308\":510,\"309\":415,\"310\":415,\"311\":415,\"312\":510,\"313\":408,\"314\":408,\"315\":408,\"316\":415,\"317\":415,\"318\":510,\"319\":510,\"320\":510,\"321\":415,\"322\":408,\"323\":415,\"324\":408,\"325\":510,\"326\":408,\"327\":408,\"328\":510,\"329\":510,\"330\":510,\"331\":415,\"332\":415,\"333\":510,\"334\":510,\"335\":408,\"336\":510,\"337\":415,\"338\":510,\"339\":408,\"340\":415,\"341\":415,\"342\":415,\"343\":408,\"344\":510,\"345\":415,\"346\":415,\"347\":510,\"348\":415,\"349\":510,\"350\":510,\"351\":415,\"352\":408,\"353\":415,\"354\":408,\"355\":415,\"356\":408,\"357\":408,\"358\":408,\"359\":408,\"360\":408,\"361\":415,\"362\":415,\"363\":408,\"364\":408,\"365\":415,\"366\":415,\"367\":415,\"368\":415,\"369\":415,\"370\":415,\"371\":408,\"372\":415,\"373\":415,\"374\":415,\"375\":415,\"376\":415,\"377\":408,\"378\":415,\"379\":415,\"380\":510,\"381\":415,\"382\":415,\"383\":415,\"384\":408,\"385\":415,\"386\":415,\"387\":510,\"388\":415,\"389\":510,\"390\":415,\"391\":415,\"392\":415,\"393\":510,\"394\":510,\"395\":415,\"396\":408,\"397\":415,\"398\":510,\"399\":415,\"400\":415,\"401\":415,\"402\":408,\"403\":510,\"404\":415,\"405\":415,\"406\":415,\"407\":510,\"408\":510,\"409\":415,\"410\":408,\"411\":415,\"412\":415,\"413\":415,\"414\":415,\"415\":415,\"416\":510,\"417\":408,\"418\":408,\"419\":415,\"420\":415,\"421\":510,\"422\":415,\"423\":415,\"424\":415,\"425\":510,\"426\":415,\"427\":415,\"428\":408,\"429\":510,\"430\":510,\"431\":415,\"432\":510,\"433\":415,\"434\":408,\"435\":510,\"436\":415,\"437\":510,\"438\":510,\"439\":415,\"440\":510,\"441\":408,\"442\":510,\"443\":510,\"444\":408,\"445\":510,\"446\":510,\"447\":510,\"448\":415,\"449\":510,\"450\":408,\"451\":408,\"452\":510,\"453\":415,\"454\":408,\"455\":415,\"456\":415,\"457\":408,\"458\":415,\"459\":415,\"460\":415,\"461\":408,\"462\":415,\"463\":408,\"464\":415,\"465\":415,\"466\":510,\"467\":415,\"468\":415,\"469\":510,\"470\":415,\"471\":408,\"472\":408,\"473\":510,\"474\":415,\"475\":510,\"476\":510,\"477\":510,\"478\":408,\"479\":408,\"480\":408,\"481\":408,\"482\":415,\"483\":510,\"484\":510,\"485\":415,\"486\":510,\"487\":415,\"488\":510,\"489\":415,\"490\":415,\"491\":415,\"492\":415,\"493\":415,\"494\":408,\"495\":415,\"496\":415,\"497\":415,\"498\":408,\"499\":415,\"500\":415,\"501\":415,\"502\":415,\"503\":415,\"504\":510,\"505\":415,\"506\":415,\"507\":415,\"508\":408,\"509\":415,\"510\":408,\"511\":415,\"512\":408,\"513\":415,\"514\":408,\"515\":510,\"516\":510,\"517\":408,\"518\":415,\"519\":408,\"520\":415,\"521\":510,\"522\":408,\"523\":408,\"524\":510,\"525\":408,\"526\":510,\"527\":415,\"528\":415,\"529\":510,\"530\":415,\"531\":415,\"532\":415,\"533\":415,\"534\":510,\"535\":408,\"536\":415,\"537\":415,\"538\":415,\"539\":408,\"540\":408,\"541\":415,\"542\":415,\"543\":415,\"544\":510,\"545\":510,\"546\":510,\"547\":510,\"548\":415,\"549\":408,\"550\":415,\"551\":415,\"552\":510,\"553\":510,\"554\":415,\"555\":415,\"556\":408,\"557\":408,\"558\":408,\"559\":415,\"560\":415,\"561\":408,\"562\":408,\"563\":415,\"564\":415,\"565\":510,\"566\":510,\"567\":510,\"568\":510,\"569\":408,\"570\":510,\"571\":415,\"572\":415,\"573\":408,\"574\":510,\"575\":415,\"576\":415,\"577\":408,\"578\":408,\"579\":408,\"580\":415,\"581\":415,\"582\":415,\"583\":408,\"584\":510,\"585\":408,\"586\":408,\"587\":415,\"588\":408,\"589\":408,\"590\":408,\"591\":408,\"592\":510,\"593\":510,\"594\":415,\"595\":408,\"596\":510,\"597\":408,\"598\":415,\"599\":510,\"600\":510,\"601\":415,\"602\":510,\"603\":415,\"604\":415,\"605\":415,\"606\":415,\"607\":415,\"608\":415,\"609\":415,\"610\":510,\"611\":415,\"612\":510,\"613\":415,\"614\":408,\"615\":510,\"616\":408,\"617\":510,\"618\":510,\"619\":415,\"620\":415,\"621\":510,\"622\":408,\"623\":415,\"624\":415,\"625\":510,\"626\":408,\"627\":510,\"628\":415,\"629\":415,\"630\":408,\"631\":415,\"632\":408,\"633\":415,\"634\":408,\"635\":510,\"636\":408,\"637\":408,\"638\":415,\"639\":415,\"640\":415,\"641\":408,\"642\":415,\"643\":415,\"644\":510,\"645\":415,\"646\":408,\"647\":415,\"648\":415,\"649\":408,\"650\":415,\"651\":408,\"652\":415,\"653\":415,\"654\":510,\"655\":510,\"656\":415,\"657\":415,\"658\":415,\"659\":415,\"660\":408,\"661\":408,\"662\":415,\"663\":415,\"664\":408,\"665\":415,\"666\":415,\"667\":510,\"668\":415,\"669\":415,\"670\":408,\"671\":415,\"672\":408,\"673\":408,\"674\":415,\"675\":415,\"676\":408,\"677\":408,\"678\":510,\"679\":415,\"680\":510,\"681\":415,\"682\":415,\"683\":408,\"684\":408,\"685\":415,\"686\":415,\"687\":510,\"688\":510,\"689\":415,\"690\":415,\"691\":510,\"692\":408,\"693\":510,\"694\":510,\"695\":415,\"696\":415,\"697\":408,\"698\":415,\"699\":415,\"700\":415,\"701\":415,\"702\":415,\"703\":510,\"704\":510,\"705\":415,\"706\":415,\"707\":510,\"708\":415,\"709\":510,\"710\":510,\"711\":510,\"712\":415,\"713\":415,\"714\":415,\"715\":510,\"716\":408,\"717\":415,\"718\":408,\"719\":510,\"720\":415,\"721\":510,\"722\":415,\"723\":510,\"724\":510,\"725\":510,\"726\":408,\"727\":415,\"728\":510,\"729\":415,\"730\":510,\"731\":415,\"732\":510,\"733\":408,\"734\":415,\"735\":415,\"736\":415,\"737\":415,\"738\":510,\"739\":510,\"740\":510,\"741\":415,\"742\":415,\"743\":408,\"744\":415,\"745\":415,\"746\":415,\"747\":510,\"748\":408,\"749\":510,\"750\":415,\"751\":415,\"752\":510,\"753\":415,\"754\":415,\"755\":415,\"756\":415,\"757\":415,\"758\":510,\"759\":415,\"760\":510,\"761\":408,\"762\":415,\"763\":415,\"764\":415,\"765\":415,\"766\":415,\"767\":415,\"768\":415,\"769\":415,\"770\":415,\"771\":415,\"772\":510,\"773\":408,\"774\":415,\"775\":510,\"776\":415,\"777\":510,\"778\":415,\"779\":408,\"780\":510,\"781\":415,\"782\":510,\"783\":408,\"784\":415,\"785\":415,\"786\":408,\"787\":408,\"788\":415,\"789\":510,\"790\":415,\"791\":415,\"792\":510,\"793\":408,\"794\":408,\"795\":415,\"796\":415,\"797\":408,\"798\":415,\"799\":415,\"800\":415,\"801\":510,\"802\":510,\"803\":408,\"804\":415,\"805\":408,\"806\":408,\"807\":415,\"808\":510,\"809\":510,\"810\":510,\"811\":510,\"812\":510,\"813\":510,\"814\":510,\"815\":415,\"816\":510,\"817\":510,\"818\":408,\"819\":415,\"820\":510,\"821\":415,\"822\":415,\"823\":510,\"824\":510,\"825\":415,\"826\":510,\"827\":415,\"828\":415,\"829\":510,\"830\":408,\"831\":415,\"832\":408,\"833\":510,\"834\":415,\"835\":510,\"836\":415,\"837\":510,\"838\":510,\"839\":415,\"840\":408,\"841\":415,\"842\":415,\"843\":408,\"844\":408,\"845\":415,\"846\":415,\"847\":415,\"848\":408,\"849\":415,\"850\":408,\"851\":408,\"852\":510,\"853\":415,\"854\":415,\"855\":510,\"856\":408,\"857\":415,\"858\":415,\"859\":408,\"860\":415,\"861\":415,\"862\":510,\"863\":408,\"864\":510,\"865\":415,\"866\":415,\"867\":510,\"868\":408,\"869\":510,\"870\":408,\"871\":510,\"872\":510,\"873\":408,\"874\":415,\"875\":415,\"876\":415,\"877\":415,\"878\":415,\"879\":510,\"880\":408,\"881\":510,\"882\":415,\"883\":408,\"884\":415,\"885\":408,\"886\":510,\"887\":408,\"888\":415,\"889\":415,\"890\":415,\"891\":510,\"892\":415,\"893\":415,\"894\":510,\"895\":415,\"896\":415,\"897\":408,\"898\":415,\"899\":415,\"900\":510,\"901\":510,\"902\":510,\"903\":415,\"904\":415,\"905\":415,\"906\":408,\"907\":415,\"908\":408,\"909\":415,\"910\":415,\"911\":415,\"912\":510,\"913\":408,\"914\":510,\"915\":408,\"916\":415,\"917\":415,\"918\":408,\"919\":415,\"920\":510,\"921\":415,\"922\":415,\"923\":415,\"924\":408,\"925\":415,\"926\":415,\"927\":415,\"928\":510,\"929\":415,\"930\":415,\"931\":510,\"932\":415,\"933\":510,\"934\":408,\"935\":408,\"936\":510,\"937\":415,\"938\":415,\"939\":408,\"940\":415,\"941\":510,\"942\":415,\"943\":510,\"944\":415,\"945\":415,\"946\":408,\"947\":415,\"948\":408,\"949\":408,\"950\":415,\"951\":415,\"952\":415,\"953\":415,\"954\":510,\"955\":415,\"956\":415,\"957\":415,\"958\":510,\"959\":408,\"960\":415,\"961\":408,\"962\":415,\"963\":415,\"964\":408,\"965\":415,\"966\":510,\"967\":408,\"968\":408,\"969\":415,\"970\":415,\"971\":415,\"972\":415,\"973\":408,\"974\":510,\"975\":510,\"976\":415,\"977\":408,\"978\":415,\"979\":415,\"980\":510,\"981\":408,\"982\":415,\"983\":510,\"984\":415,\"985\":415,\"986\":415,\"987\":415,\"988\":510,\"989\":408,\"990\":415,\"991\":415,\"992\":510,\"993\":510,\"994\":510,\"995\":510,\"996\":510,\"997\":415,\"998\":510,\"999\":415,\"1000\":408,\"1001\":415,\"1002\":408,\"1003\":510,\"1004\":415,\"1005\":510,\"1006\":415,\"1007\":408,\"1008\":415,\"1009\":415,\"1010\":510,\"1011\":415,\"1012\":415,\"1013\":415,\"1014\":415,\"1015\":415,\"1016\":415,\"1017\":415,\"1018\":415,\"1019\":415,\"1020\":415,\"1021\":408,\"1022\":510,\"1023\":510,\"1024\":510,\"1025\":415,\"1026\":415,\"1027\":510,\"1028\":415,\"1029\":510,\"1030\":415,\"1031\":415,\"1032\":510,\"1033\":408,\"1034\":408,\"1035\":510,\"1036\":408,\"1037\":510,\"1038\":415,\"1039\":415,\"1040\":510,\"1041\":510,\"1042\":510,\"1043\":415,\"1044\":510,\"1045\":408,\"1046\":510,\"1047\":415,\"1048\":510,\"1049\":510,\"1050\":510,\"1051\":415,\"1052\":415,\"1053\":408,\"1054\":408,\"1055\":415,\"1056\":408,\"1057\":415,\"1058\":510,\"1059\":415,\"1060\":510,\"1061\":415,\"1062\":415,\"1063\":510,\"1064\":415,\"1065\":415,\"1066\":510,\"1067\":408,\"1068\":415,\"1069\":510,\"1070\":415,\"1071\":408,\"1072\":408,\"1073\":510,\"1074\":415,\"1075\":408,\"1076\":415,\"1077\":415,\"1078\":408,\"1079\":408,\"1080\":415,\"1081\":408,\"1082\":415,\"1083\":510,\"1084\":415,\"1085\":408,\"1086\":408,\"1087\":408,\"1088\":510,\"1089\":510,\"1090\":510,\"1091\":510,\"1092\":408,\"1093\":408,\"1094\":415,\"1095\":510,\"1096\":415,\"1097\":415,\"1098\":510,\"1099\":415,\"1100\":415,\"1101\":510,\"1102\":510,\"1103\":415,\"1104\":415,\"1105\":510,\"1106\":510,\"1107\":415,\"1108\":510,\"1109\":415,\"1110\":415,\"1111\":510,\"1112\":408,\"1113\":415,\"1114\":408,\"1115\":408,\"1116\":415,\"1117\":408,\"1118\":415,\"1119\":415,\"1120\":415,\"1121\":415,\"1122\":415,\"1123\":408,\"1124\":415,\"1125\":408,\"1126\":408,\"1127\":415,\"1128\":415,\"1129\":415,\"1130\":415,\"1131\":408,\"1132\":415,\"1133\":408,\"1134\":408,\"1135\":415,\"1136\":415,\"1137\":510,\"1138\":408,\"1139\":510,\"1140\":415,\"1141\":415,\"1142\":415,\"1143\":415,\"1144\":408,\"1145\":415,\"1146\":415,\"1147\":408,\"1148\":415,\"1149\":415,\"1150\":415,\"1151\":408,\"1152\":408,\"1153\":408,\"1154\":408,\"1155\":415,\"1156\":415,\"1157\":408,\"1158\":415,\"1159\":415,\"1160\":408,\"1161\":510,\"1162\":510,\"1163\":510,\"1164\":408,\"1165\":415,\"1166\":415,\"1167\":510,\"1168\":408,\"1169\":510,\"1170\":415,\"1171\":408,\"1172\":415,\"1173\":408,\"1174\":408,\"1175\":415,\"1176\":415,\"1177\":415,\"1178\":415,\"1179\":408,\"1180\":415,\"1181\":510,\"1182\":408,\"1183\":510,\"1184\":510,\"1185\":415,\"1186\":415,\"1187\":415,\"1188\":415,\"1189\":408,\"1190\":415,\"1191\":408,\"1192\":415,\"1193\":415,\"1194\":510,\"1195\":415,\"1196\":510,\"1197\":415,\"1198\":510,\"1199\":415,\"1200\":415,\"1201\":415,\"1202\":415,\"1203\":408,\"1204\":415,\"1205\":415,\"1206\":510,\"1207\":510,\"1208\":415,\"1209\":510,\"1210\":408,\"1211\":408,\"1212\":415,\"1213\":415,\"1214\":415,\"1215\":510,\"1216\":415,\"1217\":408,\"1218\":415,\"1219\":510,\"1220\":510,\"1221\":415,\"1222\":415,\"1223\":415,\"1224\":415,\"1225\":415,\"1226\":510,\"1227\":510,\"1228\":510,\"1229\":408,\"1230\":510,\"1231\":408,\"1232\":510,\"1233\":510,\"1234\":408,\"1235\":510,\"1236\":510,\"1237\":510,\"1238\":415,\"1239\":415,\"1240\":510,\"1241\":510,\"1242\":510,\"1243\":415,\"1244\":408,\"1245\":415,\"1246\":415,\"1247\":415,\"1248\":415,\"1249\":510,\"1250\":415,\"1251\":415,\"1252\":510,\"1253\":415,\"1254\":510,\"1255\":415,\"1256\":415,\"1257\":415,\"1258\":510,\"1259\":408,\"1260\":415,\"1261\":510,\"1262\":415,\"1263\":408,\"1264\":408,\"1265\":415,\"1266\":415,\"1267\":415,\"1268\":415,\"1269\":510,\"1270\":415,\"1271\":408,\"1272\":408,\"1273\":415,\"1274\":510,\"1275\":510,\"1276\":415,\"1277\":415,\"1278\":408,\"1279\":510,\"1280\":510,\"1281\":408,\"1282\":415,\"1283\":415,\"1284\":415,\"1285\":415,\"1286\":415,\"1287\":408,\"1288\":510,\"1289\":408,\"1290\":408,\"1291\":415,\"1292\":415,\"1293\":415,\"1294\":408,\"1295\":408,\"1296\":415,\"1297\":415,\"1298\":510,\"1299\":415,\"1300\":510,\"1301\":415,\"1302\":408,\"1303\":415,\"1304\":510,\"1305\":415,\"1306\":415,\"1307\":510,\"1308\":415,\"1309\":415,\"1310\":510,\"1311\":415,\"1312\":415,\"1313\":415,\"1314\":510,\"1315\":415,\"1316\":510,\"1317\":415,\"1318\":408,\"1319\":415,\"1320\":415,\"1321\":408,\"1322\":415,\"1323\":510,\"1324\":415,\"1325\":510,\"1326\":408,\"1327\":415,\"1328\":510,\"1329\":415,\"1330\":408,\"1331\":408,\"1332\":415,\"1333\":408,\"1334\":408,\"1335\":415,\"1336\":415,\"1337\":510,\"1338\":415,\"1339\":415,\"1340\":408,\"1341\":415,\"1342\":415,\"1343\":510,\"1344\":415,\"1345\":415,\"1346\":408,\"1347\":408,\"1348\":408,\"1349\":510,\"1350\":408,\"1351\":415,\"1352\":415,\"1353\":408,\"1354\":408,\"1355\":408,\"1356\":415,\"1357\":408,\"1358\":510,\"1359\":415,\"1360\":415,\"1361\":415,\"1362\":510,\"1363\":415,\"1364\":415,\"1365\":408,\"1366\":415,\"1367\":415,\"1368\":408,\"1369\":415,\"1370\":510,\"1371\":415,\"1372\":408,\"1373\":415,\"1374\":408,\"1375\":415,\"1376\":415,\"1377\":415,\"1378\":415,\"1379\":415,\"1380\":415,\"1381\":510,\"1382\":415,\"1383\":415,\"1384\":408,\"1385\":510,\"1386\":415,\"1387\":415,\"1388\":415,\"1389\":510,\"1390\":510,\"1391\":510,\"1392\":415,\"1393\":415,\"1394\":510,\"1395\":415,\"1396\":415,\"1397\":510,\"1398\":408,\"1399\":408,\"1400\":415,\"1401\":408,\"1402\":415,\"1403\":510,\"1404\":510,\"1405\":510,\"1406\":415,\"1407\":415,\"1408\":408,\"1409\":415,\"1410\":408,\"1411\":510,\"1412\":415,\"1413\":408,\"1414\":415,\"1415\":510,\"1416\":510,\"1417\":408,\"1418\":415,\"1419\":415,\"1420\":415,\"1421\":415,\"1422\":510,\"1423\":415,\"1424\":408,\"1425\":510,\"1426\":415,\"1427\":415,\"1428\":415,\"1429\":510,\"1430\":415,\"1431\":510,\"1432\":415,\"1433\":510,\"1434\":408,\"1435\":415,\"1436\":510,\"1437\":415,\"1438\":510,\"1439\":415,\"1440\":408,\"1441\":408,\"1442\":510,\"1443\":415,\"1444\":415,\"1445\":510,\"1446\":415,\"1447\":415,\"1448\":415,\"1449\":415,\"1450\":408,\"1451\":415,\"1452\":510,\"1453\":415,\"1454\":408,\"1455\":408,\"1456\":510,\"1457\":415,\"1458\":408,\"1459\":415,\"1460\":415,\"1461\":408,\"1462\":408,\"1463\":415,\"1464\":415,\"1465\":510,\"1466\":415,\"1467\":415,\"1468\":510,\"1469\":415,\"1470\":415,\"1471\":415,\"1472\":415,\"1473\":415,\"1474\":408,\"1475\":415,\"1476\":510,\"1477\":415,\"1478\":415,\"1479\":415,\"1480\":408,\"1481\":415,\"1482\":408,\"1483\":510,\"1484\":415,\"1485\":415,\"1486\":510,\"1487\":415,\"1488\":408,\"1489\":415,\"1490\":415,\"1491\":408,\"1492\":408,\"1493\":415,\"1494\":415,\"1495\":510,\"1496\":415,\"1497\":510,\"1498\":408,\"1499\":415,\"1500\":408,\"1501\":510,\"1502\":510,\"1503\":415,\"1504\":510,\"1505\":408,\"1506\":415,\"1507\":408,\"1508\":408,\"1509\":510,\"1510\":408,\"1511\":415,\"1512\":408,\"1513\":415,\"1514\":415,\"1515\":408,\"1516\":415,\"1517\":415,\"1518\":415,\"1519\":408,\"1520\":415,\"1521\":415,\"1522\":510,\"1523\":415,\"1524\":510,\"1525\":415,\"1526\":415,\"1527\":510,\"1528\":415,\"1529\":510,\"1530\":510,\"1531\":510,\"1532\":415,\"1533\":510,\"1534\":510,\"1535\":415,\"1536\":415,\"1537\":408,\"1538\":415,\"1539\":408,\"1540\":408,\"1541\":415,\"1542\":510,\"1543\":510,\"1544\":408,\"1545\":510,\"1546\":415,\"1547\":415,\"1548\":415,\"1549\":408,\"1550\":408,\"1551\":415,\"1552\":408,\"1553\":415,\"1554\":415,\"1555\":510,\"1556\":408,\"1557\":415,\"1558\":415,\"1559\":415,\"1560\":408,\"1561\":408,\"1562\":415,\"1563\":415,\"1564\":510,\"1565\":415,\"1566\":415,\"1567\":415,\"1568\":415,\"1569\":415,\"1570\":415,\"1571\":408,\"1572\":510,\"1573\":415,\"1574\":415,\"1575\":510,\"1576\":408,\"1577\":408,\"1578\":415,\"1579\":415,\"1580\":415,\"1581\":415,\"1582\":510,\"1583\":415,\"1584\":510,\"1585\":415,\"1586\":415,\"1587\":415,\"1588\":415,\"1589\":415,\"1590\":415,\"1591\":415,\"1592\":408,\"1593\":415,\"1594\":415,\"1595\":415,\"1596\":510,\"1597\":408,\"1598\":415,\"1599\":510,\"1600\":415,\"1601\":510,\"1602\":415,\"1603\":510,\"1604\":408,\"1605\":415,\"1606\":415,\"1607\":415,\"1608\":408,\"1609\":415,\"1610\":408,\"1611\":415,\"1612\":415,\"1613\":415,\"1614\":415,\"1615\":408,\"1616\":415,\"1617\":415,\"1618\":415,\"1619\":415,\"1620\":408,\"1621\":510,\"1622\":415,\"1623\":408,\"1624\":415,\"1625\":510,\"1626\":510,\"1627\":408,\"1628\":510,\"1629\":510,\"1630\":510,\"1631\":510,\"1632\":415,\"1633\":415,\"1634\":415,\"1635\":510,\"1636\":510,\"1637\":415,\"1638\":408,\"1639\":510,\"1640\":415,\"1641\":415,\"1642\":408,\"1643\":408,\"1644\":510,\"1645\":415,\"1646\":510,\"1647\":408,\"1648\":510,\"1649\":408,\"1650\":408,\"1651\":415,\"1652\":415,\"1653\":510,\"1654\":510,\"1655\":510,\"1656\":415,\"1657\":408,\"1658\":510,\"1659\":408,\"1660\":415,\"1661\":408,\"1662\":415,\"1663\":408,\"1664\":415,\"1665\":415,\"1666\":415,\"1667\":415,\"1668\":408,\"1669\":408,\"1670\":415,\"1671\":415,\"1672\":510,\"1673\":415,\"1674\":510,\"1675\":415,\"1676\":408,\"1677\":415,\"1678\":408,\"1679\":510,\"1680\":510,\"1681\":510,\"1682\":408,\"1683\":415,\"1684\":510,\"1685\":415,\"1686\":408,\"1687\":415,\"1688\":415,\"1689\":408,\"1690\":415,\"1691\":415,\"1692\":415,\"1693\":415,\"1694\":415,\"1695\":415,\"1696\":510,\"1697\":408,\"1698\":510,\"1699\":408,\"1700\":510,\"1701\":415,\"1702\":415,\"1703\":415,\"1704\":510,\"1705\":408,\"1706\":415,\"1707\":408,\"1708\":415,\"1709\":408,\"1710\":415,\"1711\":415,\"1712\":408,\"1713\":510,\"1714\":415,\"1715\":510,\"1716\":510,\"1717\":510,\"1718\":415,\"1719\":415,\"1720\":408,\"1721\":415,\"1722\":510,\"1723\":510,\"1724\":510,\"1725\":408,\"1726\":510,\"1727\":415,\"1728\":415,\"1729\":415,\"1730\":408,\"1731\":415,\"1732\":415,\"1733\":510,\"1734\":415,\"1735\":408,\"1736\":415,\"1737\":415,\"1738\":408,\"1739\":415,\"1740\":415,\"1741\":415,\"1742\":415,\"1743\":415,\"1744\":408,\"1745\":510,\"1746\":408,\"1747\":510,\"1748\":510,\"1749\":415,\"1750\":510,\"1751\":415,\"1752\":415,\"1753\":415,\"1754\":415,\"1755\":408,\"1756\":408,\"1757\":408,\"1758\":408,\"1759\":415,\"1760\":415,\"1761\":415,\"1762\":510,\"1763\":408,\"1764\":415,\"1765\":415,\"1766\":415,\"1767\":510,\"1768\":510,\"1769\":408,\"1770\":415,\"1771\":415,\"1772\":510,\"1773\":415,\"1774\":415,\"1775\":408,\"1776\":415,\"1777\":415,\"1778\":510,\"1779\":510,\"1780\":510,\"1781\":415,\"1782\":510,\"1783\":415,\"1784\":415,\"1785\":510,\"1786\":510,\"1787\":408,\"1788\":510,\"1789\":510,\"1790\":408,\"1791\":510,\"1792\":408,\"1793\":415,\"1794\":415,\"1795\":415,\"1796\":415,\"1797\":415,\"1798\":415,\"1799\":510,\"1800\":510,\"1801\":415,\"1802\":415,\"1803\":510,\"1804\":415,\"1805\":415,\"1806\":415,\"1807\":408,\"1808\":415,\"1809\":408,\"1810\":415,\"1811\":510,\"1812\":408,\"1813\":408,\"1814\":415,\"1815\":415,\"1816\":415,\"1817\":408,\"1818\":408,\"1819\":415,\"1820\":510,\"1821\":408,\"1822\":408,\"1823\":415,\"1824\":510,\"1825\":415,\"1826\":408,\"1827\":415,\"1828\":408,\"1829\":415,\"1830\":408,\"1831\":415,\"1832\":510,\"1833\":408,\"1834\":415,\"1835\":415,\"1836\":415,\"1837\":510,\"1838\":408,\"1839\":415,\"1840\":510,\"1841\":510,\"1842\":408,\"1843\":408,\"1844\":510,\"1845\":415,\"1846\":510,\"1847\":408,\"1848\":510,\"1849\":408,\"1850\":408,\"1851\":510,\"1852\":510,\"1853\":415,\"1854\":415,\"1855\":510,\"1856\":408,\"1857\":415,\"1858\":510,\"1859\":510,\"1860\":408,\"1861\":408,\"1862\":408,\"1863\":408,\"1864\":510,\"1865\":408,\"1866\":510,\"1867\":408,\"1868\":408,\"1869\":408,\"1870\":415,\"1871\":408,\"1872\":510,\"1873\":510,\"1874\":510,\"1875\":415,\"1876\":415,\"1877\":408,\"1878\":415,\"1879\":510,\"1880\":415,\"1881\":415,\"1882\":408,\"1883\":510,\"1884\":510,\"1885\":408,\"1886\":510,\"1887\":510,\"1888\":408,\"1889\":415,\"1890\":415,\"1891\":415,\"1892\":415,\"1893\":510,\"1894\":408,\"1895\":408,\"1896\":415,\"1897\":415,\"1898\":415,\"1899\":415,\"1900\":510,\"1901\":408,\"1902\":415,\"1903\":510,\"1904\":408,\"1905\":415,\"1906\":415,\"1907\":408,\"1908\":408,\"1909\":415,\"1910\":415,\"1911\":408,\"1912\":408,\"1913\":510,\"1914\":408,\"1915\":415,\"1916\":415,\"1917\":510,\"1918\":408,\"1919\":408,\"1920\":415,\"1921\":415,\"1922\":415,\"1923\":408,\"1924\":415,\"1925\":415,\"1926\":408,\"1927\":510,\"1928\":510,\"1929\":415,\"1930\":415,\"1931\":510,\"1932\":415,\"1933\":408,\"1934\":415,\"1935\":415,\"1936\":415,\"1937\":415,\"1938\":408,\"1939\":510,\"1940\":415,\"1941\":408,\"1942\":415,\"1943\":510,\"1944\":415,\"1945\":415,\"1946\":408,\"1947\":510,\"1948\":415,\"1949\":415,\"1950\":415,\"1951\":415,\"1952\":415,\"1953\":408,\"1954\":510,\"1955\":415,\"1956\":510,\"1957\":408,\"1958\":510,\"1959\":510,\"1960\":510,\"1961\":408,\"1962\":415,\"1963\":415,\"1964\":510,\"1965\":510,\"1966\":415,\"1967\":415,\"1968\":408,\"1969\":510,\"1970\":510,\"1971\":415,\"1972\":415,\"1973\":510,\"1974\":408,\"1975\":408,\"1976\":415,\"1977\":415,\"1978\":510,\"1979\":510,\"1980\":408,\"1981\":510,\"1982\":415,\"1983\":510,\"1984\":415,\"1985\":408,\"1986\":415,\"1987\":408,\"1988\":408,\"1989\":415,\"1990\":415,\"1991\":510,\"1992\":510,\"1993\":510,\"1994\":510,\"1995\":510,\"1996\":415,\"1997\":415,\"1998\":415,\"1999\":408,\"2000\":415,\"2001\":408,\"2002\":408,\"2003\":415,\"2004\":510,\"2005\":415,\"2006\":510,\"2007\":510,\"2008\":415,\"2009\":415,\"2010\":408,\"2011\":415,\"2012\":408,\"2013\":415,\"2014\":510,\"2015\":408,\"2016\":510,\"2017\":415,\"2018\":415,\"2019\":415,\"2020\":415,\"2021\":415,\"2022\":408,\"2023\":415,\"2024\":415,\"2025\":510,\"2026\":415,\"2027\":408,\"2028\":510,\"2029\":415,\"2030\":415,\"2031\":510,\"2032\":415,\"2033\":408,\"2034\":415,\"2035\":510,\"2036\":415,\"2037\":408,\"2038\":408,\"2039\":415,\"2040\":510,\"2041\":415,\"2042\":415,\"2043\":408,\"2044\":510,\"2045\":415,\"2046\":415,\"2047\":510,\"2048\":510,\"2049\":415,\"2050\":408,\"2051\":415,\"2052\":415,\"2053\":408,\"2054\":408,\"2055\":415,\"2056\":415,\"2057\":415,\"2058\":415,\"2059\":408,\"2060\":510,\"2061\":510,\"2062\":415,\"2063\":415,\"2064\":415,\"2065\":415,\"2066\":510,\"2067\":408,\"2068\":408,\"2069\":408,\"2070\":415,\"2071\":510,\"2072\":408,\"2073\":415,\"2074\":408,\"2075\":510,\"2076\":408,\"2077\":408,\"2078\":415,\"2079\":415,\"2080\":415,\"2081\":408,\"2082\":415,\"2083\":510,\"2084\":415,\"2085\":415,\"2086\":408,\"2087\":408,\"2088\":415,\"2089\":415,\"2090\":415,\"2091\":510,\"2092\":408,\"2093\":408,\"2094\":415,\"2095\":408,\"2096\":510,\"2097\":510,\"2098\":415,\"2099\":510,\"2100\":408,\"2101\":415,\"2102\":415,\"2103\":408,\"2104\":510,\"2105\":408,\"2106\":408,\"2107\":408,\"2108\":510,\"2109\":408,\"2110\":415,\"2111\":415,\"2112\":415,\"2113\":408,\"2114\":408,\"2115\":510,\"2116\":510,\"2117\":415,\"2118\":510,\"2119\":408,\"2120\":510,\"2121\":510,\"2122\":510,\"2123\":408,\"2124\":415,\"2125\":415,\"2126\":510,\"2127\":408,\"2128\":408,\"2129\":408,\"2130\":415,\"2131\":408,\"2132\":510,\"2133\":510,\"2134\":415,\"2135\":415,\"2136\":415,\"2137\":415,\"2138\":415,\"2139\":510,\"2140\":415,\"2141\":510,\"2142\":415,\"2143\":415,\"2144\":415,\"2145\":415,\"2146\":408,\"2147\":415,\"2148\":408,\"2149\":415,\"2150\":415,\"2151\":415,\"2152\":415,\"2153\":415,\"2154\":408,\"2155\":408,\"2156\":415,\"2157\":510,\"2158\":510,\"2159\":415,\"2160\":408,\"2161\":415,\"2162\":415,\"2163\":415,\"2164\":510,\"2165\":415,\"2166\":510,\"2167\":510,\"2168\":415,\"2169\":415,\"2170\":415,\"2171\":510,\"2172\":408,\"2173\":510,\"2174\":510,\"2175\":415,\"2176\":415,\"2177\":415,\"2178\":510,\"2179\":415,\"2180\":415,\"2181\":510,\"2182\":510,\"2183\":510,\"2184\":415,\"2185\":415,\"2186\":415,\"2187\":415,\"2188\":510,\"2189\":510,\"2190\":408,\"2191\":415,\"2192\":510,\"2193\":408,\"2194\":408,\"2195\":415,\"2196\":415,\"2197\":415,\"2198\":415,\"2199\":415,\"2200\":510,\"2201\":510,\"2202\":415,\"2203\":510,\"2204\":510,\"2205\":415,\"2206\":408,\"2207\":408,\"2208\":408,\"2209\":510,\"2210\":415,\"2211\":415,\"2212\":415,\"2213\":415,\"2214\":415,\"2215\":415,\"2216\":415,\"2217\":415,\"2218\":408,\"2219\":415,\"2220\":415,\"2221\":415,\"2222\":415,\"2223\":415,\"2224\":510,\"2225\":408,\"2226\":415,\"2227\":408,\"2228\":510,\"2229\":415,\"2230\":510,\"2231\":510,\"2232\":510,\"2233\":510,\"2234\":510,\"2235\":408,\"2236\":510,\"2237\":415,\"2238\":408,\"2239\":415,\"2240\":415,\"2241\":415,\"2242\":415,\"2243\":415,\"2244\":510,\"2245\":415,\"2246\":510,\"2247\":415,\"2248\":408,\"2249\":510,\"2250\":510,\"2251\":415,\"2252\":408,\"2253\":415,\"2254\":415,\"2255\":415,\"2256\":408,\"2257\":408,\"2258\":415,\"2259\":415,\"2260\":415,\"2261\":408,\"2262\":408,\"2263\":510,\"2264\":408,\"2265\":415,\"2266\":510,\"2267\":510,\"2268\":408,\"2269\":415,\"2270\":415,\"2271\":415,\"2272\":510,\"2273\":415,\"2274\":510,\"2275\":415,\"2276\":510,\"2277\":415,\"2278\":415,\"2279\":415,\"2280\":415,\"2281\":415,\"2282\":415,\"2283\":415,\"2284\":415,\"2285\":408,\"2286\":415,\"2287\":510,\"2288\":415,\"2289\":415,\"2290\":510,\"2291\":408,\"2292\":415,\"2293\":510,\"2294\":510,\"2295\":415,\"2296\":415,\"2297\":415,\"2298\":510,\"2299\":415,\"2300\":510,\"2301\":415,\"2302\":415,\"2303\":510,\"2304\":415,\"2305\":415,\"2306\":415,\"2307\":415,\"2308\":415,\"2309\":510,\"2310\":408,\"2311\":415,\"2312\":408,\"2313\":415,\"2314\":408,\"2315\":415,\"2316\":415,\"2317\":415,\"2318\":510,\"2319\":415,\"2320\":415,\"2321\":408,\"2322\":510,\"2323\":510,\"2324\":510,\"2325\":415,\"2326\":415,\"2327\":415,\"2328\":415,\"2329\":415,\"2330\":510,\"2331\":415,\"2332\":415,\"2333\":510,\"2334\":415,\"2335\":510,\"2336\":415,\"2337\":415,\"2338\":510,\"2339\":408,\"2340\":510,\"2341\":510,\"2342\":415,\"2343\":408,\"2344\":415,\"2345\":408,\"2346\":415,\"2347\":415,\"2348\":415,\"2349\":408,\"2350\":415,\"2351\":415,\"2352\":408,\"2353\":415,\"2354\":408,\"2355\":408,\"2356\":415,\"2357\":510,\"2358\":415,\"2359\":415,\"2360\":415,\"2361\":415,\"2362\":415,\"2363\":415,\"2364\":415,\"2365\":408,\"2366\":408,\"2367\":415,\"2368\":415,\"2369\":415,\"2370\":510,\"2371\":415,\"2372\":415,\"2373\":510,\"2374\":415,\"2375\":510,\"2376\":415,\"2377\":415,\"2378\":510,\"2379\":510,\"2380\":408,\"2381\":415,\"2382\":408,\"2383\":510,\"2384\":510,\"2385\":408,\"2386\":408,\"2387\":408,\"2388\":510,\"2389\":415,\"2390\":510,\"2391\":408,\"2392\":510,\"2393\":415,\"2394\":415,\"2395\":510,\"2396\":510,\"2397\":415,\"2398\":408,\"2399\":415,\"2400\":510,\"2401\":415,\"2402\":415,\"2403\":415,\"2404\":408,\"2405\":415,\"2406\":510,\"2407\":510,\"2408\":415,\"2409\":415,\"2410\":408,\"2411\":408,\"2412\":415,\"2413\":510,\"2414\":415,\"2415\":415,\"2416\":510,\"2417\":408,\"2418\":415,\"2419\":510,\"2420\":415,\"2421\":415,\"2422\":408,\"2423\":408,\"2424\":415,\"2425\":415,\"2426\":415,\"2427\":415,\"2428\":510,\"2429\":415,\"2430\":415,\"2431\":415,\"2432\":510,\"2433\":415,\"2434\":415,\"2435\":415,\"2436\":510,\"2437\":415,\"2438\":415,\"2439\":415,\"2440\":510,\"2441\":408,\"2442\":510,\"2443\":415,\"2444\":415,\"2445\":408,\"2446\":408,\"2447\":415,\"2448\":415,\"2449\":415,\"2450\":510,\"2451\":415,\"2452\":415,\"2453\":415,\"2454\":415,\"2455\":408,\"2456\":415,\"2457\":415,\"2458\":408,\"2459\":415,\"2460\":415,\"2461\":408,\"2462\":415,\"2463\":415,\"2464\":408,\"2465\":415,\"2466\":408,\"2467\":510,\"2468\":510,\"2469\":510,\"2470\":415,\"2471\":415,\"2472\":415,\"2473\":408,\"2474\":510,\"2475\":408,\"2476\":408,\"2477\":415,\"2478\":415,\"2479\":510,\"2480\":415,\"2481\":415,\"2482\":408,\"2483\":510,\"2484\":415,\"2485\":415,\"2486\":408,\"2487\":510,\"2488\":415,\"2489\":408,\"2490\":510,\"2491\":415,\"2492\":415,\"2493\":415,\"2494\":415,\"2495\":408,\"2496\":408,\"2497\":408,\"2498\":415,\"2499\":415,\"2500\":415,\"2501\":415,\"2502\":408,\"2503\":415,\"2504\":415,\"2505\":510,\"2506\":415,\"2507\":408,\"2508\":510,\"2509\":408,\"2510\":408,\"2511\":408,\"2512\":408,\"2513\":510,\"2514\":408,\"2515\":510,\"2516\":510,\"2517\":415,\"2518\":415,\"2519\":415,\"2520\":408,\"2521\":415,\"2522\":415,\"2523\":510,\"2524\":415,\"2525\":510,\"2526\":510,\"2527\":408,\"2528\":510,\"2529\":415,\"2530\":510,\"2531\":415,\"2532\":415,\"2533\":415,\"2534\":408,\"2535\":408,\"2536\":408,\"2537\":415,\"2538\":408,\"2539\":415,\"2540\":415,\"2541\":408,\"2542\":510,\"2543\":408,\"2544\":415,\"2545\":510,\"2546\":408,\"2547\":415,\"2548\":408,\"2549\":408,\"2550\":408,\"2551\":415,\"2552\":408,\"2553\":408,\"2554\":415,\"2555\":408,\"2556\":510,\"2557\":415,\"2558\":408,\"2559\":510,\"2560\":415,\"2561\":510,\"2562\":510,\"2563\":415,\"2564\":510,\"2565\":510,\"2566\":408,\"2567\":415,\"2568\":510,\"2569\":415,\"2570\":415,\"2571\":510,\"2572\":415,\"2573\":415,\"2574\":415,\"2575\":415,\"2576\":415,\"2577\":510,\"2578\":510,\"2579\":415,\"2580\":510,\"2581\":415,\"2582\":510,\"2583\":415,\"2584\":510,\"2585\":510,\"2586\":415,\"2587\":510,\"2588\":510,\"2589\":415,\"2590\":510,\"2591\":408,\"2592\":415,\"2593\":408,\"2594\":510,\"2595\":408,\"2596\":408,\"2597\":415,\"2598\":415,\"2599\":510,\"2600\":408,\"2601\":408,\"2602\":510,\"2603\":415,\"2604\":415,\"2605\":415,\"2606\":415,\"2607\":415,\"2608\":408,\"2609\":415,\"2610\":415,\"2611\":510,\"2612\":510,\"2613\":415,\"2614\":415,\"2615\":415,\"2616\":415,\"2617\":415,\"2618\":510,\"2619\":408,\"2620\":415,\"2621\":415,\"2622\":510,\"2623\":415,\"2624\":415,\"2625\":408,\"2626\":408,\"2627\":408,\"2628\":415,\"2629\":415,\"2630\":408,\"2631\":408,\"2632\":415,\"2633\":415,\"2634\":415,\"2635\":510,\"2636\":4...(truncated)"
   ]
  },
  {
   "cell_type": "code",
   "execution_count": null,
   "id": "1c57cacf-e08a-4c93-875d-378dea5407cc",
   "metadata": {},
   "outputs": [],
   "source": []
  }
 ],
 "metadata": {
  "kernelspec": {
   "display_name": "",
   "name": ""
  },
  "language_info": {
   "name": ""
  }
 },
 "nbformat": 4,
 "nbformat_minor": 5
}
